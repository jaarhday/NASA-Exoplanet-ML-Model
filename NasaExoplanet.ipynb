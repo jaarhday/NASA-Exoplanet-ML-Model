{
  "nbformat": 4,
  "nbformat_minor": 0,
  "metadata": {
    "colab": {
      "provenance": [],
      "collapsed_sections": [
        "lZbVozmOD5Z-"
      ],
      "authorship_tag": "ABX9TyOi85XxUZQLNjaqCZyemXiC",
      "include_colab_link": true
    },
    "kernelspec": {
      "name": "python3",
      "display_name": "Python 3"
    },
    "language_info": {
      "name": "python"
    }
  },
  "cells": [
    {
      "cell_type": "markdown",
      "metadata": {
        "id": "view-in-github",
        "colab_type": "text"
      },
      "source": [
        "<a href=\"https://colab.research.google.com/github/jaarhday/NASA-Exoplanet-ML-Model/blob/main/NasaExoplanet.ipynb\" target=\"_parent\"><img src=\"https://colab.research.google.com/assets/colab-badge.svg\" alt=\"Open In Colab\"/></a>"
      ]
    },
    {
      "cell_type": "markdown",
      "source": [
        "# Data Exploration\n"
      ],
      "metadata": {
        "id": "YwiKcpP_8J6v"
      }
    },
    {
      "cell_type": "code",
      "execution_count": 163,
      "metadata": {
        "id": "fQ5KhMRi8GlN"
      },
      "outputs": [],
      "source": [
        "#First, import the data using pandas into a dataframe. For simplicity, we will use df\n",
        "#mport pandas as pd\n",
        "#df = pd.read_csv(\"/content/k2pandc_2024.02.10_10.46.27.csv\", header=None)"
      ]
    },
    {
      "cell_type": "code",
      "source": [
        "import pandas as pd\n",
        "\n",
        "# Column names extracted from your description\n",
        "column_names = [\"pl_name\", \"hostname\", \"default_flag\", \"disposition\", \"disp_refname\", \"sy_snum\", \"sy_pnum\",\n",
        "                \"discoverymethod\", \"disc_year\", \"disc_facility\", \"soltype\", \"pl_controv_flag\", \"pl_refname\",\n",
        "                \"pl_orbper\", \"pl_orbpererr1\", \"pl_orbpererr2\", \"pl_orbperlim\", \"pl_orbsmax\", \"pl_orbsmaxerr1\",\n",
        "                \"pl_orbsmaxerr2\", \"pl_orbsmaxlim\", \"pl_rade\", \"pl_radeerr1\", \"pl_radeerr2\", \"pl_radelim\",\n",
        "                \"pl_radj\", \"pl_radjerr1\", \"pl_radjerr2\", \"pl_radjlim\", \"pl_bmasse\", \"pl_bmasseerr1\", \"pl_bmasseerr2\",\n",
        "                \"pl_bmasselim\", \"pl_bmassj\", \"pl_bmassjerr1\", \"pl_bmassjerr2\", \"pl_bmassjlim\", \"pl_bmassprov\",\n",
        "                \"pl_orbeccen\", \"pl_orbeccenerr1\", \"pl_orbeccenerr2\", \"pl_orbeccenlim\", \"pl_insol\", \"pl_insolerr1\",\n",
        "                \"pl_insolerr2\", \"pl_insollim\", \"pl_eqt\", \"pl_eqterr1\", \"pl_eqterr2\", \"pl_eqtlim\", \"ttv_flag\",\n",
        "                \"st_refname\", \"st_spectype\", \"st_teff\", \"st_tefferr1\", \"st_tefferr2\", \"st_tefflim\", \"st_rad\",\n",
        "                \"st_raderr1\", \"st_raderr2\", \"st_radlim\", \"st_mass\", \"st_masserr1\", \"st_masserr2\", \"st_masslim\",\n",
        "                \"st_met\", \"st_meterr1\", \"st_meterr2\", \"st_metlim\", \"st_metratio\", \"st_logg\", \"st_loggerr1\",\n",
        "                \"st_loggerr2\", \"st_logglim\", \"sy_refname\", \"rastr\", \"ra\", \"decstr\", \"dec\", \"sy_dist\", \"sy_disterr1\",\n",
        "                \"sy_disterr2\", \"sy_vmag\", \"sy_vmagerr1\", \"sy_vmagerr2\", \"sy_kmag\", \"sy_kmagerr1\", \"sy_kmagerr2\",\n",
        "                \"sy_gaiamag\", \"sy_gaiamagerr1\", \"sy_gaiamagerr2\", \"rowupdate\", \"pl_pubdate\", \"releasedate\"]\n",
        "\n",
        "# Read the CSV file with the specified column names\n",
        "df = pd.read_csv(\"/content/k2pandc_2024.02.10_10.46.27.csv\", names=column_names)\n",
        "\n",
        "# Display the dataframe\n",
        "print(df)\n"
      ],
      "metadata": {
        "colab": {
          "base_uri": "https://localhost:8080/"
        },
        "id": "w5SOj-CWXyyt",
        "outputId": "0e205d09-9e8e-4b62-d442-0ede5d687e37"
      },
      "execution_count": 164,
      "outputs": [
        {
          "output_type": "stream",
          "name": "stdout",
          "text": [
            "                pl_name        hostname  default_flag     disposition  \\\n",
            "0     EPIC 201111557.01  EPIC 201111557             1       CANDIDATE   \n",
            "1     EPIC 201111557.01  EPIC 201111557             0       CANDIDATE   \n",
            "2     EPIC 201126503.01  EPIC 201126503             1       CANDIDATE   \n",
            "3     EPIC 201127519.01  EPIC 201127519             1       CANDIDATE   \n",
            "4     EPIC 201127519.01  EPIC 201127519             0       CANDIDATE   \n",
            "...                 ...             ...           ...             ...   \n",
            "3769            K2-76 b           K2-76             0  FALSE POSITIVE   \n",
            "3770            K2-78 b           K2-78             1  FALSE POSITIVE   \n",
            "3771            K2-78 b           K2-78             0  FALSE POSITIVE   \n",
            "3772            K2-82 b           K2-82             1  FALSE POSITIVE   \n",
            "3773            K2-92 b           K2-92             1  FALSE POSITIVE   \n",
            "\n",
            "                disp_refname  sy_snum  sy_pnum discoverymethod  disc_year  \\\n",
            "0     Livingston et al. 2018        1        0         Transit       2018   \n",
            "1     Livingston et al. 2018        1        0         Transit       2018   \n",
            "2     Vanderburg et al. 2016        1        0         Transit       2016   \n",
            "3     Livingston et al. 2018        1        0         Transit       2018   \n",
            "4     Livingston et al. 2018        1        0         Transit       2018   \n",
            "...                      ...      ...      ...             ...        ...   \n",
            "3769       Kruse et al. 2019        1        0         Transit       2016   \n",
            "3770  Crossfield et al. 2016        1        0         Transit       2016   \n",
            "3771  Crossfield et al. 2016        1        0         Transit       2016   \n",
            "3772  Crossfield et al. 2016        1        0         Transit       2016   \n",
            "3773  Crossfield et al. 2016        1        0         Transit       2016   \n",
            "\n",
            "     disc_facility  ... sy_vmagerr2  sy_kmag sy_kmagerr1  sy_kmagerr2  \\\n",
            "0               K2  ...      -0.046    9.220       0.019       -0.019   \n",
            "1               K2  ...      -0.046    9.220       0.019       -0.019   \n",
            "2               K2  ...      -0.200   14.230       0.070       -0.070   \n",
            "3               K2  ...      -0.046    9.430       0.021       -0.021   \n",
            "4               K2  ...      -0.046    9.430       0.021       -0.021   \n",
            "...            ...  ...         ...      ...         ...          ...   \n",
            "3769            K2  ...      -0.069   11.484       0.023       -0.023   \n",
            "3770            K2  ...      -0.114    9.890       0.018       -0.018   \n",
            "3771            K2  ...      -0.114    9.890       0.018       -0.018   \n",
            "3772            K2  ...      -0.126   10.886       0.018       -0.018   \n",
            "3773            K2  ...      -0.069   10.237       0.018       -0.018   \n",
            "\n",
            "      sy_gaiamag  sy_gaiamagerr1  sy_gaiamagerr2  rowupdate  pl_pubdate  \\\n",
            "0        11.3995        0.001307       -0.001307   8/2/2018     2018-08   \n",
            "1        11.3995        0.001307       -0.001307  2/15/2018     2018-03   \n",
            "2        17.8892        0.001662       -0.001662  12/5/2015     2016-01   \n",
            "3        11.4806        0.000478       -0.000478   8/2/2018     2018-08   \n",
            "4        11.4806        0.000478       -0.000478  2/15/2018     2018-03   \n",
            "...          ...             ...             ...        ...         ...   \n",
            "3769     13.0146        0.000813       -0.000813   6/9/2016     2016-06   \n",
            "3770     11.8935        0.000266       -0.000266  7/18/2016     2016-09   \n",
            "3771     11.8935        0.000266       -0.000266   8/9/2022     2017-07   \n",
            "3772     13.5505        0.000280       -0.000280  7/18/2016     2016-09   \n",
            "3773     12.2109        0.000203       -0.000203  7/18/2016     2016-09   \n",
            "\n",
            "      releasedate  \n",
            "0        8/2/2018  \n",
            "1       2/15/2018  \n",
            "2       12/5/2015  \n",
            "3        8/2/2018  \n",
            "4       2/15/2018  \n",
            "...           ...  \n",
            "3769     6/9/2016  \n",
            "3770    7/18/2016  \n",
            "3771     8/9/2022  \n",
            "3772    7/18/2016  \n",
            "3773    7/18/2016  \n",
            "\n",
            "[3774 rows x 94 columns]\n"
          ]
        }
      ]
    },
    {
      "cell_type": "code",
      "source": [
        "# Now, lets look at the first 5 rows and see what each row and column looks like\n",
        "df.head()"
      ],
      "metadata": {
        "colab": {
          "base_uri": "https://localhost:8080/",
          "height": 342
        },
        "id": "p1O1h2qe9YEt",
        "outputId": "1fda0c46-2be1-43ca-ccd3-f4bb9e34a577"
      },
      "execution_count": 165,
      "outputs": [
        {
          "output_type": "execute_result",
          "data": {
            "text/plain": [
              "             pl_name        hostname  default_flag disposition  \\\n",
              "0  EPIC 201111557.01  EPIC 201111557             1   CANDIDATE   \n",
              "1  EPIC 201111557.01  EPIC 201111557             0   CANDIDATE   \n",
              "2  EPIC 201126503.01  EPIC 201126503             1   CANDIDATE   \n",
              "3  EPIC 201127519.01  EPIC 201127519             1   CANDIDATE   \n",
              "4  EPIC 201127519.01  EPIC 201127519             0   CANDIDATE   \n",
              "\n",
              "             disp_refname  sy_snum  sy_pnum discoverymethod  disc_year  \\\n",
              "0  Livingston et al. 2018        1        0         Transit       2018   \n",
              "1  Livingston et al. 2018        1        0         Transit       2018   \n",
              "2  Vanderburg et al. 2016        1        0         Transit       2016   \n",
              "3  Livingston et al. 2018        1        0         Transit       2018   \n",
              "4  Livingston et al. 2018        1        0         Transit       2018   \n",
              "\n",
              "  disc_facility  ... sy_vmagerr2  sy_kmag sy_kmagerr1  sy_kmagerr2  \\\n",
              "0            K2  ...      -0.046     9.22       0.019       -0.019   \n",
              "1            K2  ...      -0.046     9.22       0.019       -0.019   \n",
              "2            K2  ...      -0.200    14.23       0.070       -0.070   \n",
              "3            K2  ...      -0.046     9.43       0.021       -0.021   \n",
              "4            K2  ...      -0.046     9.43       0.021       -0.021   \n",
              "\n",
              "   sy_gaiamag  sy_gaiamagerr1  sy_gaiamagerr2  rowupdate  pl_pubdate  \\\n",
              "0     11.3995        0.001307       -0.001307   8/2/2018     2018-08   \n",
              "1     11.3995        0.001307       -0.001307  2/15/2018     2018-03   \n",
              "2     17.8892        0.001662       -0.001662  12/5/2015     2016-01   \n",
              "3     11.4806        0.000478       -0.000478   8/2/2018     2018-08   \n",
              "4     11.4806        0.000478       -0.000478  2/15/2018     2018-03   \n",
              "\n",
              "   releasedate  \n",
              "0     8/2/2018  \n",
              "1    2/15/2018  \n",
              "2    12/5/2015  \n",
              "3     8/2/2018  \n",
              "4    2/15/2018  \n",
              "\n",
              "[5 rows x 94 columns]"
            ],
            "text/html": [
              "\n",
              "  <div id=\"df-e8a3219d-e1b8-4dd5-9e14-bd738007506b\" class=\"colab-df-container\">\n",
              "    <div>\n",
              "<style scoped>\n",
              "    .dataframe tbody tr th:only-of-type {\n",
              "        vertical-align: middle;\n",
              "    }\n",
              "\n",
              "    .dataframe tbody tr th {\n",
              "        vertical-align: top;\n",
              "    }\n",
              "\n",
              "    .dataframe thead th {\n",
              "        text-align: right;\n",
              "    }\n",
              "</style>\n",
              "<table border=\"1\" class=\"dataframe\">\n",
              "  <thead>\n",
              "    <tr style=\"text-align: right;\">\n",
              "      <th></th>\n",
              "      <th>pl_name</th>\n",
              "      <th>hostname</th>\n",
              "      <th>default_flag</th>\n",
              "      <th>disposition</th>\n",
              "      <th>disp_refname</th>\n",
              "      <th>sy_snum</th>\n",
              "      <th>sy_pnum</th>\n",
              "      <th>discoverymethod</th>\n",
              "      <th>disc_year</th>\n",
              "      <th>disc_facility</th>\n",
              "      <th>...</th>\n",
              "      <th>sy_vmagerr2</th>\n",
              "      <th>sy_kmag</th>\n",
              "      <th>sy_kmagerr1</th>\n",
              "      <th>sy_kmagerr2</th>\n",
              "      <th>sy_gaiamag</th>\n",
              "      <th>sy_gaiamagerr1</th>\n",
              "      <th>sy_gaiamagerr2</th>\n",
              "      <th>rowupdate</th>\n",
              "      <th>pl_pubdate</th>\n",
              "      <th>releasedate</th>\n",
              "    </tr>\n",
              "  </thead>\n",
              "  <tbody>\n",
              "    <tr>\n",
              "      <th>0</th>\n",
              "      <td>EPIC 201111557.01</td>\n",
              "      <td>EPIC 201111557</td>\n",
              "      <td>1</td>\n",
              "      <td>CANDIDATE</td>\n",
              "      <td>Livingston et al. 2018</td>\n",
              "      <td>1</td>\n",
              "      <td>0</td>\n",
              "      <td>Transit</td>\n",
              "      <td>2018</td>\n",
              "      <td>K2</td>\n",
              "      <td>...</td>\n",
              "      <td>-0.046</td>\n",
              "      <td>9.22</td>\n",
              "      <td>0.019</td>\n",
              "      <td>-0.019</td>\n",
              "      <td>11.3995</td>\n",
              "      <td>0.001307</td>\n",
              "      <td>-0.001307</td>\n",
              "      <td>8/2/2018</td>\n",
              "      <td>2018-08</td>\n",
              "      <td>8/2/2018</td>\n",
              "    </tr>\n",
              "    <tr>\n",
              "      <th>1</th>\n",
              "      <td>EPIC 201111557.01</td>\n",
              "      <td>EPIC 201111557</td>\n",
              "      <td>0</td>\n",
              "      <td>CANDIDATE</td>\n",
              "      <td>Livingston et al. 2018</td>\n",
              "      <td>1</td>\n",
              "      <td>0</td>\n",
              "      <td>Transit</td>\n",
              "      <td>2018</td>\n",
              "      <td>K2</td>\n",
              "      <td>...</td>\n",
              "      <td>-0.046</td>\n",
              "      <td>9.22</td>\n",
              "      <td>0.019</td>\n",
              "      <td>-0.019</td>\n",
              "      <td>11.3995</td>\n",
              "      <td>0.001307</td>\n",
              "      <td>-0.001307</td>\n",
              "      <td>2/15/2018</td>\n",
              "      <td>2018-03</td>\n",
              "      <td>2/15/2018</td>\n",
              "    </tr>\n",
              "    <tr>\n",
              "      <th>2</th>\n",
              "      <td>EPIC 201126503.01</td>\n",
              "      <td>EPIC 201126503</td>\n",
              "      <td>1</td>\n",
              "      <td>CANDIDATE</td>\n",
              "      <td>Vanderburg et al. 2016</td>\n",
              "      <td>1</td>\n",
              "      <td>0</td>\n",
              "      <td>Transit</td>\n",
              "      <td>2016</td>\n",
              "      <td>K2</td>\n",
              "      <td>...</td>\n",
              "      <td>-0.200</td>\n",
              "      <td>14.23</td>\n",
              "      <td>0.070</td>\n",
              "      <td>-0.070</td>\n",
              "      <td>17.8892</td>\n",
              "      <td>0.001662</td>\n",
              "      <td>-0.001662</td>\n",
              "      <td>12/5/2015</td>\n",
              "      <td>2016-01</td>\n",
              "      <td>12/5/2015</td>\n",
              "    </tr>\n",
              "    <tr>\n",
              "      <th>3</th>\n",
              "      <td>EPIC 201127519.01</td>\n",
              "      <td>EPIC 201127519</td>\n",
              "      <td>1</td>\n",
              "      <td>CANDIDATE</td>\n",
              "      <td>Livingston et al. 2018</td>\n",
              "      <td>1</td>\n",
              "      <td>0</td>\n",
              "      <td>Transit</td>\n",
              "      <td>2018</td>\n",
              "      <td>K2</td>\n",
              "      <td>...</td>\n",
              "      <td>-0.046</td>\n",
              "      <td>9.43</td>\n",
              "      <td>0.021</td>\n",
              "      <td>-0.021</td>\n",
              "      <td>11.4806</td>\n",
              "      <td>0.000478</td>\n",
              "      <td>-0.000478</td>\n",
              "      <td>8/2/2018</td>\n",
              "      <td>2018-08</td>\n",
              "      <td>8/2/2018</td>\n",
              "    </tr>\n",
              "    <tr>\n",
              "      <th>4</th>\n",
              "      <td>EPIC 201127519.01</td>\n",
              "      <td>EPIC 201127519</td>\n",
              "      <td>0</td>\n",
              "      <td>CANDIDATE</td>\n",
              "      <td>Livingston et al. 2018</td>\n",
              "      <td>1</td>\n",
              "      <td>0</td>\n",
              "      <td>Transit</td>\n",
              "      <td>2018</td>\n",
              "      <td>K2</td>\n",
              "      <td>...</td>\n",
              "      <td>-0.046</td>\n",
              "      <td>9.43</td>\n",
              "      <td>0.021</td>\n",
              "      <td>-0.021</td>\n",
              "      <td>11.4806</td>\n",
              "      <td>0.000478</td>\n",
              "      <td>-0.000478</td>\n",
              "      <td>2/15/2018</td>\n",
              "      <td>2018-03</td>\n",
              "      <td>2/15/2018</td>\n",
              "    </tr>\n",
              "  </tbody>\n",
              "</table>\n",
              "<p>5 rows × 94 columns</p>\n",
              "</div>\n",
              "    <div class=\"colab-df-buttons\">\n",
              "\n",
              "  <div class=\"colab-df-container\">\n",
              "    <button class=\"colab-df-convert\" onclick=\"convertToInteractive('df-e8a3219d-e1b8-4dd5-9e14-bd738007506b')\"\n",
              "            title=\"Convert this dataframe to an interactive table.\"\n",
              "            style=\"display:none;\">\n",
              "\n",
              "  <svg xmlns=\"http://www.w3.org/2000/svg\" height=\"24px\" viewBox=\"0 -960 960 960\">\n",
              "    <path d=\"M120-120v-720h720v720H120Zm60-500h600v-160H180v160Zm220 220h160v-160H400v160Zm0 220h160v-160H400v160ZM180-400h160v-160H180v160Zm440 0h160v-160H620v160ZM180-180h160v-160H180v160Zm440 0h160v-160H620v160Z\"/>\n",
              "  </svg>\n",
              "    </button>\n",
              "\n",
              "  <style>\n",
              "    .colab-df-container {\n",
              "      display:flex;\n",
              "      gap: 12px;\n",
              "    }\n",
              "\n",
              "    .colab-df-convert {\n",
              "      background-color: #E8F0FE;\n",
              "      border: none;\n",
              "      border-radius: 50%;\n",
              "      cursor: pointer;\n",
              "      display: none;\n",
              "      fill: #1967D2;\n",
              "      height: 32px;\n",
              "      padding: 0 0 0 0;\n",
              "      width: 32px;\n",
              "    }\n",
              "\n",
              "    .colab-df-convert:hover {\n",
              "      background-color: #E2EBFA;\n",
              "      box-shadow: 0px 1px 2px rgba(60, 64, 67, 0.3), 0px 1px 3px 1px rgba(60, 64, 67, 0.15);\n",
              "      fill: #174EA6;\n",
              "    }\n",
              "\n",
              "    .colab-df-buttons div {\n",
              "      margin-bottom: 4px;\n",
              "    }\n",
              "\n",
              "    [theme=dark] .colab-df-convert {\n",
              "      background-color: #3B4455;\n",
              "      fill: #D2E3FC;\n",
              "    }\n",
              "\n",
              "    [theme=dark] .colab-df-convert:hover {\n",
              "      background-color: #434B5C;\n",
              "      box-shadow: 0px 1px 3px 1px rgba(0, 0, 0, 0.15);\n",
              "      filter: drop-shadow(0px 1px 2px rgba(0, 0, 0, 0.3));\n",
              "      fill: #FFFFFF;\n",
              "    }\n",
              "  </style>\n",
              "\n",
              "    <script>\n",
              "      const buttonEl =\n",
              "        document.querySelector('#df-e8a3219d-e1b8-4dd5-9e14-bd738007506b button.colab-df-convert');\n",
              "      buttonEl.style.display =\n",
              "        google.colab.kernel.accessAllowed ? 'block' : 'none';\n",
              "\n",
              "      async function convertToInteractive(key) {\n",
              "        const element = document.querySelector('#df-e8a3219d-e1b8-4dd5-9e14-bd738007506b');\n",
              "        const dataTable =\n",
              "          await google.colab.kernel.invokeFunction('convertToInteractive',\n",
              "                                                    [key], {});\n",
              "        if (!dataTable) return;\n",
              "\n",
              "        const docLinkHtml = 'Like what you see? Visit the ' +\n",
              "          '<a target=\"_blank\" href=https://colab.research.google.com/notebooks/data_table.ipynb>data table notebook</a>'\n",
              "          + ' to learn more about interactive tables.';\n",
              "        element.innerHTML = '';\n",
              "        dataTable['output_type'] = 'display_data';\n",
              "        await google.colab.output.renderOutput(dataTable, element);\n",
              "        const docLink = document.createElement('div');\n",
              "        docLink.innerHTML = docLinkHtml;\n",
              "        element.appendChild(docLink);\n",
              "      }\n",
              "    </script>\n",
              "  </div>\n",
              "\n",
              "\n",
              "<div id=\"df-5511681a-cdd2-4265-a095-7fba3e9e2ac8\">\n",
              "  <button class=\"colab-df-quickchart\" onclick=\"quickchart('df-5511681a-cdd2-4265-a095-7fba3e9e2ac8')\"\n",
              "            title=\"Suggest charts\"\n",
              "            style=\"display:none;\">\n",
              "\n",
              "<svg xmlns=\"http://www.w3.org/2000/svg\" height=\"24px\"viewBox=\"0 0 24 24\"\n",
              "     width=\"24px\">\n",
              "    <g>\n",
              "        <path d=\"M19 3H5c-1.1 0-2 .9-2 2v14c0 1.1.9 2 2 2h14c1.1 0 2-.9 2-2V5c0-1.1-.9-2-2-2zM9 17H7v-7h2v7zm4 0h-2V7h2v10zm4 0h-2v-4h2v4z\"/>\n",
              "    </g>\n",
              "</svg>\n",
              "  </button>\n",
              "\n",
              "<style>\n",
              "  .colab-df-quickchart {\n",
              "      --bg-color: #E8F0FE;\n",
              "      --fill-color: #1967D2;\n",
              "      --hover-bg-color: #E2EBFA;\n",
              "      --hover-fill-color: #174EA6;\n",
              "      --disabled-fill-color: #AAA;\n",
              "      --disabled-bg-color: #DDD;\n",
              "  }\n",
              "\n",
              "  [theme=dark] .colab-df-quickchart {\n",
              "      --bg-color: #3B4455;\n",
              "      --fill-color: #D2E3FC;\n",
              "      --hover-bg-color: #434B5C;\n",
              "      --hover-fill-color: #FFFFFF;\n",
              "      --disabled-bg-color: #3B4455;\n",
              "      --disabled-fill-color: #666;\n",
              "  }\n",
              "\n",
              "  .colab-df-quickchart {\n",
              "    background-color: var(--bg-color);\n",
              "    border: none;\n",
              "    border-radius: 50%;\n",
              "    cursor: pointer;\n",
              "    display: none;\n",
              "    fill: var(--fill-color);\n",
              "    height: 32px;\n",
              "    padding: 0;\n",
              "    width: 32px;\n",
              "  }\n",
              "\n",
              "  .colab-df-quickchart:hover {\n",
              "    background-color: var(--hover-bg-color);\n",
              "    box-shadow: 0 1px 2px rgba(60, 64, 67, 0.3), 0 1px 3px 1px rgba(60, 64, 67, 0.15);\n",
              "    fill: var(--button-hover-fill-color);\n",
              "  }\n",
              "\n",
              "  .colab-df-quickchart-complete:disabled,\n",
              "  .colab-df-quickchart-complete:disabled:hover {\n",
              "    background-color: var(--disabled-bg-color);\n",
              "    fill: var(--disabled-fill-color);\n",
              "    box-shadow: none;\n",
              "  }\n",
              "\n",
              "  .colab-df-spinner {\n",
              "    border: 2px solid var(--fill-color);\n",
              "    border-color: transparent;\n",
              "    border-bottom-color: var(--fill-color);\n",
              "    animation:\n",
              "      spin 1s steps(1) infinite;\n",
              "  }\n",
              "\n",
              "  @keyframes spin {\n",
              "    0% {\n",
              "      border-color: transparent;\n",
              "      border-bottom-color: var(--fill-color);\n",
              "      border-left-color: var(--fill-color);\n",
              "    }\n",
              "    20% {\n",
              "      border-color: transparent;\n",
              "      border-left-color: var(--fill-color);\n",
              "      border-top-color: var(--fill-color);\n",
              "    }\n",
              "    30% {\n",
              "      border-color: transparent;\n",
              "      border-left-color: var(--fill-color);\n",
              "      border-top-color: var(--fill-color);\n",
              "      border-right-color: var(--fill-color);\n",
              "    }\n",
              "    40% {\n",
              "      border-color: transparent;\n",
              "      border-right-color: var(--fill-color);\n",
              "      border-top-color: var(--fill-color);\n",
              "    }\n",
              "    60% {\n",
              "      border-color: transparent;\n",
              "      border-right-color: var(--fill-color);\n",
              "    }\n",
              "    80% {\n",
              "      border-color: transparent;\n",
              "      border-right-color: var(--fill-color);\n",
              "      border-bottom-color: var(--fill-color);\n",
              "    }\n",
              "    90% {\n",
              "      border-color: transparent;\n",
              "      border-bottom-color: var(--fill-color);\n",
              "    }\n",
              "  }\n",
              "</style>\n",
              "\n",
              "  <script>\n",
              "    async function quickchart(key) {\n",
              "      const quickchartButtonEl =\n",
              "        document.querySelector('#' + key + ' button');\n",
              "      quickchartButtonEl.disabled = true;  // To prevent multiple clicks.\n",
              "      quickchartButtonEl.classList.add('colab-df-spinner');\n",
              "      try {\n",
              "        const charts = await google.colab.kernel.invokeFunction(\n",
              "            'suggestCharts', [key], {});\n",
              "      } catch (error) {\n",
              "        console.error('Error during call to suggestCharts:', error);\n",
              "      }\n",
              "      quickchartButtonEl.classList.remove('colab-df-spinner');\n",
              "      quickchartButtonEl.classList.add('colab-df-quickchart-complete');\n",
              "    }\n",
              "    (() => {\n",
              "      let quickchartButtonEl =\n",
              "        document.querySelector('#df-5511681a-cdd2-4265-a095-7fba3e9e2ac8 button');\n",
              "      quickchartButtonEl.style.display =\n",
              "        google.colab.kernel.accessAllowed ? 'block' : 'none';\n",
              "    })();\n",
              "  </script>\n",
              "</div>\n",
              "\n",
              "    </div>\n",
              "  </div>\n"
            ]
          },
          "metadata": {},
          "execution_count": 165
        }
      ]
    },
    {
      "cell_type": "code",
      "source": [
        "# look at what the data types are, this will help us decide what kind of model to use\n",
        "df.dtypes"
      ],
      "metadata": {
        "colab": {
          "base_uri": "https://localhost:8080/"
        },
        "id": "dg63ariA9mgI",
        "outputId": "9575dc4b-54c1-4d13-96db-e4488c0c002c"
      },
      "execution_count": 166,
      "outputs": [
        {
          "output_type": "execute_result",
          "data": {
            "text/plain": [
              "pl_name            object\n",
              "hostname           object\n",
              "default_flag        int64\n",
              "disposition        object\n",
              "disp_refname       object\n",
              "                   ...   \n",
              "sy_gaiamagerr1    float64\n",
              "sy_gaiamagerr2    float64\n",
              "rowupdate          object\n",
              "pl_pubdate         object\n",
              "releasedate        object\n",
              "Length: 94, dtype: object"
            ]
          },
          "metadata": {},
          "execution_count": 166
        }
      ]
    },
    {
      "cell_type": "code",
      "source": [
        "df[\"disposition\"].value_counts()"
      ],
      "metadata": {
        "colab": {
          "base_uri": "https://localhost:8080/"
        },
        "id": "7CXyRtktkNRT",
        "outputId": "1c012c57-8bcb-4eb5-8760-8784a2cd407d"
      },
      "execution_count": 167,
      "outputs": [
        {
          "output_type": "execute_result",
          "data": {
            "text/plain": [
              "CONFIRMED         2093\n",
              "CANDIDATE         1370\n",
              "FALSE POSITIVE     311\n",
              "Name: disposition, dtype: int64"
            ]
          },
          "metadata": {},
          "execution_count": 167
        }
      ]
    },
    {
      "cell_type": "markdown",
      "source": [
        "The above code section is important, since we want to find if candidate is an exo planet or not. We will use this further down to split up the data set, so we are training on 'CONFIRMED' and 'FALSE POSITIVES', and our target will be our Candidates. In the Data Manipulation section, I take out candidates so we can test on those exclusively."
      ],
      "metadata": {
        "id": "El6wU8d-kXw5"
      }
    },
    {
      "cell_type": "code",
      "source": [
        "# Let's see exactly what kind of data type each column is, and determine if there are missing values in the dataset (this is important to know, to choose which algorithm to use)\n",
        "df.info()"
      ],
      "metadata": {
        "colab": {
          "base_uri": "https://localhost:8080/"
        },
        "id": "dSMnAbH4Hkgz",
        "outputId": "2329f573-3740-47d9-993b-394049c1bf03"
      },
      "execution_count": 168,
      "outputs": [
        {
          "output_type": "stream",
          "name": "stdout",
          "text": [
            "<class 'pandas.core.frame.DataFrame'>\n",
            "RangeIndex: 3774 entries, 0 to 3773\n",
            "Data columns (total 94 columns):\n",
            " #   Column           Non-Null Count  Dtype  \n",
            "---  ------           --------------  -----  \n",
            " 0   pl_name          3774 non-null   object \n",
            " 1   hostname         3774 non-null   object \n",
            " 2   default_flag     3774 non-null   int64  \n",
            " 3   disposition      3774 non-null   object \n",
            " 4   disp_refname     3774 non-null   object \n",
            " 5   sy_snum          3774 non-null   int64  \n",
            " 6   sy_pnum          3774 non-null   int64  \n",
            " 7   discoverymethod  3774 non-null   object \n",
            " 8   disc_year        3774 non-null   int64  \n",
            " 9   disc_facility    3774 non-null   object \n",
            " 10  soltype          3774 non-null   object \n",
            " 11  pl_controv_flag  3774 non-null   int64  \n",
            " 12  pl_refname       3774 non-null   object \n",
            " 13  pl_orbper        3735 non-null   float64\n",
            " 14  pl_orbpererr1    2846 non-null   float64\n",
            " 15  pl_orbpererr2    2846 non-null   float64\n",
            " 16  pl_orbperlim     3735 non-null   float64\n",
            " 17  pl_orbsmax       774 non-null    float64\n",
            " 18  pl_orbsmaxerr1   767 non-null    float64\n",
            " 19  pl_orbsmaxerr2   767 non-null    float64\n",
            " 20  pl_orbsmaxlim    774 non-null    float64\n",
            " 21  pl_rade          3017 non-null   float64\n",
            " 22  pl_radeerr1      2731 non-null   float64\n",
            " 23  pl_radeerr2      2731 non-null   float64\n",
            " 24  pl_radelim       3017 non-null   float64\n",
            " 25  pl_radj          3017 non-null   float64\n",
            " 26  pl_radjerr1      2731 non-null   float64\n",
            " 27  pl_radjerr2      2731 non-null   float64\n",
            " 28  pl_radjlim       3017 non-null   float64\n",
            " 29  pl_bmasse        328 non-null    float64\n",
            " 30  pl_bmasseerr1    291 non-null    float64\n",
            " 31  pl_bmasseerr2    291 non-null    float64\n",
            " 32  pl_bmasselim     328 non-null    float64\n",
            " 33  pl_bmassj        328 non-null    float64\n",
            " 34  pl_bmassjerr1    291 non-null    float64\n",
            " 35  pl_bmassjerr2    291 non-null    float64\n",
            " 36  pl_bmassjlim     328 non-null    float64\n",
            " 37  pl_bmassprov     328 non-null    object \n",
            " 38  pl_orbeccen      357 non-null    float64\n",
            " 39  pl_orbeccenerr1  169 non-null    float64\n",
            " 40  pl_orbeccenerr2  169 non-null    float64\n",
            " 41  pl_orbeccenlim   358 non-null    float64\n",
            " 42  pl_insol         514 non-null    float64\n",
            " 43  pl_insolerr1     354 non-null    float64\n",
            " 44  pl_insolerr2     354 non-null    float64\n",
            " 45  pl_insollim      514 non-null    float64\n",
            " 46  pl_eqt           701 non-null    float64\n",
            " 47  pl_eqterr1       556 non-null    float64\n",
            " 48  pl_eqterr2       556 non-null    float64\n",
            " 49  pl_eqtlim        701 non-null    float64\n",
            " 50  ttv_flag         3774 non-null   int64  \n",
            " 51  st_refname       3759 non-null   object \n",
            " 52  st_spectype      387 non-null    object \n",
            " 53  st_teff          2670 non-null   float64\n",
            " 54  st_tefferr1      2363 non-null   float64\n",
            " 55  st_tefferr2      2359 non-null   float64\n",
            " 56  st_tefflim       2670 non-null   float64\n",
            " 57  st_rad           3652 non-null   float64\n",
            " 58  st_raderr1       3027 non-null   float64\n",
            " 59  st_raderr2       3023 non-null   float64\n",
            " 60  st_radlim        3652 non-null   float64\n",
            " 61  st_mass          1912 non-null   float64\n",
            " 62  st_masserr1      1756 non-null   float64\n",
            " 63  st_masserr2      1752 non-null   float64\n",
            " 64  st_masslim       1912 non-null   float64\n",
            " 65  st_met           1522 non-null   float64\n",
            " 66  st_meterr1       1491 non-null   float64\n",
            " 67  st_meterr2       1491 non-null   float64\n",
            " 68  st_metlim        1522 non-null   float64\n",
            " 69  st_metratio      1519 non-null   object \n",
            " 70  st_logg          2149 non-null   float64\n",
            " 71  st_loggerr1      1946 non-null   float64\n",
            " 72  st_loggerr2      1946 non-null   float64\n",
            " 73  st_logglim       2149 non-null   float64\n",
            " 74  sy_refname       3774 non-null   object \n",
            " 75  rastr            3774 non-null   object \n",
            " 76  ra               3774 non-null   float64\n",
            " 77  decstr           3774 non-null   object \n",
            " 78  dec              3774 non-null   float64\n",
            " 79  sy_dist          3651 non-null   float64\n",
            " 80  sy_disterr1      3522 non-null   float64\n",
            " 81  sy_disterr2      3522 non-null   float64\n",
            " 82  sy_vmag          3732 non-null   float64\n",
            " 83  sy_vmagerr1      3732 non-null   float64\n",
            " 84  sy_vmagerr2      3732 non-null   float64\n",
            " 85  sy_kmag          3752 non-null   float64\n",
            " 86  sy_kmagerr1      3744 non-null   float64\n",
            " 87  sy_kmagerr2      3744 non-null   float64\n",
            " 88  sy_gaiamag       3718 non-null   float64\n",
            " 89  sy_gaiamagerr1   3718 non-null   float64\n",
            " 90  sy_gaiamagerr2   3718 non-null   float64\n",
            " 91  rowupdate        3774 non-null   object \n",
            " 92  pl_pubdate       3774 non-null   object \n",
            " 93  releasedate      3774 non-null   object \n",
            "dtypes: float64(70), int64(6), object(18)\n",
            "memory usage: 2.7+ MB\n"
          ]
        }
      ]
    },
    {
      "cell_type": "markdown",
      "source": [
        "Since I am not an Astronomy major, I am not going to act like I know exactly what each column means and the information it provides. So, I am going to make visualizations of the columns I believe could be the most benificial to look at, and decide what to use as features from there."
      ],
      "metadata": {
        "id": "5-S_WJ2BHxAC"
      }
    },
    {
      "cell_type": "markdown",
      "source": [
        "# Visualizations"
      ],
      "metadata": {
        "id": "lZbVozmOD5Z-"
      }
    },
    {
      "cell_type": "code",
      "source": [
        "import plotly.express as px\n",
        "fig = px.histogram(df, x='pl_rade',\n",
        "                   title=\"Distribution of Planet Radius\",\n",
        "                   labels={'pl_rade': 'Planet Radius (Earth Radius)', 'count': 'Frequency'},\n",
        "                   height=400, width=600)\n",
        "fig.update_layout(bargap=0.05,\n",
        "                  showlegend=False,\n",
        "                  margin=dict(l=50, r=50, t=50, b=50))\n",
        "fig.show()"
      ],
      "metadata": {
        "colab": {
          "base_uri": "https://localhost:8080/",
          "height": 0
        },
        "id": "XFlDT_Vw-AQG",
        "outputId": "61e89bba-5a0a-42a2-b06d-7e9faf7fc14f"
      },
      "execution_count": 169,
      "outputs": [
        {
          "output_type": "display_data",
          "data": {
            "text/html": [
              "<html>\n",
              "<head><meta charset=\"utf-8\" /></head>\n",
              "<body>\n",
              "    <div>            <script src=\"https://cdnjs.cloudflare.com/ajax/libs/mathjax/2.7.5/MathJax.js?config=TeX-AMS-MML_SVG\"></script><script type=\"text/javascript\">if (window.MathJax && window.MathJax.Hub && window.MathJax.Hub.Config) {window.MathJax.Hub.Config({SVG: {font: \"STIX-Web\"}});}</script>                <script type=\"text/javascript\">window.PlotlyConfig = {MathJaxConfig: 'local'};</script>\n",
              "        <script charset=\"utf-8\" src=\"https://cdn.plot.ly/plotly-2.24.1.min.js\"></script>                <div id=\"7c4d7583-86d8-446b-a8ac-12fa3dfac26d\" class=\"plotly-graph-div\" style=\"height:400px; width:600px;\"></div>            <script type=\"text/javascript\">                                    window.PLOTLYENV=window.PLOTLYENV || {};                                    if (document.getElementById(\"7c4d7583-86d8-446b-a8ac-12fa3dfac26d\")) {                    Plotly.newPlot(                        \"7c4d7583-86d8-446b-a8ac-12fa3dfac26d\",                        [{\"alignmentgroup\":\"True\",\"bingroup\":\"x\",\"hovertemplate\":\"Planet Radius (Earth Radius)=%{x}\\u003cbr\\u003ecount=%{y}\\u003cextra\\u003e\\u003c\\u002fextra\\u003e\",\"legendgroup\":\"\",\"marker\":{\"color\":\"#636efa\",\"pattern\":{\"shape\":\"\"}},\"name\":\"\",\"offsetgroup\":\"\",\"orientation\":\"v\",\"showlegend\":false,\"x\":[1.12,1.313,4.19,8.84,9.913,0.86,1.45,45.0,4.34,10.2,30.0,26.44,32.8,3.55,3.24,3.35,3.02,2.06,1.56,1.52,1.57,3.78,4.87,8.4,1.75,5.51,0.77,0.519,1.05,null,7.55,2.43,null,9.11,2.873,2.7,null,20.8,2.73,2.91,3.36,40.1,1.124,1.32,1.17,2.18,2.384,1.96,1.29,1.57,1.37,1.06,5.48,3.2,2.95,2.12,null,3.44,6.412,1.48,1.85,null,2.028,1.44,1.51,1.73,1.91,2.09,217.0,6.81,8.53,15.1,15.99,20.1,5.34,4.07,1.57,1.17,2.45,1.45,null,1.22,1.01,1.78,2.6,1.79,17.0,1.9,2.21,1.51,null,10.9,16.3,22.8,24.9,2.328,0.77,0.742,0.441,2.52,1.2,15.866,5.93,7.8,7.28,null,2.26,2.98,1.21,1.32,1.11,12.8,17.325,1.59,35.0,0.76,null,0.879,1.89,2.03,2.14,2.473,2.89,3.83,2.01,2.59,2.11,1.75,1.51,1.46,12.2,2.8,2.94,3.35,2.79,2.71,null,1.7,1.58,1.29,2.89,2.29,2.63,null,45.0,31.5,null,19.6,53.0,null,33.6,35.3,29.0,76.0,19.0,null,1.67,1.58,60.0,6.66,37.5,86.2,null,null,null,null,1.48,61.4,17.3,37.0,11.7,58.0,3.1,2.78,3.62,null,null,3.332,3.46,3.39,65.3,2.22,42.0,7.33,24.5,6.6,6.58,null,16.1,81.0,20.0,19.668,null,452.0,256.0,8.43,2.04,21.2,4.13,9.2,16.121,71.0,null,1080.0,null,1.16,200.0,8.169,22.0,3.06,46.6,1.86,6.1,43.0,1.89,0.62,0.837,1.92,1.76,30.5,null,64.0,12.81,5.7,0.884,3.11,null,2.9,null,80.0,14.1,5.57,null,18.4,37.0,12.0,4.85,99.0,33.0,5.7,15.3,44.0,10.31,2.6,null,1.27,30.7,2.09,null,132.0,0.669,133.0,32.8,2.49,8.4,null,9.47,null,null,null,15.7,2.571,null,3.22,3.35,0.957,1.66,2.61,1.74,3.18,3.29,null,2.393,2.39,2.66,2.3,6.6,1.27,null,null,18.9,130.0,44.0,10.7,null,1.51,1.58,null,1.44,1.81,2.36,2.08,68.0,2.68,0.988,3.12,13.7,33.4,0.648,2.61,1.12,1.6,2.47,7.6,8.0,5.6,12.14,1.96,3.2,57.0,11.0,1.47,19.3,2.5,2.48,2.98,42.0,5.023,15.461,45.0,6.63,23.4,22.0,1.72,2.19,2.18,2.16,2.6,1.85,2.9,2.34,0.76,21.3,3.95,null,2.16,2.22,1.87,1.64,2.89,2.86,2.39,1.33,2.17,2.56,1.48,1.01,3.93,4.6,2.28,2.21,2.25,6.5,6.97,null,null,3.76,4.54,3.39,5.76,2.281,2.11,3.18,39.1,7.7,1.92,1.65,2.66,null,1.08,7.72,31.1,2.55,3.555,3.32,3.9,null,1.62,1.46,1.63,1.588,4.28,1.59,2.52,2.6,35.0,2.98,2.66,0.96,1.62,1.59,null,1.13,1.47,11.9,1.43,3.62,3.18,2.72,1.8,91.0,12.0,1.53,1.32,1.16,2.02,69.443,5.2,0.674,5.149,2.23,null,56.5,2.65,2.579,2.93,21.6,22.5,null,90.0,27.0,79.0,16.659,10.6,16.5,39.0,8.446,2.18,2.57,21.1,1.83,1.25,1.612,2.083,2.21,14.327,8.7,null,1.61,2.4,null,2.61,null,2.04,null,1.09,1.09,null,30.71,null,null,16.22,14.864,16.6,4.0,3.5,29.8,3.05,3.0,1.95,2.51,1.55,null,1.89,3.85,2.68,1.69,null,1.15,null,1.19,1.19,null,0.889,1.067,null,null,110.0,10.814,12.0,2.03,null,2.7,null,2.11,null,1.64,1.98,null,null,17.3,null,1.24,29.0,1.51,2.166,7.68,19.1,39.4,2.18,0.984,28.1,null,2.53,44.0,8.7,3.55,66.05,1.57,32.0,15.3,53.427,15.8,null,14.655,7.6,null,2.58,1.98,0.72,null,15.43,15.9,16.419,6.135,5.01,null,2.382,3.174,1.33,null,null,null,9.128,1.13,null,null,null,44.2,86.0,0.53,0.85,0.84,null,48.0,94.8,null,null,1.34,null,1.95,15.383,14.319,14.64,38.298,null,null,8.0,2.005,33.2,36.71,25.83,2.78,19.443,null,0.82,0.75,1.5,null,0.65,0.67,1.2,0.75,0.67,0.77,0.51,null,3.4,2.263,0.675,2.762,null,1.8,1.49,1.73,1.29,1.08,2.244,2.1,null,null,null,null,1.82,3.123,null,10.0,10.508,10.85,11.3,1.45,1.86,1.7,2.94,null,null,null,null,7.164,2.32,1.9,null,null,null,41.5,3.6,null,null,2.6,10.48,23.804,35.0,null,null,null,1.38,null,3.9,1.4,1.44,12.831,null,9.25,1.86,null,null,null,4.1,2.788,null,2.06,1.0,1.266,1.38,null,10.321,11.6,12.597,8.917,null,1.8,null,null,17.16,null,null,19.1,2.82,2.2,1.665,null,1.65,2.22,2.06,2.643,2.887,null,9.6,null,null,1.12,1.29,null,2.09,null,9.82,12.7,8.833,null,15.6,null,null,null,18.3,15.382,null,1.25,7.92,null,1.02,null,null,2.53,5.3,7.917,2.495,null,null,34.306,null,43.0,null,null,2.214,null,2.25,9.6,null,18.43,null,2.69,null,null,null,2.43,null,12.6,11.5,null,12.7,null,4.31,3.28,3.26,2.95,1.38,null,1.443,2.239,1.439,null,2.64,2.86,null,null,null,77.0,null,53.0,2.86,2.78,8.41,null,10.44,null,1.3,null,null,1.198,9.236,9.1,15.818,15.9,null,2.4,3.545,null,null,null,6.1,null,null,2.022,2.7,3.2,null,null,1.53,null,null,2.6,40.1,null,6.339,5.275,1.65,null,4.02,32.0,null,null,9.8,null,null,1.52,null,null,8.5,null,null,23.562,null,25.5,null,null,3.402,null,null,0.583,16.0,null,47.8,33.6,null,15.3,null,10.54,1.62,2.71,null,1.08,2.48,null,null,null,null,64.215,3.85,null,null,2.52,null,null,null,2.66,null,36.8,1.638,38.5,3.11,1.96,1.59,2.81,null,null,null,1.81,50.7,null,2.13,2.0,23.826,null,null,1.29,1.6,28.2,13.6,0.87,null,null,null,3.9,null,0.928,2.87,null,1.82,null,8.3,null,2.41,3.93,1.46,2.28,null,2.69,1.67,1.567,null,23.212,78.0,1.3,2.277,2.49,null,null,2.088,14.4,null,null,null,5.7,null,null,1.8,1.867,1.83,null,55.0,null,null,45.9,10.8,10.9,7.721,null,155.7,15.2,6.6,null,null,2.345,2.6,2.02,3.34,2.16,1.818,21.4,null,8.26,6.761,null,14.792,null,17.1,null,6.99,2.98,2.73,null,null,3.11,0.824,1.29,1.0,null,24.0,6.2,null,1.58,2.2,4.309,2.8,1.6,null,1.608,null,1.862,3.3,null,null,null,1.18,2.084,2.62,2.856,2.846,18.1,null,36.1,2.228,3.32,null,2.744,16.683,null,15.3,4.37,null,2.047,1.46,2.869,2.47,49.5,47.553,3.131,4.886,2.628,11.3,90.0,10.4,3.8,null,3.193,3.3,3.4,1.88,18.6,3.03,3.397,36.3,4.4,1.9,1.0,1.871,2.04,1.12,1.038,13.2,1.16,20.5,50.0,163.0,32.9,8.7,12.2,370.0,12.7,26.2,260.0,1.44,1.6,1.52,1.36,5.6,31.7,23.1,15.3,28.0,19.5,18.4,2.4,1.27,29.9,13.66,32.2,19.43,1.717,1.8,57.0,12.4,null,21.9,36.95,5.6,1.677,2.02,2.315,2.55,1.48,16.3,67.3,2.21,1.81,3.442,3.3,14.87,1.9,5.31,5.23,17.0,25.31,16.6,14.3,1.781,11.9,8.989,28.8,49.0,3.13,3.458,4.253,21.9,42.6,2.594,2.139,46.0,12.3,1.8,0.867,1.67,16.1,2.31,1.024,591.1,170.0,1.48,9.6,10.98,9.978,26.1,36.2,1.98,12.4,118.0,37.0,70.0,2.33,2.42,32.5,17.7,8.85,8.488,8.683,6.2,4.007,41.0,23.8,1.99,1.88,15.126,36.9,26.1,3.95,3.947,1.11,1.062,19.5,2.7,28.1,0.784,0.97,36.0,11.4,2.03,15.3,1.24,2.72,4.3,4.158,3.43,3.0,3.119,197.025,2.74,1.11,25.2,1.325,1.3,3.8,21.3,2.5,2.16,7.17,14.7,4.7,5.844,2.34,null,1.22,9.8,2.01,2.32,2.216,1.81,23.32,1.28,2.44,4.86,4.3,2.15,1.96,6.953,17.2,5.91,2.18,4.757,6.13,1.91,2.98,1.69,1.98,1.2,1.303,null,3.36,6.71,3.0,37.0,19.9,3.16,5.939,5.61,2.61,3.57,6.5,62.0,12.32,3.9,null,3.01,4.04,1.75,62.277,118.0,3.57,2.917,null,2.71,2.94,0.888,3.92,2.051,2.36,2.78,1.44,51.6,1.282,16.407,16.31,11.768,10.87,3.58,17.999,316.734,2.35,4.15,1.36,2.843,2.77,1.005,1.82,8.35,2.72,18.81,1.52,5.1,27.977,3.87,2.24,2.338,null,2.279,3.792,2.462,2.174,null,8.456,null,null,3.848,3.302,1.2,3.504,2.486,null,6.957,2.57,null,null,2.532,2.705,0.99,8.559,4.742,7.158,2.22,0.97,1.43,null,null,2.511,10.889,2.787,6.184,3.034,2.26,1.233,0.505,30.186,1.975,25.768,1.07,null,16.514,1.837,null,3.324,null,1.108,2.351,2.282,0.953,36.563,25.455,2.119,null,1.584,2.919,2.413,24.603,10.293,4.073,1.673,2.635,2.455,2.786,1.006,3.794,5.543,3.725,8.002,2.378,2.964,2.354,5.581,3.3,3.05,2.55,2.364,2.576,9.774,5.06,1.28,5.97,2.285,3.657,2.17,2.551,2.77,31.682,2.249,null,2.846,1.77,1.992,2.403,2.318,23.661,2.348,2.49,2.602,6.31,5.824,5.738,10.695,1.933,6.05,1.398,1.433,12.272,null,2.45,2.07,3.715,null,null,15.655,null,1.11,null,2.605,21.936,2.67,17.2,34.0,143.037,null,null,2.903,3.0,78.0,85.6,null,3.01,2.27,2.62,2.95,2.33,1.46,1.5,1.18,1.47,2.65,7.51,2.1,4.34,1.89,null,2.93,2.01,2.58,2.28,2.33,1.46,1.42,1.4,1.47,1.56,2.578,2.23,2.355,1.047,1.87,2.2,1.5,0.692,1.406,1.3,1.2,0.908,1.41,1.1,1.04,1.7,1.44,1.35,1.16,1.4,4.0,2.94,2.6,2.52,1.01,3.32,1.7,1.62,1.45,1.2,2.0,0.9,1.0,1.22,0.96,2.094,2.15,2.63,null,2.2,2.18,1.98,null,1.92,5.96,5.76,5.847,6.8,6.12,null,6.0,5.507,null,1.323,1.48,1.83,2.27,null,2.29,2.17,2.21,1.6,1.39,1.26,1.12,null,null,2.245,2.32,2.3,2.31,1.2,2.3,2.67,2.586,null,null,2.69,0.99,1.6,1.816,1.52,1.82,1.46,1.82,1.725,1.8,1.712,1.669,2.2,2.77,2.53,2.73,2.5,2.8,2.836,3.79,2.705,1.27,1.1,2.332,2.02,2.06,11.781,13.274,12.442,1.95,3.67,3.94,2.061,null,2.025,1.571,1.75,1.58,1.62,1.577,1.577,1.686,1.24,1.269,1.241,1.36,1.241,2.1,2.022,2.04,2.022,2.07,null,10.581,13.275,null,10.581,11.8,10.8,40.0,null,16.72,16.432,19.1,16.926,null,16.432,17.0,16.737,null,16.926,10.2,16.668,18.03,17.7,7.8,7.76,8.845,15.513,15.132,5.69,12.77,13.843,12.92,13.4,11.938,13.85,14.42,13.141,11.938,17.2,2.32,2.44,2.4,2.329,2.23,4.4,3.95,4.05,4.35,4.786,4.294,4.31,1.31,null,1.627,1.557,1.8,1.67,1.7,1.626,1.7,1.6,1.624,1.574,2.3,3.0,2.74,3.0,2.923,2.86,null,2.85,2.831,3.01,null,null,null,null,null,1.613,null,1.611,1.613,null,7.398,6.86,7.263,6.972,2.53,2.594,2.466,2.53,2.9,2.443,null,2.56,2.3,null,null,null,null,3.96,5.51,null,null,10.2,null,3.83,null,2.98,3.735,3.84,4.37,3.92,null,3.59,null,3.6,3.444,4.67,3.88,3.5,1.52,3.45,null,null,1.94,null,1.85,2.194,2.0,2.0,1.3,null,1.79,null,0.99,null,2.43,1.9,null,1.96,3.5,3.37,3.59,null,3.407,3.55,3.59,3.448,null,17.38,14.4,16.141,15.98,12.043,5.81,5.3,null,5.33,null,7.564,5.28,2.92,7.55,2.42,2.47,2.524,2.56,2.55,2.5,null,2.592,null,2.592,1.223,1.41,1.9,1.82,1.82,2.09,null,null,11.646,12.14,10.424,12.5,12.55,10.71,10.88,null,10.559,null,10.67,10.447,11.162,11.1,11.5,12.498,null,null,10.439,12.06,null,null,11.55,0.814,0.719,0.69,null,2.101,null,2.03,1.74,2.1,2.03,1.96,2.06,2.03,1.94,1.75,2.1,2.48,2.54,2.16,null,2.6,null,2.29,2.53,2.48,2.188,2.72,2.33,2.44,2.14,2.01,1.97,null,7.7,7.52,7.44,7.504,7.5,7.644,null,null,9.12,1.3,null,null,1.21,1.17,1.22,1.16,1.28,2.65,null,3.0,2.5,2.76,null,3.07,2.66,null,2.64,2.6,3.03,2.9,2.36,2.9,2.18,1.92,1.795,null,2.0,null,1.84,1.97,8.37,8.66,12.72,null,9.1,1.203,1.42,1.117,0.661,1.04,2.7,2.29,1.89,1.25,1.062,1.22,1.762,1.7,1.81,2.134,1.5,1.69,1.651,14.572,14.572,12.207,6.865,9.029,1.34,1.31,1.603,1.48,2.468,2.02,2.003,1.73,1.014,0.99,1.05,3.03,3.14,3.728,3.0,2.91,1.45,1.565,1.55,0.64,0.89,1.49,1.57,1.51,2.26,2.52,2.299,2.39,2.66,2.46,3.31,3.39,3.29,3.11,2.81,2.904,2.73,3.013,3.18,9.268,9.11,9.62,9.5,9.057,8.51,4.48,7.49,4.81,6.65,12.274,13.046,13.563,12.25,1.51,1.51,1.648,1.493,1.54,7.0,7.0,2.2,1.83,2.05,2.15,1.47,null,1.38,2.25,10.7,2.19,2.59,1.38,0.73,0.82,0.701,1.33,0.9,1.73,0.88,1.64,1.64,3.08,3.1,2.84,2.48,1.71,2.0,1.054,1.35,1.49,1.5,2.29,2.81,2.0,2.0,1.99,2.23,2.1,2.07,1.8,1.55,1.95,2.365,2.6,1.64,1.9,1.1,1.15,1.144,1.0,1.055,2.635,2.64,1.28,2.208,2.26,1.03,2.13,2.02,1.87,2.39,1.96,1.84,2.58,2.14,2.19,2.54,3.178,6.117,1.44,1.486,2.466,1.81,3.249,1.93,1.274,1.554,3.191,2.648,1.22,2.19,1.823,2.264,2.34,2.13,2.819,2.052,2.3,1.62,1.18,1.31,1.86,2.144,2.34,2.19,1.273,1.41,1.341,1.948,2.15,1.78,1.53,2.03,2.23,1.418,1.62,1.5,1.92,2.01,1.802,1.23,2.687,3.71,1.69,1.8,1.666,3.41,3.02,3.206,null,1.608,null,2.59,2.78,2.492,2.6,3.327,2.59,null,2.038,1.55,1.491,2.116,3.83,3.558,2.12,2.513,null,2.37,2.24,2.38,2.61,2.279,2.28,2.17,null,1.4,2.532,null,2.51,2.52,null,4.285,4.4,2.31,2.41,2.242,3.17,null,2.706,2.84,null,2.8,2.9,2.86,2.767,2.7,null,null,2.69,2.939,2.76,1.46,2.599,1.1,2.511,2.7,2.3,null,3.45,null,2.87,2.541,2.3,2.86,17.4,5.2,1.4,1.55,1.47,null,1.538,1.6,null,1.313,1.19,1.15,2.48,2.39,2.796,3.172,3.45,1.3,1.383,1.2,1.5,1.8,1.701,1.4,1.9,1.8,2.4,3.221,3.4,3.51,null,null,3.17,2.255,1.9,2.38,2.69,2.5,1.259,1.35,null,2.709,2.83,2.9,null,2.625,2.79,1.52,1.587,1.512,2.58,null,2.6,2.484,null,2.5,7.0,null,7.46,8.2,7.34,6.751,7.23,7.74,7.74,null,6.67,7.46,7.11,6.593,4.31,4.37,4.51,4.43,4.93,4.1,4.052,4.1,null,4.86,4.86,4.21,1.14,1.159,1.26,1.22,1.14,1.11,null,0.91,1.357,1.093,1.63,null,null,1.579,null,1.47,1.52,1.575,null,4.015,3.95,3.3,4.18,3.63,3.642,null,2.94,3.13,3.0,3.29,null,2.68,2.576,3.6,2.502,2.56,2.5,null,null,null,4.119,4.28,4.189,1.423,null,2.438,2.82,null,1.73,1.882,1.9,1.87,1.593,null,2.837,2.45,null,2.78,3.0,2.85,1.364,null,1.38,1.4,1.47,3.286,3.39,null,null,2.31,2.302,1.37,1.371,3.046,2.76,1.996,2.209,2.795,3.59,2.606,1.679,1.75,0.869,1.89,1.25,1.84,1.59,1.7,1.53,2.17,1.92,2.29,2.49,null,0.86,0.819,1.44,1.3,1.375,2.6,3.005,2.393,2.52,2.65,2.57,1.514,2.43,2.6,2.5,2.216,2.124,2.63,1.678,1.791,1.7,1.75,1.63,1.63,3.36,3.579,2.569,2.79,1.47,1.348,1.66,1.438,2.84,2.576,4.31,3.0,4.75,2.3,5.4,2.5,4.61,2.62,2.39,2.215,2.3,1.679,1.98,2.35,2.223,2.1,2.284,2.39,0.91,0.89,0.89,1.5,1.62,1.57,1.56,1.664,2.505,2.41,3.49,2.661,1.54,1.487,1.666,1.384,1.21,1.0,1.255,1.14,1.197,1.164,2.165,2.03,2.12,1.934,1.96,2.5,2.79,12.77,11.209,11.859,1.343,1.398,1.335,1.281,2.358,2.64,null,18.405,16.197,null,null,16.809,18.495,null,14.572,1.1,1.0,1.1,7.07,5.68,5.83,5.68,5.256,4.05,5.94,5.4,5.59,9.8,7.82,7.5,8.24,7.118,7.82,8.1,2.0,1.8,2.55,2.54,2.17,2.01,1.75,1.65,4.34,3.49,2.12,2.19,2.57,2.79,3.43,3.114,null,3.44,null,2.44,2.35,1.74,12.67,12.963,1.63,2.19,2.9,2.63,0.83,3.0,2.097,2.32,null,2.67,2.58,2.47,2.79,null,17.396,18.797,null,9.528,null,9.505,10.264,null,9.528,2.165,2.41,2.18,2.41,2.231,2.27,2.668,2.77,1.71,1.63,1.62,null,1.662,1.67,3.3,0.705,2.93,3.246,2.73,3.459,1.61,1.5,1.41,null,null,3.63,3.1,2.69,2.14,2.69,1.49,1.85,1.72,1.33,2.6,2.23,1.57,null,1.196,1.4,5.36,4.68,5.77,4.45,5.05,4.58,null,4.48,5.08,1.38,1.3,1.5,null,null,3.01,2.8,2.95,3.3,6.89,null,7.637,6.0,7.28,null,3.13,2.96,2.91,2.7,null,null,3.2,null,4.42,2.8,2.7,null,4.2,3.34,3.05,null,null,2.41,2.08,2.321,2.2,2.18,2.2,2.26,null,2.129,2.3,2.24,2.037,null,2.34,null,2.34,2.386,2.5,2.51,2.21,null,3.77,3.2,3.63,2.29,null,2.2,null,2.16,2.07,2.122,1.6,null,3.63,2.98,null,1.21,1.244,1.0,1.6,2.56,2.32,2.3,2.726,2.45,1.52,8.5,8.01,7.5,5.555,7.67,7.36,8.1,8.18,1.48,1.73,1.6,3.19,2.5,2.7,2.82,3.52,3.23,3.8,3.398,2.78,2.652,2.59,3.53,3.605,2.48,1.95,2.1,9.494,1.9,1.25,5.19,3.2,9.1,10.83,12.868,null,12.056,11.42,13.339,null,11.38,11.209,null,3.06,11.276,null,1.582,1.589,1.557,2.63,2.45,1.66,10.054,10.3,9.56,11.679,1.98,null,2.14,2.14,2.08,2.078,1.45,2.078,2.18,2.25,2.4,null,1.44,2.29,2.259,1.18,1.85,1.18,1.582,1.69,1.77,null,1.56,1.9,1.72,1.644,1.69,1.72,0.96,1.65,1.11,null,1.62,1.51,1.52,1.7,1.53,null,1.52,1.61,1.458,null,14.903,13.14,11.646,13.406,11.982,12.652,null,12.3,9.916,8.207,null,11.882,7.0,34.0,null,0.95,1.33,1.83,2.93,1.66,2.79,4.79,5.38,4.92,null,5.38,5.62,5.299,5.13,4.96,5.171,3.01,3.115,3.48,3.32,3.48,3.134,2.74,2.88,2.73,3.414,3.43,3.14,3.484,3.77,3.13,3.27,3.75,3.75,1.212,1.01,2.2,2.62,2.033,1.95,1.92,2.1,2.43,2.2,2.28,8.676,5.76,5.04,3.17,null,0.868,2.17,2.2,2.77,3.295,null,2.677,2.5,2.72,2.2,null,1.76,5.74,6.18,5.3,5.0,5.837,5.65,2.47,2.21,null,2.526,null,1.33,1.22,1.317,2.77,2.109,2.62,null,null,1.03,1.073,1.92,2.11,null,15.435,16.141,13.194,11.994,13.8,15.132,13.7,null,13.1,13.966,13.96,13.75,3.36,null,3.52,3.18,3.21,2.968,2.4,2.03,2.0,1.65,2.3,2.02,2.44,1.59,1.6,1.915,1.82,2.11,null,2.971,2.08,2.26,2.362,null,2.41,2.58,null,3.26,3.8,3.361,2.6,2.67,2.75,1.38,null,1.32,1.4,1.27,1.52,1.08,1.69,2.09,1.9,null,2.17,1.93,2.2,null,2.74,2.81,null,2.54,3.03,null,2.0,1.92,4.4,2.23,1.56,null,2.25,2.29,3.72,2.68,1.407,1.55,1.467,1.43,1.45,1.32,1.43,3.12,2.82,3.2,2.8,null,2.65,3.2,3.58,2.71,null,3.24,2.897,2.906,1.84,1.87,2.359,2.413,2.38,2.54,1.72,1.332,1.322,1.361,1.38,1.948,1.89,1.313,1.37,1.373,1.217,1.61,1.5,1.66,1.526,1.57,2.5,2.65,null,2.64,2.598,2.75,2.33,2.58,2.59,2.73,2.412,2.596,3.207,3.207,null,null,13.024,12.03,11.972,12.5,2.945,3.0,null,3.23,2.25,2.061,1.593,1.593,2.213,2.213,2.243,null,1.755,2.84,1.736,1.736,null,1.82,1.693,3.16,2.88,null,2.181,2.27,1.96,1.655,1.906,1.55,1.64,1.54,2.41,2.42,2.49,2.83,2.29,2.729,1.96,1.075,1.083,0.94,null,2.05,2.0,2.0,2.058,1.689,1.532,1.48,2.771,2.072,2.38,1.75,1.564,1.859,1.076,1.191,1.05,1.392,1.1,1.345,1.14,null,1.78,2.222,1.539,1.72,2.74,2.32,null,8.22,4.0,7.322,3.66,3.92,3.66,2.118,2.184,2.04,2.04,8.2,6.277,null,5.71,7.09,1.67,4.662,4.289,4.662,1.371,1.371,1.85,1.85,null,2.352,null,1.692,2.597,2.597,3.395,3.395,1.579,1.579,3.124,2.417,2.417,2.274,2.274,5.098,5.098,6.049,6.049,12.547,2.57,null,2.1,2.37,1.69,2.29,1.163,1.163,2.262,2.262,2.678,2.678,5.333,9.884,5.333,2.53,2.53,4.184,4.569,3.806,4.602,4.602,1.283,1.283,1.36,1.36,1.677,1.677,2.482,2.482,0.99,2.116,0.76,1.233,1.219,1.929,1.015,1.042,2.66,3.31,2.15,2.25,2.79,5.16,4.75,4.37,4.835,4.13,4.51,2.6,2.42,2.433,3.13,2.16,2.939,2.72,2.08,11.0,11.4,10.44,6.71,11.898,2.05,2.65,2.4,2.471,2.04,2.53,1.89,2.48,2.78,2.24,2.23,3.19,1.93,3.36,2.4,1.91,1.92,4.2,1.5,2.02,1.64,1.92,2.26,1.0,1.48,2.46,2.29,1.59,18.0,16.6,11.1,1.98,2.5,null,2.34,2.6,2.47,1.15,4.753,4.07,null,3.82,4.43,null,4.38,2.1,2.53,2.18,2.68,2.62,2.72,2.594,null,1.62,1.64,1.625,1.71,1.71,1.752,1.84,1.78,2.1,2.69,2.41,2.08,2.3,2.47,3.06,2.5,2.312,2.44,2.5,14.067,7.656,6.45,9.9,null,null,10.45,1.94,2.03,null,2.48,1.933,1.697,2.18,2.14,null,1.926,1.891,2.14,2.11,1.73,3.22,2.89,2.08,2.99,3.66,3.9,2.85,null,2.79,2.07,1.47,1.382,1.65,null,1.58,2.49,2.93,2.49,1.58,1.73,1.828,2.01,3.07,2.32,2.4,4.3,4.12,2.67,2.77,2.89,2.69,2.75,null,2.15,3.32,0.75,1.08,1.54,1.16,0.86,0.73,1.01,0.82,1.29,null,2.625,null,2.45,4.74,2.71,2.31,3.66,2.94,2.959,2.549,2.16,2.67,3.08,2.626,3.16,2.77,2.31,2.47,2.53,null,2.498,2.414,2.3,4.05,4.09,3.147,4.55,3.69,3.58,3.32,null,2.86,3.09,2.97,2.41,2.46,2.31,2.44,2.32,2.03,2.01,2.113,1.41,1.489,1.47,2.39,2.552,2.38,1.97,null,1.82,1.71,1.244,1.36,1.483,2.11,1.7,null,2.51,2.41,2.16,2.03,1.4,1.01,1.276,1.37,null,1.2,1.36,5.1,1.96,1.975,7.239,7.6,8.42,4.6,1.27,2.3,1.23,0.615,1.08,0.617,5.6,2.25,1.6,3.09,3.33,2.53,2.6,2.04,null,2.64,1.36,1.02,1.3,1.22,1.1,1.18,null,3.88,3.31,3.47,1.76,3.7,null,1.92,14.8,14.684,14.684,10.125,10.61,14.684,11.5,8.043,10.88,null,4.6,5.2,4.5,null,5.008,4.3,null,5.441,8.3,12.48,10.536,null,11.73,14.46,14.056,null,null,null,null,11.5,12.498,11.85,12.89,14.056,12.823,null,1.204,null,null,1.121,null,1.086,1.113,1.116,1.097,null,null,1.056,1.095,1.049,null,0.784,0.788,0.772,0.92,0.91,null,null,0.918,1.045,null,1.046,1.045,null,1.129,1.148,null,1.127,0.755,null,0.755,0.773,0.752,10.22,9.53,null,10.27,9.729,null,5.59,5.05,5.156,6.41,6.434,6.13,9.94,8.74,8.239,10.357,10.536,null,10.626,null,12.843,null,null,null,15.625,null,14.94,12.0,18.285,16.141,12.666,13.305,null,13.609,null,10.769,11.81,11.19,null,12.0,11.938,null,15.177,14.263,13.597,13.664,null,13.597,null,14.011,12.3,null,10.5,12.89,12.64,12.9,12.77,12.71,13.18,null,12.162,null,null,null,12.63,null,null,null,null,3.06,3.18,3.71,3.3,3.567,3.576,3.63,3.6,1.808,1.773,1.81,1.79,1.64,1.82,1.8,1.829,1.5,1.817,null,14.8,14.908,14.73,14.647,null,null,null,14.572,14.572,14.964,null,null,14.235,11.8,14.235,15.6,null,13.341,15.54,10.6,11.1,null,null,11.1,13.899,null,2.043,2.03,2.043,209.52,3.47,7.99,3.91,7.657,null,19.6,null,27.81,24.2,32.79,25.1,18.8,null,31.73,93.0,1.65,null,26.0,33.4,98.0,71.0,61.0,22.3,2.14,19.5,null,null,82.0,9.0,null,3.66,null,99.0,null,10.2,0.724,null,null,58.0,null,null,null,55.0,62.0,null,null,null,4.42,86.0,194.0,27.0,null,16.6,31.9,null,36.0,1.113,22.0,4.15,25.0,1.44,65.0,38.3,102.0,59.0,null,6.29,null,76.0,null,65.0,87.0,6.521,21.0,null,3.97,205.0,null,6.94,null,null,null,null,null,null,null,null,null,null,null,null,null,null,null,null,null,null,null,null,null,null,null,null,null,null,null,null,null,null,null,null,null,1.853,null,null,null,null,null,null,39.0,null,null,null,null,null,null,null,null,null,null,null,null,null,null,null,1.942,10.29,5.883,null,null,null,null,null,null,null,null,null,null,null,null,null,null,null,null,null,null,null,null,null,null,null,null,null,0.91,null,null,null,null,null,null,null,null,null,null,null,null,null,null,null,null,null,null,null,null,null,11.295,null,null,null,null,null,null,1.41,null,null,null,null,null,null,null,null,null,null,null,null,null,null,null,null,null,null,null,null,null,null,null,null,null,null,null,null,null,null,null,null,null,null,null,null,null,null,null,null,null,null,null,null,null,null,null,null,null,null,null,null,null,5.38,14.07,16.6,29.93,5.4,29.41,48.33,16.9,33.94,1.515,2.123,null,19.29,13.24,1.3,0.406,8.468,null,null,null,null,null,null,null,null,null,null,null,null,null,null,null,null,null,null,null,null,null,null,null,null,null,null,null,null,null,15.651,20.1,12.9,8.68,null,17.4,null,18.3,22.4,null,9.01,14.77,11.1,null,1.42,1.956,2.6,2.56],\"xaxis\":\"x\",\"yaxis\":\"y\",\"type\":\"histogram\"}],                        {\"template\":{\"data\":{\"histogram2dcontour\":[{\"type\":\"histogram2dcontour\",\"colorbar\":{\"outlinewidth\":0,\"ticks\":\"\"},\"colorscale\":[[0.0,\"#0d0887\"],[0.1111111111111111,\"#46039f\"],[0.2222222222222222,\"#7201a8\"],[0.3333333333333333,\"#9c179e\"],[0.4444444444444444,\"#bd3786\"],[0.5555555555555556,\"#d8576b\"],[0.6666666666666666,\"#ed7953\"],[0.7777777777777778,\"#fb9f3a\"],[0.8888888888888888,\"#fdca26\"],[1.0,\"#f0f921\"]]}],\"choropleth\":[{\"type\":\"choropleth\",\"colorbar\":{\"outlinewidth\":0,\"ticks\":\"\"}}],\"histogram2d\":[{\"type\":\"histogram2d\",\"colorbar\":{\"outlinewidth\":0,\"ticks\":\"\"},\"colorscale\":[[0.0,\"#0d0887\"],[0.1111111111111111,\"#46039f\"],[0.2222222222222222,\"#7201a8\"],[0.3333333333333333,\"#9c179e\"],[0.4444444444444444,\"#bd3786\"],[0.5555555555555556,\"#d8576b\"],[0.6666666666666666,\"#ed7953\"],[0.7777777777777778,\"#fb9f3a\"],[0.8888888888888888,\"#fdca26\"],[1.0,\"#f0f921\"]]}],\"heatmap\":[{\"type\":\"heatmap\",\"colorbar\":{\"outlinewidth\":0,\"ticks\":\"\"},\"colorscale\":[[0.0,\"#0d0887\"],[0.1111111111111111,\"#46039f\"],[0.2222222222222222,\"#7201a8\"],[0.3333333333333333,\"#9c179e\"],[0.4444444444444444,\"#bd3786\"],[0.5555555555555556,\"#d8576b\"],[0.6666666666666666,\"#ed7953\"],[0.7777777777777778,\"#fb9f3a\"],[0.8888888888888888,\"#fdca26\"],[1.0,\"#f0f921\"]]}],\"heatmapgl\":[{\"type\":\"heatmapgl\",\"colorbar\":{\"outlinewidth\":0,\"ticks\":\"\"},\"colorscale\":[[0.0,\"#0d0887\"],[0.1111111111111111,\"#46039f\"],[0.2222222222222222,\"#7201a8\"],[0.3333333333333333,\"#9c179e\"],[0.4444444444444444,\"#bd3786\"],[0.5555555555555556,\"#d8576b\"],[0.6666666666666666,\"#ed7953\"],[0.7777777777777778,\"#fb9f3a\"],[0.8888888888888888,\"#fdca26\"],[1.0,\"#f0f921\"]]}],\"contourcarpet\":[{\"type\":\"contourcarpet\",\"colorbar\":{\"outlinewidth\":0,\"ticks\":\"\"}}],\"contour\":[{\"type\":\"contour\",\"colorbar\":{\"outlinewidth\":0,\"ticks\":\"\"},\"colorscale\":[[0.0,\"#0d0887\"],[0.1111111111111111,\"#46039f\"],[0.2222222222222222,\"#7201a8\"],[0.3333333333333333,\"#9c179e\"],[0.4444444444444444,\"#bd3786\"],[0.5555555555555556,\"#d8576b\"],[0.6666666666666666,\"#ed7953\"],[0.7777777777777778,\"#fb9f3a\"],[0.8888888888888888,\"#fdca26\"],[1.0,\"#f0f921\"]]}],\"surface\":[{\"type\":\"surface\",\"colorbar\":{\"outlinewidth\":0,\"ticks\":\"\"},\"colorscale\":[[0.0,\"#0d0887\"],[0.1111111111111111,\"#46039f\"],[0.2222222222222222,\"#7201a8\"],[0.3333333333333333,\"#9c179e\"],[0.4444444444444444,\"#bd3786\"],[0.5555555555555556,\"#d8576b\"],[0.6666666666666666,\"#ed7953\"],[0.7777777777777778,\"#fb9f3a\"],[0.8888888888888888,\"#fdca26\"],[1.0,\"#f0f921\"]]}],\"mesh3d\":[{\"type\":\"mesh3d\",\"colorbar\":{\"outlinewidth\":0,\"ticks\":\"\"}}],\"scatter\":[{\"fillpattern\":{\"fillmode\":\"overlay\",\"size\":10,\"solidity\":0.2},\"type\":\"scatter\"}],\"parcoords\":[{\"type\":\"parcoords\",\"line\":{\"colorbar\":{\"outlinewidth\":0,\"ticks\":\"\"}}}],\"scatterpolargl\":[{\"type\":\"scatterpolargl\",\"marker\":{\"colorbar\":{\"outlinewidth\":0,\"ticks\":\"\"}}}],\"bar\":[{\"error_x\":{\"color\":\"#2a3f5f\"},\"error_y\":{\"color\":\"#2a3f5f\"},\"marker\":{\"line\":{\"color\":\"#E5ECF6\",\"width\":0.5},\"pattern\":{\"fillmode\":\"overlay\",\"size\":10,\"solidity\":0.2}},\"type\":\"bar\"}],\"scattergeo\":[{\"type\":\"scattergeo\",\"marker\":{\"colorbar\":{\"outlinewidth\":0,\"ticks\":\"\"}}}],\"scatterpolar\":[{\"type\":\"scatterpolar\",\"marker\":{\"colorbar\":{\"outlinewidth\":0,\"ticks\":\"\"}}}],\"histogram\":[{\"marker\":{\"pattern\":{\"fillmode\":\"overlay\",\"size\":10,\"solidity\":0.2}},\"type\":\"histogram\"}],\"scattergl\":[{\"type\":\"scattergl\",\"marker\":{\"colorbar\":{\"outlinewidth\":0,\"ticks\":\"\"}}}],\"scatter3d\":[{\"type\":\"scatter3d\",\"line\":{\"colorbar\":{\"outlinewidth\":0,\"ticks\":\"\"}},\"marker\":{\"colorbar\":{\"outlinewidth\":0,\"ticks\":\"\"}}}],\"scattermapbox\":[{\"type\":\"scattermapbox\",\"marker\":{\"colorbar\":{\"outlinewidth\":0,\"ticks\":\"\"}}}],\"scatterternary\":[{\"type\":\"scatterternary\",\"marker\":{\"colorbar\":{\"outlinewidth\":0,\"ticks\":\"\"}}}],\"scattercarpet\":[{\"type\":\"scattercarpet\",\"marker\":{\"colorbar\":{\"outlinewidth\":0,\"ticks\":\"\"}}}],\"carpet\":[{\"aaxis\":{\"endlinecolor\":\"#2a3f5f\",\"gridcolor\":\"white\",\"linecolor\":\"white\",\"minorgridcolor\":\"white\",\"startlinecolor\":\"#2a3f5f\"},\"baxis\":{\"endlinecolor\":\"#2a3f5f\",\"gridcolor\":\"white\",\"linecolor\":\"white\",\"minorgridcolor\":\"white\",\"startlinecolor\":\"#2a3f5f\"},\"type\":\"carpet\"}],\"table\":[{\"cells\":{\"fill\":{\"color\":\"#EBF0F8\"},\"line\":{\"color\":\"white\"}},\"header\":{\"fill\":{\"color\":\"#C8D4E3\"},\"line\":{\"color\":\"white\"}},\"type\":\"table\"}],\"barpolar\":[{\"marker\":{\"line\":{\"color\":\"#E5ECF6\",\"width\":0.5},\"pattern\":{\"fillmode\":\"overlay\",\"size\":10,\"solidity\":0.2}},\"type\":\"barpolar\"}],\"pie\":[{\"automargin\":true,\"type\":\"pie\"}]},\"layout\":{\"autotypenumbers\":\"strict\",\"colorway\":[\"#636efa\",\"#EF553B\",\"#00cc96\",\"#ab63fa\",\"#FFA15A\",\"#19d3f3\",\"#FF6692\",\"#B6E880\",\"#FF97FF\",\"#FECB52\"],\"font\":{\"color\":\"#2a3f5f\"},\"hovermode\":\"closest\",\"hoverlabel\":{\"align\":\"left\"},\"paper_bgcolor\":\"white\",\"plot_bgcolor\":\"#E5ECF6\",\"polar\":{\"bgcolor\":\"#E5ECF6\",\"angularaxis\":{\"gridcolor\":\"white\",\"linecolor\":\"white\",\"ticks\":\"\"},\"radialaxis\":{\"gridcolor\":\"white\",\"linecolor\":\"white\",\"ticks\":\"\"}},\"ternary\":{\"bgcolor\":\"#E5ECF6\",\"aaxis\":{\"gridcolor\":\"white\",\"linecolor\":\"white\",\"ticks\":\"\"},\"baxis\":{\"gridcolor\":\"white\",\"linecolor\":\"white\",\"ticks\":\"\"},\"caxis\":{\"gridcolor\":\"white\",\"linecolor\":\"white\",\"ticks\":\"\"}},\"coloraxis\":{\"colorbar\":{\"outlinewidth\":0,\"ticks\":\"\"}},\"colorscale\":{\"sequential\":[[0.0,\"#0d0887\"],[0.1111111111111111,\"#46039f\"],[0.2222222222222222,\"#7201a8\"],[0.3333333333333333,\"#9c179e\"],[0.4444444444444444,\"#bd3786\"],[0.5555555555555556,\"#d8576b\"],[0.6666666666666666,\"#ed7953\"],[0.7777777777777778,\"#fb9f3a\"],[0.8888888888888888,\"#fdca26\"],[1.0,\"#f0f921\"]],\"sequentialminus\":[[0.0,\"#0d0887\"],[0.1111111111111111,\"#46039f\"],[0.2222222222222222,\"#7201a8\"],[0.3333333333333333,\"#9c179e\"],[0.4444444444444444,\"#bd3786\"],[0.5555555555555556,\"#d8576b\"],[0.6666666666666666,\"#ed7953\"],[0.7777777777777778,\"#fb9f3a\"],[0.8888888888888888,\"#fdca26\"],[1.0,\"#f0f921\"]],\"diverging\":[[0,\"#8e0152\"],[0.1,\"#c51b7d\"],[0.2,\"#de77ae\"],[0.3,\"#f1b6da\"],[0.4,\"#fde0ef\"],[0.5,\"#f7f7f7\"],[0.6,\"#e6f5d0\"],[0.7,\"#b8e186\"],[0.8,\"#7fbc41\"],[0.9,\"#4d9221\"],[1,\"#276419\"]]},\"xaxis\":{\"gridcolor\":\"white\",\"linecolor\":\"white\",\"ticks\":\"\",\"title\":{\"standoff\":15},\"zerolinecolor\":\"white\",\"automargin\":true,\"zerolinewidth\":2},\"yaxis\":{\"gridcolor\":\"white\",\"linecolor\":\"white\",\"ticks\":\"\",\"title\":{\"standoff\":15},\"zerolinecolor\":\"white\",\"automargin\":true,\"zerolinewidth\":2},\"scene\":{\"xaxis\":{\"backgroundcolor\":\"#E5ECF6\",\"gridcolor\":\"white\",\"linecolor\":\"white\",\"showbackground\":true,\"ticks\":\"\",\"zerolinecolor\":\"white\",\"gridwidth\":2},\"yaxis\":{\"backgroundcolor\":\"#E5ECF6\",\"gridcolor\":\"white\",\"linecolor\":\"white\",\"showbackground\":true,\"ticks\":\"\",\"zerolinecolor\":\"white\",\"gridwidth\":2},\"zaxis\":{\"backgroundcolor\":\"#E5ECF6\",\"gridcolor\":\"white\",\"linecolor\":\"white\",\"showbackground\":true,\"ticks\":\"\",\"zerolinecolor\":\"white\",\"gridwidth\":2}},\"shapedefaults\":{\"line\":{\"color\":\"#2a3f5f\"}},\"annotationdefaults\":{\"arrowcolor\":\"#2a3f5f\",\"arrowhead\":0,\"arrowwidth\":1},\"geo\":{\"bgcolor\":\"white\",\"landcolor\":\"#E5ECF6\",\"subunitcolor\":\"white\",\"showland\":true,\"showlakes\":true,\"lakecolor\":\"white\"},\"title\":{\"x\":0.05},\"mapbox\":{\"style\":\"light\"}}},\"xaxis\":{\"anchor\":\"y\",\"domain\":[0.0,1.0],\"title\":{\"text\":\"Planet Radius (Earth Radius)\"}},\"yaxis\":{\"anchor\":\"x\",\"domain\":[0.0,1.0],\"title\":{\"text\":\"count\"}},\"legend\":{\"tracegroupgap\":0},\"title\":{\"text\":\"Distribution of Planet Radius\"},\"barmode\":\"relative\",\"height\":400,\"width\":600,\"margin\":{\"l\":50,\"r\":50,\"t\":50,\"b\":50},\"bargap\":0.05,\"showlegend\":false},                        {\"responsive\": true}                    ).then(function(){\n",
              "                            \n",
              "var gd = document.getElementById('7c4d7583-86d8-446b-a8ac-12fa3dfac26d');\n",
              "var x = new MutationObserver(function (mutations, observer) {{\n",
              "        var display = window.getComputedStyle(gd).display;\n",
              "        if (!display || display === 'none') {{\n",
              "            console.log([gd, 'removed!']);\n",
              "            Plotly.purge(gd);\n",
              "            observer.disconnect();\n",
              "        }}\n",
              "}});\n",
              "\n",
              "// Listen for the removal of the full notebook cells\n",
              "var notebookContainer = gd.closest('#notebook-container');\n",
              "if (notebookContainer) {{\n",
              "    x.observe(notebookContainer, {childList: true});\n",
              "}}\n",
              "\n",
              "// Listen for the clearing of the current output cell\n",
              "var outputEl = gd.closest('.output');\n",
              "if (outputEl) {{\n",
              "    x.observe(outputEl, {childList: true});\n",
              "}}\n",
              "\n",
              "                        })                };                            </script>        </div>\n",
              "</body>\n",
              "</html>"
            ]
          },
          "metadata": {}
        }
      ]
    },
    {
      "cell_type": "markdown",
      "source": [
        "\n",
        "The provided chart displays the radii of exoplanets relative to the Earth's radius. A value of 0 on the x-axis indicates a planet with a similar radius to Earth, while increasing values represent multiples of Earth's radius. This observation is particularly noteworthy for our modeling efforts. It suggests that the majority of exoplanets in our dataset share similar size characteristics with Earth or fall within a reasonably narrow range of sizes. Understanding this distribution can guide the feature selection process and inform the design of predictive algorithms, ensuring that our model captures the diverse range of exoplanet sizes effectively. Additionally, it underscores the importance of considering the scale and distribution of exoplanet radii when developing accurate and reliable predictive models for identifying potential exoplanets."
      ],
      "metadata": {
        "id": "cgPLCGNvCF96"
      }
    },
    {
      "cell_type": "code",
      "source": [
        "fig = px.histogram(df, x='pl_bmasse', title=\"Distribution of Planet Mass\",\n",
        "                   labels={'pl_bmasse': 'Planet Mass (Earth Mass)'})\n",
        "fig.update_layout(bargap=0.05,\n",
        "                  bargroupgap=0.1,\n",
        "                  showlegend=False,\n",
        "                  margin=dict(l=50, r=50, t=50, b=50))\n",
        "fig.show()"
      ],
      "metadata": {
        "colab": {
          "base_uri": "https://localhost:8080/",
          "height": 0
        },
        "id": "mJnR6oGbCHgZ",
        "outputId": "f79923b1-b046-4cad-ddde-803a2ad1ede7"
      },
      "execution_count": 170,
      "outputs": [
        {
          "output_type": "display_data",
          "data": {
            "text/html": [
              "<html>\n",
              "<head><meta charset=\"utf-8\" /></head>\n",
              "<body>\n",
              "    <div>            <script src=\"https://cdnjs.cloudflare.com/ajax/libs/mathjax/2.7.5/MathJax.js?config=TeX-AMS-MML_SVG\"></script><script type=\"text/javascript\">if (window.MathJax && window.MathJax.Hub && window.MathJax.Hub.Config) {window.MathJax.Hub.Config({SVG: {font: \"STIX-Web\"}});}</script>                <script type=\"text/javascript\">window.PlotlyConfig = {MathJaxConfig: 'local'};</script>\n",
              "        <script charset=\"utf-8\" src=\"https://cdn.plot.ly/plotly-2.24.1.min.js\"></script>                <div id=\"d777c01f-e148-4342-a220-3f3c2a11983f\" class=\"plotly-graph-div\" style=\"height:525px; width:100%;\"></div>            <script type=\"text/javascript\">                                    window.PLOTLYENV=window.PLOTLYENV || {};                                    if (document.getElementById(\"d777c01f-e148-4342-a220-3f3c2a11983f\")) {                    Plotly.newPlot(                        \"d777c01f-e148-4342-a220-3f3c2a11983f\",                        [{\"alignmentgroup\":\"True\",\"bingroup\":\"x\",\"hovertemplate\":\"Planet Mass (Earth Mass)=%{x}\\u003cbr\\u003ecount=%{y}\\u003cextra\\u003e\\u003c\\u002fextra\\u003e\",\"legendgroup\":\"\",\"marker\":{\"color\":\"#636efa\",\"pattern\":{\"shape\":\"\"}},\"name\":\"\",\"offsetgroup\":\"\",\"orientation\":\"v\",\"showlegend\":false,\"x\":[null,null,null,null,null,null,null,null,null,null,null,null,null,null,null,null,null,null,null,null,null,null,null,null,null,null,null,null,null,null,null,null,null,null,null,null,null,null,null,null,null,null,null,null,null,null,null,null,null,null,null,null,null,null,null,null,null,null,null,null,null,null,null,null,null,null,null,null,null,null,null,null,null,null,null,null,null,null,null,null,null,null,null,null,null,null,null,null,null,null,null,null,null,null,null,null,null,null,null,null,null,null,null,null,null,null,null,null,null,null,null,null,null,null,null,null,null,null,null,null,null,null,null,null,null,null,null,null,null,null,null,null,null,null,null,null,null,null,null,null,null,null,null,null,null,null,null,null,null,null,null,null,null,null,null,null,null,null,null,null,null,null,null,null,null,null,null,null,null,null,null,null,null,null,null,null,null,null,null,null,null,null,null,null,null,null,null,null,null,null,null,null,null,null,null,null,null,null,null,null,null,null,null,null,null,null,null,null,null,null,null,null,null,null,null,null,null,null,null,null,null,null,null,null,null,null,null,null,null,null,null,null,null,null,null,null,null,null,null,null,null,null,null,null,null,null,null,null,null,null,null,null,null,null,null,null,null,null,null,null,null,null,null,null,null,null,null,null,null,null,null,null,null,null,null,null,null,null,null,null,null,null,null,null,null,null,null,null,null,null,null,null,null,null,null,null,null,null,null,null,null,null,null,null,null,null,null,null,null,null,null,null,null,null,null,null,null,null,null,null,null,null,null,null,null,null,null,null,null,null,null,null,null,null,null,null,null,null,null,null,null,null,null,null,null,null,null,null,null,null,null,null,null,null,null,null,null,null,null,null,null,null,null,null,null,null,null,null,null,null,null,null,null,null,null,null,null,null,null,null,null,null,null,null,null,null,null,null,null,null,null,null,null,null,null,null,null,null,null,null,null,null,null,null,null,null,null,null,null,null,null,null,null,null,null,null,null,null,null,null,null,null,null,null,null,null,null,null,null,null,null,null,null,null,null,null,null,null,null,null,null,null,null,null,null,null,null,null,null,null,null,null,null,null,null,null,null,null,null,null,null,null,null,null,null,null,null,null,null,null,null,null,null,null,null,null,null,null,null,null,null,null,null,null,null,null,null,null,null,null,null,null,null,null,null,null,null,null,null,null,null,null,null,null,null,null,null,null,null,null,null,null,null,null,null,null,null,null,null,null,null,null,null,null,null,null,null,null,null,null,null,null,null,null,null,null,null,null,null,null,null,null,null,null,null,null,null,null,null,null,null,null,null,null,null,null,null,null,null,null,null,null,null,null,null,null,null,null,null,null,null,null,null,null,null,null,null,null,null,null,null,null,null,null,null,null,null,null,null,null,null,null,null,null,null,null,null,null,null,null,null,null,null,null,null,null,null,null,null,null,null,null,null,null,null,null,null,null,null,null,null,null,null,null,null,null,null,null,null,null,null,null,null,null,null,null,null,null,null,null,null,null,null,null,null,null,null,null,null,null,null,null,null,null,null,null,null,null,null,null,null,null,null,null,null,null,null,null,null,null,null,null,null,null,null,null,null,null,null,null,null,null,null,null,null,null,null,null,null,null,null,null,null,null,null,null,null,null,null,null,null,null,null,null,null,null,null,null,null,null,null,null,null,null,null,null,null,null,null,null,null,null,null,null,null,null,null,null,null,null,null,null,null,null,null,null,null,null,null,null,null,null,null,null,null,null,null,null,null,null,null,null,null,null,null,null,null,null,null,null,null,null,null,null,null,null,null,null,null,null,null,null,null,null,null,null,null,null,null,null,null,null,null,null,null,null,null,null,null,null,null,null,null,null,null,null,null,null,null,null,null,null,null,null,null,null,null,null,null,null,null,null,null,null,null,null,null,null,null,null,null,null,null,null,null,null,null,null,null,null,null,null,null,null,null,null,null,null,null,null,null,null,null,null,null,null,null,null,null,null,null,null,null,null,null,null,null,null,null,null,null,null,null,null,null,null,null,null,null,null,null,null,null,null,null,null,null,null,null,null,null,null,null,null,null,null,null,null,null,null,null,null,null,null,null,null,null,null,null,null,null,null,null,null,null,null,null,null,null,null,null,null,null,null,null,null,null,null,null,null,null,null,null,null,null,null,null,null,null,null,null,null,null,null,null,null,null,null,null,null,null,null,null,null,null,null,null,null,null,null,null,null,null,null,null,null,null,null,null,null,null,null,null,null,null,null,null,null,null,null,null,null,null,null,null,null,null,null,null,null,null,null,null,null,null,null,null,null,null,null,null,null,null,null,null,null,null,null,null,null,null,null,null,null,null,null,null,null,null,null,null,null,null,null,null,null,null,null,null,null,null,null,null,null,null,null,null,null,null,null,null,null,null,null,null,null,null,null,null,null,null,null,null,null,null,null,null,null,null,null,null,null,null,null,null,null,null,null,null,null,null,null,null,null,null,null,null,null,null,null,null,null,null,null,null,null,null,null,null,null,null,null,null,null,null,null,null,null,null,null,null,null,null,null,null,null,null,null,null,null,null,null,null,null,null,null,null,null,null,null,null,null,null,null,null,null,null,null,null,null,null,null,null,null,null,null,null,null,null,null,null,null,null,null,null,null,null,null,null,null,null,null,null,null,null,null,null,null,null,null,null,null,null,null,null,null,null,null,null,null,null,null,null,null,null,null,null,null,null,null,null,null,null,null,null,null,null,null,null,null,null,null,null,null,null,null,null,null,null,null,null,null,null,null,null,null,null,null,null,null,null,null,null,null,null,null,null,null,null,null,null,null,null,null,null,null,null,null,null,null,null,null,null,null,null,null,null,null,null,null,null,null,null,null,null,null,null,null,null,null,null,null,null,null,null,null,null,null,null,null,null,null,null,null,null,null,null,null,null,null,null,null,null,null,null,null,null,null,null,null,null,null,null,null,null,null,null,null,null,null,null,null,null,null,null,null,null,null,null,null,null,null,null,null,null,null,null,null,null,null,null,null,null,null,null,null,null,null,null,null,null,null,null,null,null,null,null,null,null,null,null,null,null,null,null,null,null,null,null,null,null,null,null,null,null,null,null,null,null,null,null,null,null,null,null,null,null,null,null,null,null,null,null,null,null,null,null,null,null,null,null,null,null,null,null,null,null,null,null,null,22.2481,16.3,null,null,null,null,null,null,null,null,null,null,null,null,null,null,null,null,null,null,null,null,null,null,null,null,null,null,null,null,null,null,null,null,null,null,null,null,null,null,null,null,null,null,null,null,null,null,27.0,null,null,null,null,null,null,null,null,null,null,null,null,null,null,null,null,null,null,null,null,null,null,null,null,null,null,null,null,null,null,null,null,8.36,9.0,null,null,8.21,null,7.72,null,null,5.7,null,null,5.8,null,8.9,null,null,null,null,10.4,null,null,953.49,null,4131.79,8.75,14.67,10.18,null,null,11.7,4.89,null,3.69,3.42,5.14,4.91,null,1.45,2.42,1.3,null,0.84,null,3.53,2.35,4.04,5.2,null,578.4506,null,null,241.5508,null,null,null,null,null,603.877,null,734.1873,null,692.8694,null,null,null,270.1555,null,263.7989,null,null,null,null,null,759.6137,756.4354,null,null,1022.14128,null,null,261.57409,null,null,259.34928,266.02371,null,null,12.6,null,null,null,null,null,null,15.2,null,null,null,4.04,2434.5656,4.73,null,null,4.97,5.02,5.59,null,null,null,5.69,null,null,8.33,11.13,10.67,null,null,null,null,9.8,4.33,6.9,5.03,8.41,9.74,5.6,null,null,5.72,1719.45168,34.9613,35.7,38.45743,null,10.1,null,12.7132,11.82,null,null,null,null,null,null,null,null,null,null,null,null,null,null,null,null,null,null,null,27.0,null,null,null,null,null,null,null,null,21.8,null,null,null,null,null,null,null,null,null,null,null,null,null,null,null,null,null,null,null,null,null,null,null,null,null,null,null,30.0,null,null,null,null,266.9772,null,null,null,null,null,null,null,null,59.4,null,null,null,null,null,null,null,null,null,16.7,null,15.9,null,null,8.6,5.58,5.29,null,11.08,11.3,null,null,410.0007,null,null,null,null,null,587.9855,null,null,638.8351,null,null,null,266.9772,null,null,null,null,null,null,null,null,null,null,null,null,null,null,null,null,null,null,null,null,null,null,null,null,null,null,null,null,null,null,null,null,null,null,null,5.2,null,null,null,null,null,null,null,null,null,null,null,null,null,null,null,null,null,null,null,null,null,null,null,null,null,null,null,null,null,null,null,null,null,null,null,null,null,null,null,null,null,null,null,null,null,null,null,null,null,null,null,null,null,null,null,null,null,null,null,null,null,null,6.5,null,null,7.9,6.3,155.7367,155.7367,157.32585,null,null,null,null,null,null,null,null,null,null,4.3,null,null,null,null,null,18.1,null,null,3.0,null,null,158.915,null,null,3.1,null,null,6.31,7.92,null,null,null,12.97,null,null,null,1.63,null,4.32,null,null,null,null,null,123.00021,null,null,null,null,null,323.86877,null,295.58042,null,5.08,4.97,null,5.16,5.31,8.0,7.4,null,null,5.77,null,null,null,null,5.6,null,7.49,7.1,null,null,null,null,null,null,null,null,null,null,null,null,null,null,null,null,null,null,null,null,null,null,null,null,null,null,null,null,null,null,null,null,null,null,null,null,null,null,null,null,null,null,null,null,null,null,null,null,null,null,null,null,null,null,null,null,null,null,null,null,null,null,null,null,null,null,null,null,null,null,null,null,null,null,null,null,6.5,null,null,null,null,null,null,null,null,null,null,null,null,null,null,null,null,null,null,null,null,null,null,null,null,null,null,null,null,null,null,null,null,null,null,null,null,null,null,null,null,null,null,null,null,null,null,null,null,null,null,8.92,null,7.96,8.63,null,null,null,null,null,null,7.51,null,null,null,null,null,null,null,11.44182,null,null,null,null,null,null,null,null,null,null,null,null,20.0,null,null,null,null,null,null,null,null,null,null,null,null,null,null,null,null,null,null,null,null,null,null,null,null,null,null,null,null,null,null,null,null,null,null,null,null,null,null,null,null,null,null,null,null,null,null,null,null,null,null,null,null,null,null,null,null,null,null,null,null,null,null,null,null,null,null,null,null,null,null,null,32.4,null,44.0,null,null,null,null,28.5,null,54.4,null,null,null,null,null,null,15.9,null,null,null,null,10.8,7.5,25.6,null,null,null,null,null,null,14.0,10.0,null,null,null,null,null,null,null,null,null,null,null,null,null,null,null,null,null,null,null,null,null,null,null,null,null,null,null,null,null,null,null,null,null,null,null,null,null,null,null,null,null,null,6.9,null,null,null,null,null,null,null,null,null,null,12.4,null,null,null,null,null,null,null,368.68095,349.61125,null,null,null,null,null,null,null,null,null,null,null,null,null,null,null,null,null,null,null,null,null,null,null,null,null,null,null,null,null,null,null,null,null,null,null,null,null,null,null,null,null,null,null,null,null,null,8.0,null,null,null,null,null,null,null,null,null,null,null,null,null,null,null,null,null,444.962,null,null,null,null,null,null,null,8.7,null,null,null,null,null,null,null,null,null,null,null,null,null,null,null,null,null,null,null,null,null,null,null,null,2.49,2.59,null,null,21.3,null,null,null,null,null,126.49634,123.00021,11.26,null,null,12.81,21.14,null,null,392.83788,433.20012,null,null,null,508.528,null,273.3338,null,null,null,null,21.0,null,19.8,null,null,null,19.0,null,null,27.0,15.4,null,null,26.0,null,null,null,null,null,null,null,null,null,null,null,null,null,null,null,null,null,null,24.5,null,null,null,null,null,null,null,null,null,null,null,null,null,null,null,null,null,null,null,null,451.3186,null,null,70.87609,null,67.69745,null,null,59.75174,null,14.8,null,14.9,null,null,null,null,6.54,null,null,null,null,null,11.26782,0.29013,8.9,null,14.3,null,null,null,null,null,null,null,null,null,null,null,null,null,null,null,null,null,null,null,null,null,null,null,null,29.1,null,null,null,30.9,null,null,null,null,null,null,null,null,null,null,null,null,null,null,null,null,null,null,null,null,null,null,null,null,null,null,null,null,null,null,null,null,null,null,null,null,null,null,null,null,null,null,null,null,null,null,null,null,null,null,null,null,null,null,null,null,null,null,null,null,null,null,null,null,null,null,null,null,null,null,null,null,null,null,null,null,null,null,null,null,null,37.1,null,null,null,null,null,null,null,null,null,null,null,null,null,null,null,null,null,null,9.68,15.68,null,6.5,10.7,null,100.11645,null,null,null,null,null,null,null,null,null,null,232.0159,null,null,194.82979,null,10.9,246.00042,null,6.4,6.49,null,24.5,null,null,106.47305,null,null,null,null,6.48,8.1,null,null,8.4,null,5.11,null,6.47,null,null,null,6.6,null,null,null,null,2.68,3.3,3.1,2.14,null,null,4.2,2.1,null,null,null,1.8,null,2.80007,1.6,null,7.5,null,11.1,null,null,null,2.2,null,null,null,184.02357,198.00809,187.20187,null,null,null,null,null,null,563.83042,null,null,590.1,null,null,null,null,null,null,null,null,null,null,21.1,null,15.0,16.5,null,null,12.1,null,null,null,8.1,8.1,null,null,null,null,10.3,null,6.7,null,null,null,null,35.0,2.1,null,null,null,null,null,null,null,null,null,null,82.6358,1144.188,1175.971,null,null,null,null,null,null,null,null,null,null,null,null,null,null,null,null,null,null,null,null,null,null,null,null,null,null,null,null,null,null,null,null,null,null,null,null,null,null,539.67534,563.51259,null,352.7913,null,559.3808,null,null,null,null,null,null,null,null,null,null,null,null,null,null,null,null,null,null,null,null,null,null,null,null,null,null,null,null,null,null,null,null,null,null,null,null,null,null,null,null,null,null,null,null,null,null,null,null,null,null,null,null,null,null,null,null,null,null,null,null,null,null,null,null,null,null,null,null,null,null,null,null,null,3.9,null,null,4.3,null,null,7.9,null,null,null,7.8,null,null,null,null,null,null,null,null,null,null,null,null,null,null,null,null,null,null,null,null,null,null,null,null,null,null,null,null,null,null,null,null,null,null,null,null,null,null,null,null,null,null,null,null,null,null,null,null,null,null,null,null,null,null,null,null,null,null,null,null,null,null,null,null,null,null,null,null,null,null,null,null,null,7.7,19.0698,12.0,null,7.3,null,9.9,7.4,null,8.3,null,null,null,null,null,null,null,null,null,null,null,null,null,null,null,null,null,null,null,null,null,null,null,null,null,null,null,null,null,null,null,null,null,null,null,null,null,null,null,null,null,null,null,null,50.3,28.6047,null,39.8,null,null,null,null,null,null,null,null,null,null,null,null,null,null,null,null,null,null,null,null,null,null,null,null,null,null,null,null,null,null,null,null,null,null,null,null,null,null,null,null,null,null,null,null,null,null,null,null,null,null,null,null,null,null,null,null,null,null,null,null,null,null,null,null,null,7.5,null,1652.70772,699.2225,null,null,null,null,null,null,null,null,null,null,null,null,null,null,null,null,null,null,null,null,null,null,null,null,null,null,null,null,null,null,null,null,null,null,null,null,null,null,null,null,null,null,null,null,null,null,null,null,null,null,null,null,null,null,null,null,null,null,null,null,null,null,null,null,null,null,null,null,null,null,null,null,null,null,null,null,null,null,null,null,null,null,null,null,null,null,null,null,null,null,null,null,null,null,null,135.39558,null,null,null,null,null,null,null,null,null,null,null,null,null,null,null,null,null,null,null,null,null,null,null,null,null,null,null,null,null,null,null,null,null,null,null,null,21.3,null,null,null,null,null,null,null,null,null,null,null,null,null,null,null,null,null,null,null,null,null,null,null,null,null,null,null,null,null,null,null,null,null,null,null,null,null,null,null,null,null,null,null,null,null,null,null,null,null,603.877,null,9.2,null,null,null,null,null,null,null,null,null,null,null,null,null,null,null,null,null,null,null,null,null,null,null,null,null,null,null,null,null,null,null,null,null,null,null,null,null,null,null,null,null,null,null,null,null,null,null,null,null,null,null,null,null,null,null,null,null,null,null,null,null,null,null,null,null,null,null,null,null,null,null,null,null,null,null,null,null,null,null,null,null,null,349.613,152.5584,null,null,152.5584,null,null,null,null,null,null,null,null,null,32.2,null,null,null,null,null,null,null,308.2951,785.0401,null,null,null,null,null,783.76878,null,826.358,792.635,790.41,1.4,null,null,null,1.017,null,0.85,null,1.374,1.308,null,null,1.38,1.156,null,null,0.297,0.388,0.41,0.692,0.772,null,null,0.62,0.68,null,0.934,1.039,null,1.321,1.148,null,1.34,0.326,null,null,0.331,null,null,null,null,null,203.41018,null,null,null,76.27882,null,98.52681,null,null,null,368.68095,37.82177,38.1396,null,38.1396,null,null,30.5,null,115.0,165.2716,null,null,null,null,163.36462,98.5273,100.43378,null,null,null,null,null,null,null,null,182.43442,null,285.717,null,287.95398,282.54945,null,288.26,null,294.62841,null,null,null,362.311,363.6,383.0,341.0,370.0,null,null,null,359.1479,null,null,363.1,398.2,394.1092,500.0,398.9,null,null,16.8,null,14.2,13.1,15.2,10.4,6.77,6.91,6.83,null,null,9.1,null,22.0,null,12.2,null,null,193.8763,null,null,null,null,null,181.48093,181.155,199.27941,null,null,340.06,null,341.03159,null,null,null,null,null,null,null,null,null,402.05495,null,6.27,null,6.26,null,null,null,null,null,null,null,null,null,null,null,null,null,null,null,null,null,null,null,null,null,null,null,null,null,null,null,null,null,null,null,null,null,null,null,null,null,null,null,null,null,null,null,null,null,null,null,null,null,null,null,null,null,null,null,null,null,null,null,null,null,null,null,null,null,null,null,null,null,null,null,null,null,null,null,null,null,null,null,null,null,null,null,null,null,null,null,null,null,null,null,null,null,null,null,null,null,null,null,null,null,null,null,null,null,null,null,null,null,null,null,null,null,null,null,null,null,null,null,null,null,null,null,null,null,null,null,null,null,null,null,null,null,null,null,null,null,null,null,null,null,null,null,null,null,null,null,null,null,null,null,null,null,null,null,null,null,null,null,null,null,null,null,null,null,null,null,null,null,null,null,null,null,null,null,null,null,null,null,null,null,null,null,null,null,null,null,null,null,null,null,null,null,null,null,null,null,null,null,null,null,null,null,null,null,null,null,null,null,null,null,null,null,null,null,null,null,null,null,null,null,null,null,null,null,null,null,null,null,null,null,null,null,null,null,null,null,null,null,null,null,null,null,null,null,null,null,null,null,null,null,null,null,null,null,null,null,null,null,null,null,null,null,null,null,null,null,null,null,null,null,null,null,null,null,null,null,null,null,null,null,null,null,null,null,null,null,null,null,null,null,null,null,null,null,null,null,null,null,null,null,null,null,null,null,null,null,null,null,null,null],\"xaxis\":\"x\",\"yaxis\":\"y\",\"type\":\"histogram\"}],                        {\"template\":{\"data\":{\"histogram2dcontour\":[{\"type\":\"histogram2dcontour\",\"colorbar\":{\"outlinewidth\":0,\"ticks\":\"\"},\"colorscale\":[[0.0,\"#0d0887\"],[0.1111111111111111,\"#46039f\"],[0.2222222222222222,\"#7201a8\"],[0.3333333333333333,\"#9c179e\"],[0.4444444444444444,\"#bd3786\"],[0.5555555555555556,\"#d8576b\"],[0.6666666666666666,\"#ed7953\"],[0.7777777777777778,\"#fb9f3a\"],[0.8888888888888888,\"#fdca26\"],[1.0,\"#f0f921\"]]}],\"choropleth\":[{\"type\":\"choropleth\",\"colorbar\":{\"outlinewidth\":0,\"ticks\":\"\"}}],\"histogram2d\":[{\"type\":\"histogram2d\",\"colorbar\":{\"outlinewidth\":0,\"ticks\":\"\"},\"colorscale\":[[0.0,\"#0d0887\"],[0.1111111111111111,\"#46039f\"],[0.2222222222222222,\"#7201a8\"],[0.3333333333333333,\"#9c179e\"],[0.4444444444444444,\"#bd3786\"],[0.5555555555555556,\"#d8576b\"],[0.6666666666666666,\"#ed7953\"],[0.7777777777777778,\"#fb9f3a\"],[0.8888888888888888,\"#fdca26\"],[1.0,\"#f0f921\"]]}],\"heatmap\":[{\"type\":\"heatmap\",\"colorbar\":{\"outlinewidth\":0,\"ticks\":\"\"},\"colorscale\":[[0.0,\"#0d0887\"],[0.1111111111111111,\"#46039f\"],[0.2222222222222222,\"#7201a8\"],[0.3333333333333333,\"#9c179e\"],[0.4444444444444444,\"#bd3786\"],[0.5555555555555556,\"#d8576b\"],[0.6666666666666666,\"#ed7953\"],[0.7777777777777778,\"#fb9f3a\"],[0.8888888888888888,\"#fdca26\"],[1.0,\"#f0f921\"]]}],\"heatmapgl\":[{\"type\":\"heatmapgl\",\"colorbar\":{\"outlinewidth\":0,\"ticks\":\"\"},\"colorscale\":[[0.0,\"#0d0887\"],[0.1111111111111111,\"#46039f\"],[0.2222222222222222,\"#7201a8\"],[0.3333333333333333,\"#9c179e\"],[0.4444444444444444,\"#bd3786\"],[0.5555555555555556,\"#d8576b\"],[0.6666666666666666,\"#ed7953\"],[0.7777777777777778,\"#fb9f3a\"],[0.8888888888888888,\"#fdca26\"],[1.0,\"#f0f921\"]]}],\"contourcarpet\":[{\"type\":\"contourcarpet\",\"colorbar\":{\"outlinewidth\":0,\"ticks\":\"\"}}],\"contour\":[{\"type\":\"contour\",\"colorbar\":{\"outlinewidth\":0,\"ticks\":\"\"},\"colorscale\":[[0.0,\"#0d0887\"],[0.1111111111111111,\"#46039f\"],[0.2222222222222222,\"#7201a8\"],[0.3333333333333333,\"#9c179e\"],[0.4444444444444444,\"#bd3786\"],[0.5555555555555556,\"#d8576b\"],[0.6666666666666666,\"#ed7953\"],[0.7777777777777778,\"#fb9f3a\"],[0.8888888888888888,\"#fdca26\"],[1.0,\"#f0f921\"]]}],\"surface\":[{\"type\":\"surface\",\"colorbar\":{\"outlinewidth\":0,\"ticks\":\"\"},\"colorscale\":[[0.0,\"#0d0887\"],[0.1111111111111111,\"#46039f\"],[0.2222222222222222,\"#7201a8\"],[0.3333333333333333,\"#9c179e\"],[0.4444444444444444,\"#bd3786\"],[0.5555555555555556,\"#d8576b\"],[0.6666666666666666,\"#ed7953\"],[0.7777777777777778,\"#fb9f3a\"],[0.8888888888888888,\"#fdca26\"],[1.0,\"#f0f921\"]]}],\"mesh3d\":[{\"type\":\"mesh3d\",\"colorbar\":{\"outlinewidth\":0,\"ticks\":\"\"}}],\"scatter\":[{\"fillpattern\":{\"fillmode\":\"overlay\",\"size\":10,\"solidity\":0.2},\"type\":\"scatter\"}],\"parcoords\":[{\"type\":\"parcoords\",\"line\":{\"colorbar\":{\"outlinewidth\":0,\"ticks\":\"\"}}}],\"scatterpolargl\":[{\"type\":\"scatterpolargl\",\"marker\":{\"colorbar\":{\"outlinewidth\":0,\"ticks\":\"\"}}}],\"bar\":[{\"error_x\":{\"color\":\"#2a3f5f\"},\"error_y\":{\"color\":\"#2a3f5f\"},\"marker\":{\"line\":{\"color\":\"#E5ECF6\",\"width\":0.5},\"pattern\":{\"fillmode\":\"overlay\",\"size\":10,\"solidity\":0.2}},\"type\":\"bar\"}],\"scattergeo\":[{\"type\":\"scattergeo\",\"marker\":{\"colorbar\":{\"outlinewidth\":0,\"ticks\":\"\"}}}],\"scatterpolar\":[{\"type\":\"scatterpolar\",\"marker\":{\"colorbar\":{\"outlinewidth\":0,\"ticks\":\"\"}}}],\"histogram\":[{\"marker\":{\"pattern\":{\"fillmode\":\"overlay\",\"size\":10,\"solidity\":0.2}},\"type\":\"histogram\"}],\"scattergl\":[{\"type\":\"scattergl\",\"marker\":{\"colorbar\":{\"outlinewidth\":0,\"ticks\":\"\"}}}],\"scatter3d\":[{\"type\":\"scatter3d\",\"line\":{\"colorbar\":{\"outlinewidth\":0,\"ticks\":\"\"}},\"marker\":{\"colorbar\":{\"outlinewidth\":0,\"ticks\":\"\"}}}],\"scattermapbox\":[{\"type\":\"scattermapbox\",\"marker\":{\"colorbar\":{\"outlinewidth\":0,\"ticks\":\"\"}}}],\"scatterternary\":[{\"type\":\"scatterternary\",\"marker\":{\"colorbar\":{\"outlinewidth\":0,\"ticks\":\"\"}}}],\"scattercarpet\":[{\"type\":\"scattercarpet\",\"marker\":{\"colorbar\":{\"outlinewidth\":0,\"ticks\":\"\"}}}],\"carpet\":[{\"aaxis\":{\"endlinecolor\":\"#2a3f5f\",\"gridcolor\":\"white\",\"linecolor\":\"white\",\"minorgridcolor\":\"white\",\"startlinecolor\":\"#2a3f5f\"},\"baxis\":{\"endlinecolor\":\"#2a3f5f\",\"gridcolor\":\"white\",\"linecolor\":\"white\",\"minorgridcolor\":\"white\",\"startlinecolor\":\"#2a3f5f\"},\"type\":\"carpet\"}],\"table\":[{\"cells\":{\"fill\":{\"color\":\"#EBF0F8\"},\"line\":{\"color\":\"white\"}},\"header\":{\"fill\":{\"color\":\"#C8D4E3\"},\"line\":{\"color\":\"white\"}},\"type\":\"table\"}],\"barpolar\":[{\"marker\":{\"line\":{\"color\":\"#E5ECF6\",\"width\":0.5},\"pattern\":{\"fillmode\":\"overlay\",\"size\":10,\"solidity\":0.2}},\"type\":\"barpolar\"}],\"pie\":[{\"automargin\":true,\"type\":\"pie\"}]},\"layout\":{\"autotypenumbers\":\"strict\",\"colorway\":[\"#636efa\",\"#EF553B\",\"#00cc96\",\"#ab63fa\",\"#FFA15A\",\"#19d3f3\",\"#FF6692\",\"#B6E880\",\"#FF97FF\",\"#FECB52\"],\"font\":{\"color\":\"#2a3f5f\"},\"hovermode\":\"closest\",\"hoverlabel\":{\"align\":\"left\"},\"paper_bgcolor\":\"white\",\"plot_bgcolor\":\"#E5ECF6\",\"polar\":{\"bgcolor\":\"#E5ECF6\",\"angularaxis\":{\"gridcolor\":\"white\",\"linecolor\":\"white\",\"ticks\":\"\"},\"radialaxis\":{\"gridcolor\":\"white\",\"linecolor\":\"white\",\"ticks\":\"\"}},\"ternary\":{\"bgcolor\":\"#E5ECF6\",\"aaxis\":{\"gridcolor\":\"white\",\"linecolor\":\"white\",\"ticks\":\"\"},\"baxis\":{\"gridcolor\":\"white\",\"linecolor\":\"white\",\"ticks\":\"\"},\"caxis\":{\"gridcolor\":\"white\",\"linecolor\":\"white\",\"ticks\":\"\"}},\"coloraxis\":{\"colorbar\":{\"outlinewidth\":0,\"ticks\":\"\"}},\"colorscale\":{\"sequential\":[[0.0,\"#0d0887\"],[0.1111111111111111,\"#46039f\"],[0.2222222222222222,\"#7201a8\"],[0.3333333333333333,\"#9c179e\"],[0.4444444444444444,\"#bd3786\"],[0.5555555555555556,\"#d8576b\"],[0.6666666666666666,\"#ed7953\"],[0.7777777777777778,\"#fb9f3a\"],[0.8888888888888888,\"#fdca26\"],[1.0,\"#f0f921\"]],\"sequentialminus\":[[0.0,\"#0d0887\"],[0.1111111111111111,\"#46039f\"],[0.2222222222222222,\"#7201a8\"],[0.3333333333333333,\"#9c179e\"],[0.4444444444444444,\"#bd3786\"],[0.5555555555555556,\"#d8576b\"],[0.6666666666666666,\"#ed7953\"],[0.7777777777777778,\"#fb9f3a\"],[0.8888888888888888,\"#fdca26\"],[1.0,\"#f0f921\"]],\"diverging\":[[0,\"#8e0152\"],[0.1,\"#c51b7d\"],[0.2,\"#de77ae\"],[0.3,\"#f1b6da\"],[0.4,\"#fde0ef\"],[0.5,\"#f7f7f7\"],[0.6,\"#e6f5d0\"],[0.7,\"#b8e186\"],[0.8,\"#7fbc41\"],[0.9,\"#4d9221\"],[1,\"#276419\"]]},\"xaxis\":{\"gridcolor\":\"white\",\"linecolor\":\"white\",\"ticks\":\"\",\"title\":{\"standoff\":15},\"zerolinecolor\":\"white\",\"automargin\":true,\"zerolinewidth\":2},\"yaxis\":{\"gridcolor\":\"white\",\"linecolor\":\"white\",\"ticks\":\"\",\"title\":{\"standoff\":15},\"zerolinecolor\":\"white\",\"automargin\":true,\"zerolinewidth\":2},\"scene\":{\"xaxis\":{\"backgroundcolor\":\"#E5ECF6\",\"gridcolor\":\"white\",\"linecolor\":\"white\",\"showbackground\":true,\"ticks\":\"\",\"zerolinecolor\":\"white\",\"gridwidth\":2},\"yaxis\":{\"backgroundcolor\":\"#E5ECF6\",\"gridcolor\":\"white\",\"linecolor\":\"white\",\"showbackground\":true,\"ticks\":\"\",\"zerolinecolor\":\"white\",\"gridwidth\":2},\"zaxis\":{\"backgroundcolor\":\"#E5ECF6\",\"gridcolor\":\"white\",\"linecolor\":\"white\",\"showbackground\":true,\"ticks\":\"\",\"zerolinecolor\":\"white\",\"gridwidth\":2}},\"shapedefaults\":{\"line\":{\"color\":\"#2a3f5f\"}},\"annotationdefaults\":{\"arrowcolor\":\"#2a3f5f\",\"arrowhead\":0,\"arrowwidth\":1},\"geo\":{\"bgcolor\":\"white\",\"landcolor\":\"#E5ECF6\",\"subunitcolor\":\"white\",\"showland\":true,\"showlakes\":true,\"lakecolor\":\"white\"},\"title\":{\"x\":0.05},\"mapbox\":{\"style\":\"light\"}}},\"xaxis\":{\"anchor\":\"y\",\"domain\":[0.0,1.0],\"title\":{\"text\":\"Planet Mass (Earth Mass)\"}},\"yaxis\":{\"anchor\":\"x\",\"domain\":[0.0,1.0],\"title\":{\"text\":\"count\"}},\"legend\":{\"tracegroupgap\":0},\"title\":{\"text\":\"Distribution of Planet Mass\"},\"barmode\":\"relative\",\"margin\":{\"l\":50,\"r\":50,\"t\":50,\"b\":50},\"bargap\":0.05,\"bargroupgap\":0.1,\"showlegend\":false},                        {\"responsive\": true}                    ).then(function(){\n",
              "                            \n",
              "var gd = document.getElementById('d777c01f-e148-4342-a220-3f3c2a11983f');\n",
              "var x = new MutationObserver(function (mutations, observer) {{\n",
              "        var display = window.getComputedStyle(gd).display;\n",
              "        if (!display || display === 'none') {{\n",
              "            console.log([gd, 'removed!']);\n",
              "            Plotly.purge(gd);\n",
              "            observer.disconnect();\n",
              "        }}\n",
              "}});\n",
              "\n",
              "// Listen for the removal of the full notebook cells\n",
              "var notebookContainer = gd.closest('#notebook-container');\n",
              "if (notebookContainer) {{\n",
              "    x.observe(notebookContainer, {childList: true});\n",
              "}}\n",
              "\n",
              "// Listen for the clearing of the current output cell\n",
              "var outputEl = gd.closest('.output');\n",
              "if (outputEl) {{\n",
              "    x.observe(outputEl, {childList: true});\n",
              "}}\n",
              "\n",
              "                        })                };                            </script>        </div>\n",
              "</body>\n",
              "</html>"
            ]
          },
          "metadata": {}
        }
      ]
    },
    {
      "cell_type": "markdown",
      "source": [
        "The provided chart illustrates the masses of planets relative to an 'Earth Mass'. In this visualization, the x-axis represents the ratio of a planet's mass to Earth's mass, where a value of 0 signifies planets with masses similar to Earth and increasing values denote multiples of Earth's mass. The chart reveals that a significant portion of planets in our dataset have masses comparable to Earth's or fall within a range of approximately 0 to 250 Earth Masses. This observation is critical for our modeling efforts as it highlights the prevalence of planets with masses similar to Earth or within a relatively narrow range of masses."
      ],
      "metadata": {
        "id": "d2j2VEB-D2hN"
      }
    },
    {
      "cell_type": "code",
      "source": [
        "fig = px.histogram(df, x='pl_eqt', title=\"Distribution of Equilibrium Temperature [K]\",\n",
        "                   labels={'pl_eqt': 'Equilibrium Temperature [K]'})\n",
        "fig.update_layout(bargap=0.05,\n",
        "                  bargroupgap=0.1,\n",
        "                  showlegend=False,\n",
        "                  margin=dict(l=50, r=50, t=50, b=50))\n",
        "fig.show()"
      ],
      "metadata": {
        "colab": {
          "base_uri": "https://localhost:8080/",
          "height": 0
        },
        "id": "ig8-rsXBFDPF",
        "outputId": "1243876a-6cbb-4e79-bb9b-71e81e664a5e"
      },
      "execution_count": 171,
      "outputs": [
        {
          "output_type": "display_data",
          "data": {
            "text/html": [
              "<html>\n",
              "<head><meta charset=\"utf-8\" /></head>\n",
              "<body>\n",
              "    <div>            <script src=\"https://cdnjs.cloudflare.com/ajax/libs/mathjax/2.7.5/MathJax.js?config=TeX-AMS-MML_SVG\"></script><script type=\"text/javascript\">if (window.MathJax && window.MathJax.Hub && window.MathJax.Hub.Config) {window.MathJax.Hub.Config({SVG: {font: \"STIX-Web\"}});}</script>                <script type=\"text/javascript\">window.PlotlyConfig = {MathJaxConfig: 'local'};</script>\n",
              "        <script charset=\"utf-8\" src=\"https://cdn.plot.ly/plotly-2.24.1.min.js\"></script>                <div id=\"9f2937d9-3d90-4b03-9880-62ca5c91e837\" class=\"plotly-graph-div\" style=\"height:525px; width:100%;\"></div>            <script type=\"text/javascript\">                                    window.PLOTLYENV=window.PLOTLYENV || {};                                    if (document.getElementById(\"9f2937d9-3d90-4b03-9880-62ca5c91e837\")) {                    Plotly.newPlot(                        \"9f2937d9-3d90-4b03-9880-62ca5c91e837\",                        [{\"alignmentgroup\":\"True\",\"bingroup\":\"x\",\"hovertemplate\":\"Equilibrium Temperature [K]=%{x}\\u003cbr\\u003ecount=%{y}\\u003cextra\\u003e\\u003c\\u002fextra\\u003e\",\"legendgroup\":\"\",\"marker\":{\"color\":\"#636efa\",\"pattern\":{\"shape\":\"\"}},\"name\":\"\",\"offsetgroup\":\"\",\"orientation\":\"v\",\"showlegend\":false,\"x\":[1054.0,null,null,772.0,null,null,null,null,2336.0,null,null,830.0,null,null,null,null,null,null,null,null,null,null,null,null,null,null,null,null,null,null,null,713.0,null,null,null,608.0,null,null,null,1313.0,480.0,null,null,null,null,null,null,null,null,null,null,null,null,null,null,null,null,null,null,null,null,null,null,null,null,null,null,null,null,null,null,null,536.0,null,null,null,null,null,null,null,null,null,null,518.0,null,null,null,null,null,null,null,null,null,null,null,null,null,null,null,null,null,1226.0,null,null,529.0,null,null,null,null,null,null,null,null,null,null,null,null,null,null,null,null,null,null,613.0,null,null,null,null,null,null,null,null,null,null,null,null,null,null,null,null,null,null,null,null,null,null,null,null,null,null,null,null,null,null,null,null,null,null,null,null,null,null,null,null,null,null,null,null,null,null,null,null,null,null,null,null,null,null,null,null,null,null,null,null,null,null,null,null,null,null,null,1699.0,null,null,null,null,null,null,null,null,null,null,null,null,null,null,null,null,null,null,null,null,null,null,null,null,null,null,null,null,null,null,null,null,null,null,null,null,null,null,null,null,null,null,null,null,null,null,null,null,null,null,null,null,null,null,null,null,null,null,null,null,null,null,null,null,null,null,null,null,null,null,null,null,null,null,null,null,null,null,null,null,null,null,null,null,null,null,null,null,null,null,null,null,null,null,null,null,null,null,null,null,null,null,null,null,null,null,null,null,null,null,null,null,null,null,null,null,null,null,null,null,null,null,null,null,null,null,697.0,null,null,null,null,null,null,null,null,null,null,null,null,null,null,null,null,null,null,null,null,null,null,null,null,null,null,null,null,null,null,null,null,null,null,null,null,null,null,null,null,null,null,null,null,null,null,null,null,null,null,null,null,null,null,null,null,null,null,null,null,null,null,null,null,null,null,null,null,null,null,null,null,null,null,null,null,null,null,null,null,null,null,null,null,null,null,null,null,null,null,null,null,null,null,null,null,null,null,null,null,null,null,null,1767.0,null,null,null,null,null,null,null,null,null,null,null,null,527.0,null,null,null,null,null,null,null,null,null,null,null,null,null,null,null,null,null,null,null,null,null,null,null,null,null,null,null,null,null,null,null,null,null,null,null,null,null,null,null,null,null,null,null,null,null,null,null,null,null,null,null,null,null,null,null,null,null,null,null,null,null,null,null,null,null,null,null,null,null,null,null,null,null,null,null,null,null,null,1690.0,null,null,null,null,null,null,1780.0,1597.0,null,2072.0,null,null,681.0,null,null,null,null,null,1001.0,null,null,null,null,null,null,null,null,null,null,null,null,null,null,null,null,null,null,1490.0,1663.0,null,null,null,null,null,null,null,null,null,null,null,null,null,null,null,null,null,null,null,null,null,null,null,null,null,null,null,null,null,null,null,null,null,null,null,null,null,null,null,null,null,null,null,351.0,null,null,null,null,null,null,null,null,null,null,680.0,null,null,null,null,null,null,null,null,null,null,222.0,null,null,null,null,null,null,null,null,null,null,476.0,null,591.0,null,null,null,null,null,null,null,null,null,null,null,null,1141.0,1775.0,null,null,null,null,null,null,null,null,null,null,null,null,null,null,null,null,null,null,null,null,null,null,null,null,null,null,null,null,null,null,null,null,null,null,null,null,null,1228.0,null,null,null,null,null,null,null,null,null,1326.0,null,null,null,null,null,null,null,null,null,null,null,null,null,1144.0,null,null,null,null,null,null,null,null,null,null,null,null,null,null,null,null,null,null,null,null,null,null,null,null,null,null,null,null,null,null,null,null,null,null,null,null,null,null,null,null,1356.0,null,1528.0,null,null,null,null,null,null,null,null,null,null,1013.0,null,null,null,null,null,null,null,null,null,null,null,null,null,null,null,null,null,null,null,null,null,null,null,null,null,null,null,null,null,null,null,null,null,null,null,null,null,null,null,null,null,null,null,null,null,null,null,null,null,null,null,null,null,null,null,null,null,null,null,null,null,null,null,null,null,null,null,null,null,null,null,null,null,null,null,null,null,null,null,null,null,null,null,null,null,null,null,null,null,null,null,null,null,null,null,null,null,null,null,null,null,null,null,null,null,null,null,null,null,null,null,null,null,null,null,null,null,null,null,null,null,null,null,null,null,null,null,null,null,null,null,null,null,null,null,null,null,null,null,null,null,null,null,null,null,null,null,null,null,null,null,null,null,null,null,null,null,null,null,null,null,null,null,null,null,null,null,null,null,null,null,null,null,null,null,null,null,null,null,null,null,null,null,null,null,null,null,null,null,null,null,null,null,null,null,null,null,null,null,null,null,null,null,null,null,null,null,null,null,null,null,null,null,null,null,null,null,null,null,null,null,null,null,null,null,null,null,null,null,null,null,null,null,null,null,null,null,null,null,null,null,null,null,null,null,null,null,null,null,null,null,null,null,null,null,null,null,null,null,null,null,null,null,null,null,null,null,null,null,null,null,null,null,null,null,null,null,null,null,null,null,null,null,null,null,null,null,null,null,null,null,null,null,null,null,null,null,null,null,null,null,null,null,null,null,null,null,null,null,null,null,null,null,null,null,null,null,null,null,null,364.0,null,null,1325.0,null,null,null,null,884.0,null,null,null,1282.0,null,null,null,null,null,null,null,null,null,null,null,null,null,null,null,null,null,null,null,null,null,null,null,null,null,null,null,null,null,null,null,null,null,null,null,null,null,null,null,null,null,null,null,null,null,null,null,1086.0,null,null,null,null,null,null,null,null,null,null,null,null,null,null,null,null,null,null,530.0,null,null,null,null,null,null,null,null,null,null,null,null,null,null,null,null,null,null,null,null,null,null,null,null,null,null,675.0,734.0,727.0,741.0,1000.0,null,null,571.0,812.0,1142.0,null,644.0,null,516.0,914.0,null,1503.0,null,498.0,null,946.0,870.0,null,null,null,null,null,706.0,null,null,null,null,null,null,null,null,null,null,null,null,null,null,null,null,986.0,null,null,null,928.0,851.0,516.0,null,null,null,null,null,null,null,null,null,null,null,null,null,452.0,null,null,null,null,956.0,null,null,1342.0,null,null,null,null,null,null,null,null,null,null,null,null,null,null,null,null,null,null,null,null,null,null,690.0,null,null,870.0,null,null,null,null,null,873.0,417.0,null,null,null,null,null,null,null,null,null,null,null,null,null,null,null,null,null,null,null,null,null,null,null,null,null,null,null,null,null,407.0,null,null,null,855.0,null,null,null,null,null,null,null,null,null,null,null,830.0,null,null,null,null,1349.0,null,null,null,null,null,null,null,null,522.0,null,null,86.0,420.0,null,null,null,482.0,82.0,585.0,null,null,null,null,null,null,546.0,null,null,null,null,null,null,null,null,1874.0,null,null,null,null,null,null,null,null,null,null,null,null,null,null,null,null,null,null,null,null,null,null,null,null,null,null,null,null,null,null,null,null,431.0,null,817.0,null,null,886.0,null,null,662.0,null,null,1149.0,null,866.0,null,null,null,null,null,null,756.0,null,null,null,null,658.0,null,null,null,null,null,536.0,null,null,316.0,null,null,null,2333.0,2063.0,null,2119.0,2300.0,null,null,null,null,722.0,null,741.0,774.0,null,805.0,null,null,932.0,null,804.0,739.0,null,1401.0,1330.0,183.0,1616.0,990.0,752.0,393.0,null,456.0,null,1044.0,1114.0,1172.0,1175.0,null,1183.0,771.0,811.0,813.0,722.0,null,605.0,681.0,646.0,null,680.0,null,null,604.0,null,818.0,null,null,null,null,null,null,null,null,null,1840.0,null,1705.0,null,1637.0,null,null,1596.0,null,null,1446.0,null,null,2097.0,null,null,1356.0,1203.0,null,null,1746.0,null,null,1823.0,null,1046.0,1153.0,1146.0,null,null,874.0,null,null,886.0,null,null,804.0,2130.0,370.0,1777.0,1860.0,null,1774.0,null,null,1669.0,null,null,1759.0,null,null,548.0,564.0,565.0,531.0,null,500.0,null,null,null,null,860.0,null,375.0,null,null,2302.0,2463.0,null,1089.0,1053.0,1068.0,1039.0,745.0,644.0,null,690.0,null,912.0,null,null,697.0,null,null,null,null,null,null,null,null,null,null,null,null,null,null,null,null,703.0,null,1748.0,null,null,1461.0,null,1841.0,null,null,1094.0,null,null,null,null,null,null,618.0,null,null,null,798.0,null,null,null,null,null,null,null,null,814.0,928.0,null,null,null,null,958.0,null,null,null,1780.0,1649.0,null,null,null,null,1360.0,null,null,1446.0,null,734.0,null,null,null,575.0,null,null,null,640.0,null,638.0,null,null,1309.0,1309.0,null,null,null,null,1136.0,1098.0,1178.0,null,null,null,722.0,null,719.0,null,661.0,701.0,667.0,null,null,682.0,null,null,592.0,619.0,null,null,null,null,null,null,null,857.0,null,null,null,null,868.0,null,537.0,null,null,null,null,null,null,null,null,null,null,null,666.0,null,null,null,1003.0,1026.0,null,null,null,null,null,738.0,null,935.0,723.0,null,null,null,null,null,null,null,814.0,null,null,769.0,null,null,null,null,null,338.0,null,null,null,null,null,null,445.0,null,null,442.0,null,null,null,null,null,null,null,601.0,809.0,null,null,null,null,null,null,null,null,null,null,null,511.0,null,null,null,null,2062.0,null,2008.0,null,2223.0,null,null,null,1586.0,null,1152.0,null,null,null,null,734.0,null,null,296.0,610.0,553.0,null,null,null,658.0,470.0,425.0,373.0,420.0,null,null,1471.0,1157.0,null,null,1012.0,null,null,null,null,888.0,794.0,null,null,757.0,null,null,653.0,null,445.0,null,524.0,null,null,565.0,null,null,null,488.0,null,1114.0,null,962.0,957.0,null,2103.0,2211.0,null,2039.0,695.0,null,null,null,null,534.0,null,null,null,null,null,null,null,null,null,null,null,null,null,null,null,null,null,null,null,null,676.0,null,null,null,null,566.0,null,337.0,null,null,497.0,715.0,null,null,552.0,708.0,null,null,451.0,583.0,null,381.0,null,1347.0,null,null,null,null,794.0,948.0,null,684.0,null,710.0,658.0,null,null,null,null,null,523.0,null,485.0,null,null,631.0,null,null,null,null,null,null,null,629.0,null,null,1140.0,null,1131.0,null,null,null,1062.0,1174.0,null,null,961.0,766.0,null,null,null,null,null,null,null,null,null,null,null,487.0,null,null,null,null,null,null,null,null,null,null,null,null,null,null,null,null,null,null,null,null,null,455.0,871.0,null,null,null,null,null,null,null,null,null,null,null,284.0,272.0,235.0,255.0,null,null,null,null,null,260.0,363.0,null,802.0,null,691.0,null,731.0,null,729.0,null,null,null,962.0,null,null,null,null,null,982.0,null,null,969.0,1166.0,885.0,null,null,null,null,null,null,null,null,null,787.0,null,null,615.0,null,null,null,580.0,533.0,null,null,null,null,null,null,809.0,null,477.0,null,null,null,1815.0,null,null,null,1173.0,null,null,null,null,null,null,null,null,null,null,865.0,null,null,698.0,null,null,null,1692.0,null,1085.0,1026.0,null,null,null,null,1197.0,null,null,null,null,null,null,null,872.0,null,null,null,null,null,null,null,null,854.0,null,null,null,913.0,783.0,797.0,null,null,null,null,null,null,null,null,null,745.0,null,1252.0,null,null,null,null,null,null,null,null,null,null,null,null,null,null,null,939.0,null,null,null,739.0,null,null,null,null,null,null,720.0,null,null,null,null,null,null,null,848.0,null,null,null,null,null,null,716.0,1230.0,null,943.0,null,null,913.0,null,null,861.0,null,null,null,null,null,653.0,null,694.0,null,null,null,null,null,null,null,null,null,null,null,null,null,null,null,null,null,null,null,null,null,null,null,null,null,null,500.0,null,null,null,420.0,null,null,null,null,null,null,null,null,null,532.0,null,542.0,null,null,null,1006.0,null,null,null,null,null,null,1013.0,null,1103.0,null,992.0,null,null,null,null,null,null,null,null,null,null,null,null,null,null,null,2100.0,null,null,758.0,null,null,null,null,871.0,null,null,779.0,801.0,null,null,2271.0,null,null,1091.0,1002.0,null,null,764.0,902.0,null,1120.0,null,null,null,914.0,null,null,1818.0,null,1960.0,null,750.0,800.0,null,1529.0,null,null,1171.0,1030.0,1001.0,1121.0,1040.0,728.0,790.0,523.0,482.0,null,1838.0,1828.0,null,null,1654.0,1884.0,null,1587.0,502.0,427.0,399.0,null,767.0,709.0,null,null,null,null,null,null,null,606.0,null,null,null,null,560.0,586.0,389.0,507.0,416.0,1035.0,801.0,638.0,null,923.0,977.0,979.0,688.0,886.0,1061.0,null,448.0,null,494.0,null,958.0,437.0,639.0,1238.0,1115.0,791.0,551.0,1034.0,845.0,789.0,831.0,null,795.0,null,430.0,null,null,null,null,1957.0,1973.0,null,1080.0,null,1030.0,935.0,null,1046.0,null,470.0,null,470.0,496.0,489.0,331.0,326.0,null,null,null,null,null,null,1515.0,664.0,538.0,513.0,490.0,467.0,null,1136.0,1121.0,null,null,null,null,688.0,null,696.0,888.0,null,null,801.0,null,492.0,1429.0,null,null,null,null,null,991.0,null,null,null,null,902.0,965.0,1203.0,null,null,null,null,null,null,848.0,null,null,null,842.0,null,893.0,null,747.0,null,655.0,null,null,null,null,null,672.0,null,null,null,null,null,849.0,null,null,null,655.0,null,589.0,null,null,null,null,null,null,905.0,933.0,null,1166.0,null,660.0,624.0,null,null,653.0,null,583.0,null,null,954.0,null,null,null,null,958.0,null,null,null,null,1711.0,null,879.0,null,null,null,420.0,568.0,null,548.0,590.0,null,null,null,787.0,null,744.0,null,null,665.0,null,null,null,null,null,null,1057.0,1186.0,null,null,919.0,653.0,1163.0,1089.0,741.0,787.0,620.0,501.0,347.0,804.0,226.0,null,null,null,753.0,null,1047.0,null,null,null,1171.0,null,null,1076.0,null,1230.0,676.0,null,null,null,1301.0,795.0,750.0,1425.0,852.0,null,null,876.0,504.0,null,null,null,null,null,null,501.0,463.0,513.0,null,null,null,null,373.0,null,344.0,null,372.0,381.0,null,null,374.0,null,null,null,null,null,null,null,null,null,312.0,282.0,null,null,null,null,null,300.0,305.0,null,1054.0,null,1092.0,1185.0,1203.0,null,null,null,null,1214.0,null,null,null,null,null,460.0,841.0,423.0,432.0,456.0,641.0,null,769.0,null,null,null,null,837.0,817.0,null,null,619.0,null,583.0,null,null,634.0,null,null,null,null,537.0,null,550.0,null,null,null,505.0,null,1066.0,null,null,698.0,734.0,701.0,635.0,318.0,707.0,423.0,1114.0,650.0,850.0,null,null,null,null,null,null,969.0,null,null,912.0,null,673.0,266.0,null,null,811.0,826.0,null,null,1212.0,1380.0,null,949.0,null,null,null,null,569.0,null,null,null,850.0,null,null,783.0,null,508.0,null,null,1715.0,null,1552.0,null,null,1742.0,null,null,null,null,1559.0,1687.0,606.0,null,null,null,598.0,null,null,861.0,null,653.0,null,465.0,null,722.0,null,688.0,null,437.0,null,439.0,null,450.0,null,null,640.0,null,null,908.0,null,946.0,null,655.0,null,518.0,null,null,979.0,null,null,null,null,737.0,null,null,null,null,766.0,null,687.0,null,null,934.0,null,null,null,885.0,null,727.0,543.0,null,1066.0,624.0,735.0,888.0,null,null,null,1224.0,null,1232.0,1328.0,null,null,854.0,793.0,null,null,788.0,null,null,null,null,null,null,null,null,null,null,null,null,null,null,null,null,null,null,null,null,null,null,null,974.0,null,null,null,null,null,null,null,null,null,861.0,null,null,null,663.0,null,1267.0,null,null,null,null,null,null,957.0,null,null,null,null,null,null,null,null,null,null,null,null,null,null,null,null,null,null,null,null,null,null,null,null,null,null,1310.0,null,1184.0,null,1266.0,null,858.0,949.0,null,916.0,null,null,null,null,null,null,null,null,null,null,null,null,null,null,null,null,null,null,null,null,null,null,null,null,null,null,null,null,null,null,null,null,null,null,null,null,null,null,922.0,null,null,null,null,null,null,null,null,1670.0,null,null,null,1119.0,null,null,null,null,null,null,null,null,null,null,null,null,null,null,null,null,null,null,null,null,null,null,null,null,2529.0,null,null,null,563.0,null,null,null,null,null,null,null,null,null,949.0,null,null,null,969.0,null,null,null,null,null,null,null,null,null,null,null,null,null,null,null,null,null,null,412.0,374.0,447.0,558.0,null,null,null,null,null,null,637.0,null,939.0,null,1094.0,null,null,1211.0,null,null,null,null,null,null,null,1074.0,null,null,null,null,889.0,null,null,null,null,null,null,null,null,null,null,565.0,634.0,null,null,null,null,511.0,456.0,null,null,null,null,null,2004.0,null,null,null,null,null,null,665.0,null,null,912.0,null,null,null,null,null,null,null,null,null,null,null,null,null,null,null,null,null,null,null,null,null,null,null,null,null,null,null,null,null,null,null,null,615.0,2254.0,1400.0,null,null,null,null,null,null,null,null,null,null,null,null,null,null,null,null,null,null,null,null,null,null,null,null,null,null,null,null,null,null,null,null,null,null,null,null,1372.0,null,null,null,null,null,null,null,null,null,651.0,null,null,null,null,null,null,null,null,null,null,null,null,null,null,null,null,null,null,null,null,null,null,null,null,null,null,null,null,null,null,null,null,null,null,null,null,null,null,693.0,null,null,1022.0,null,null,null,631.0,null,null,null,null,691.0,801.0,null,877.0,null,null,null,null,null,null,null,null,null,null,null,null,null,null,null,null,null,null,null,null,null,null,null,null,null,null,null,null,null,null,null,null,null,null,null,1214.0,979.0,null,null,null,null,null,null,null,null,null,314.0,284.0,null,null,null,502.0,null,null,null,null,null,null,null,null,null,null,383.0,474.0,null,null,null,null,null,null,null,null,910.0,1499.0,null,null,null,null,null,null,1092.0,null,null,null,1102.0,null,1563.0,null,null,null,null,1113.0,null,null,null,null,null,null,null,1285.0,null,null,1344.0,1292.0,301.0,803.0,null,398.0,null,366.0,400.0,400.0,null,null,315.0,340.0,342.0,null,342.0,286.0,null,null,288.0,null,null,null,250.0,251.0,219.0,null,null,null,218.0,null,null,197.0,199.0,null,172.0,168.0,null,173.0,668.0,null,null,677.0,null,null,968.0,null,null,845.0,null,null,null,492.0,null,736.0,770.0,null,null,null,687.0,null,null,null,1753.0,null,null,null,2509.0,1729.0,1290.0,1312.0,null,1243.0,null,null,null,1193.0,null,null,1339.0,null,1473.0,1430.0,null,1456.0,null,1468.0,null,null,null,null,null,null,null,null,null,null,null,null,1259.0,1275.0,null,null,null,null,247.0,null,null,null,null,null,null,null,null,null,null,null,null,null,null,null,null,null,null,null,null,null,null,null,null,1189.0,null,null,null,null,null,1300.0,null,null,1710.0,null,null,null,null,1232.0,null,null,null,null,null,null,1452.0,1283.0,789.0,805.0,790.0,1466.0,null,null,null,null,null,null,null,930.0,null,441.0,null,null,null,707.0,null,null,null,null,null,null,null,null,null,null,null,null,null,null,null,null,null,null,null,null,null,null,null,null,null,null,null,null,null,null,null,null,null,null,null,null,null,null,null,null,null,null,null,null,null,null,null,null,null,null,null,null,null,null,null,null,null,null,1729.0,null,null,null,null,null,null,null,null,null,null,null,null,null,null,null,null,null,null,null,null,null,null,null,null,null,null,null,null,null,null,null,null,null,null,null,null,null,null,null,null,null,null,null,null,null,null,null,null,null,null,null,null,null,null,null,null,null,null,null,null,null,null,null,2277.0,1162.0,null,null,null,null,null,null,null,null,null,null,null,null,null,null,null,null,null,null,null,null,null,null,null,null,null,null,null,null,null,null,null,null,null,null,null,null,null,null,null,null,null,null,null,null,null,null,null,543.0,null,null,null,null,null,null,null,null,null,null,null,null,null,null,null,null,null,null,null,null,null,null,null,null,null,null,null,null,null,null,null,null,null,null,null,null,null,null,null,null,null,null,null,null,null,null,null,null,null,null,null,null,null,null,null,null,null,null,null,null,null,null,null,null,null,null,null,null,null,null,null,null,1173.0,null,null,null,null,null,null,null,null,null,null,null,null,null,null,null,null,null,null,null,null,null,null,null,null,null,null,null,null,null,null,null,null,null,null,null,null,null,null,null,null,null,null,null,null,null,null,null,null,1065.0,null,null],\"xaxis\":\"x\",\"yaxis\":\"y\",\"type\":\"histogram\"}],                        {\"template\":{\"data\":{\"histogram2dcontour\":[{\"type\":\"histogram2dcontour\",\"colorbar\":{\"outlinewidth\":0,\"ticks\":\"\"},\"colorscale\":[[0.0,\"#0d0887\"],[0.1111111111111111,\"#46039f\"],[0.2222222222222222,\"#7201a8\"],[0.3333333333333333,\"#9c179e\"],[0.4444444444444444,\"#bd3786\"],[0.5555555555555556,\"#d8576b\"],[0.6666666666666666,\"#ed7953\"],[0.7777777777777778,\"#fb9f3a\"],[0.8888888888888888,\"#fdca26\"],[1.0,\"#f0f921\"]]}],\"choropleth\":[{\"type\":\"choropleth\",\"colorbar\":{\"outlinewidth\":0,\"ticks\":\"\"}}],\"histogram2d\":[{\"type\":\"histogram2d\",\"colorbar\":{\"outlinewidth\":0,\"ticks\":\"\"},\"colorscale\":[[0.0,\"#0d0887\"],[0.1111111111111111,\"#46039f\"],[0.2222222222222222,\"#7201a8\"],[0.3333333333333333,\"#9c179e\"],[0.4444444444444444,\"#bd3786\"],[0.5555555555555556,\"#d8576b\"],[0.6666666666666666,\"#ed7953\"],[0.7777777777777778,\"#fb9f3a\"],[0.8888888888888888,\"#fdca26\"],[1.0,\"#f0f921\"]]}],\"heatmap\":[{\"type\":\"heatmap\",\"colorbar\":{\"outlinewidth\":0,\"ticks\":\"\"},\"colorscale\":[[0.0,\"#0d0887\"],[0.1111111111111111,\"#46039f\"],[0.2222222222222222,\"#7201a8\"],[0.3333333333333333,\"#9c179e\"],[0.4444444444444444,\"#bd3786\"],[0.5555555555555556,\"#d8576b\"],[0.6666666666666666,\"#ed7953\"],[0.7777777777777778,\"#fb9f3a\"],[0.8888888888888888,\"#fdca26\"],[1.0,\"#f0f921\"]]}],\"heatmapgl\":[{\"type\":\"heatmapgl\",\"colorbar\":{\"outlinewidth\":0,\"ticks\":\"\"},\"colorscale\":[[0.0,\"#0d0887\"],[0.1111111111111111,\"#46039f\"],[0.2222222222222222,\"#7201a8\"],[0.3333333333333333,\"#9c179e\"],[0.4444444444444444,\"#bd3786\"],[0.5555555555555556,\"#d8576b\"],[0.6666666666666666,\"#ed7953\"],[0.7777777777777778,\"#fb9f3a\"],[0.8888888888888888,\"#fdca26\"],[1.0,\"#f0f921\"]]}],\"contourcarpet\":[{\"type\":\"contourcarpet\",\"colorbar\":{\"outlinewidth\":0,\"ticks\":\"\"}}],\"contour\":[{\"type\":\"contour\",\"colorbar\":{\"outlinewidth\":0,\"ticks\":\"\"},\"colorscale\":[[0.0,\"#0d0887\"],[0.1111111111111111,\"#46039f\"],[0.2222222222222222,\"#7201a8\"],[0.3333333333333333,\"#9c179e\"],[0.4444444444444444,\"#bd3786\"],[0.5555555555555556,\"#d8576b\"],[0.6666666666666666,\"#ed7953\"],[0.7777777777777778,\"#fb9f3a\"],[0.8888888888888888,\"#fdca26\"],[1.0,\"#f0f921\"]]}],\"surface\":[{\"type\":\"surface\",\"colorbar\":{\"outlinewidth\":0,\"ticks\":\"\"},\"colorscale\":[[0.0,\"#0d0887\"],[0.1111111111111111,\"#46039f\"],[0.2222222222222222,\"#7201a8\"],[0.3333333333333333,\"#9c179e\"],[0.4444444444444444,\"#bd3786\"],[0.5555555555555556,\"#d8576b\"],[0.6666666666666666,\"#ed7953\"],[0.7777777777777778,\"#fb9f3a\"],[0.8888888888888888,\"#fdca26\"],[1.0,\"#f0f921\"]]}],\"mesh3d\":[{\"type\":\"mesh3d\",\"colorbar\":{\"outlinewidth\":0,\"ticks\":\"\"}}],\"scatter\":[{\"fillpattern\":{\"fillmode\":\"overlay\",\"size\":10,\"solidity\":0.2},\"type\":\"scatter\"}],\"parcoords\":[{\"type\":\"parcoords\",\"line\":{\"colorbar\":{\"outlinewidth\":0,\"ticks\":\"\"}}}],\"scatterpolargl\":[{\"type\":\"scatterpolargl\",\"marker\":{\"colorbar\":{\"outlinewidth\":0,\"ticks\":\"\"}}}],\"bar\":[{\"error_x\":{\"color\":\"#2a3f5f\"},\"error_y\":{\"color\":\"#2a3f5f\"},\"marker\":{\"line\":{\"color\":\"#E5ECF6\",\"width\":0.5},\"pattern\":{\"fillmode\":\"overlay\",\"size\":10,\"solidity\":0.2}},\"type\":\"bar\"}],\"scattergeo\":[{\"type\":\"scattergeo\",\"marker\":{\"colorbar\":{\"outlinewidth\":0,\"ticks\":\"\"}}}],\"scatterpolar\":[{\"type\":\"scatterpolar\",\"marker\":{\"colorbar\":{\"outlinewidth\":0,\"ticks\":\"\"}}}],\"histogram\":[{\"marker\":{\"pattern\":{\"fillmode\":\"overlay\",\"size\":10,\"solidity\":0.2}},\"type\":\"histogram\"}],\"scattergl\":[{\"type\":\"scattergl\",\"marker\":{\"colorbar\":{\"outlinewidth\":0,\"ticks\":\"\"}}}],\"scatter3d\":[{\"type\":\"scatter3d\",\"line\":{\"colorbar\":{\"outlinewidth\":0,\"ticks\":\"\"}},\"marker\":{\"colorbar\":{\"outlinewidth\":0,\"ticks\":\"\"}}}],\"scattermapbox\":[{\"type\":\"scattermapbox\",\"marker\":{\"colorbar\":{\"outlinewidth\":0,\"ticks\":\"\"}}}],\"scatterternary\":[{\"type\":\"scatterternary\",\"marker\":{\"colorbar\":{\"outlinewidth\":0,\"ticks\":\"\"}}}],\"scattercarpet\":[{\"type\":\"scattercarpet\",\"marker\":{\"colorbar\":{\"outlinewidth\":0,\"ticks\":\"\"}}}],\"carpet\":[{\"aaxis\":{\"endlinecolor\":\"#2a3f5f\",\"gridcolor\":\"white\",\"linecolor\":\"white\",\"minorgridcolor\":\"white\",\"startlinecolor\":\"#2a3f5f\"},\"baxis\":{\"endlinecolor\":\"#2a3f5f\",\"gridcolor\":\"white\",\"linecolor\":\"white\",\"minorgridcolor\":\"white\",\"startlinecolor\":\"#2a3f5f\"},\"type\":\"carpet\"}],\"table\":[{\"cells\":{\"fill\":{\"color\":\"#EBF0F8\"},\"line\":{\"color\":\"white\"}},\"header\":{\"fill\":{\"color\":\"#C8D4E3\"},\"line\":{\"color\":\"white\"}},\"type\":\"table\"}],\"barpolar\":[{\"marker\":{\"line\":{\"color\":\"#E5ECF6\",\"width\":0.5},\"pattern\":{\"fillmode\":\"overlay\",\"size\":10,\"solidity\":0.2}},\"type\":\"barpolar\"}],\"pie\":[{\"automargin\":true,\"type\":\"pie\"}]},\"layout\":{\"autotypenumbers\":\"strict\",\"colorway\":[\"#636efa\",\"#EF553B\",\"#00cc96\",\"#ab63fa\",\"#FFA15A\",\"#19d3f3\",\"#FF6692\",\"#B6E880\",\"#FF97FF\",\"#FECB52\"],\"font\":{\"color\":\"#2a3f5f\"},\"hovermode\":\"closest\",\"hoverlabel\":{\"align\":\"left\"},\"paper_bgcolor\":\"white\",\"plot_bgcolor\":\"#E5ECF6\",\"polar\":{\"bgcolor\":\"#E5ECF6\",\"angularaxis\":{\"gridcolor\":\"white\",\"linecolor\":\"white\",\"ticks\":\"\"},\"radialaxis\":{\"gridcolor\":\"white\",\"linecolor\":\"white\",\"ticks\":\"\"}},\"ternary\":{\"bgcolor\":\"#E5ECF6\",\"aaxis\":{\"gridcolor\":\"white\",\"linecolor\":\"white\",\"ticks\":\"\"},\"baxis\":{\"gridcolor\":\"white\",\"linecolor\":\"white\",\"ticks\":\"\"},\"caxis\":{\"gridcolor\":\"white\",\"linecolor\":\"white\",\"ticks\":\"\"}},\"coloraxis\":{\"colorbar\":{\"outlinewidth\":0,\"ticks\":\"\"}},\"colorscale\":{\"sequential\":[[0.0,\"#0d0887\"],[0.1111111111111111,\"#46039f\"],[0.2222222222222222,\"#7201a8\"],[0.3333333333333333,\"#9c179e\"],[0.4444444444444444,\"#bd3786\"],[0.5555555555555556,\"#d8576b\"],[0.6666666666666666,\"#ed7953\"],[0.7777777777777778,\"#fb9f3a\"],[0.8888888888888888,\"#fdca26\"],[1.0,\"#f0f921\"]],\"sequentialminus\":[[0.0,\"#0d0887\"],[0.1111111111111111,\"#46039f\"],[0.2222222222222222,\"#7201a8\"],[0.3333333333333333,\"#9c179e\"],[0.4444444444444444,\"#bd3786\"],[0.5555555555555556,\"#d8576b\"],[0.6666666666666666,\"#ed7953\"],[0.7777777777777778,\"#fb9f3a\"],[0.8888888888888888,\"#fdca26\"],[1.0,\"#f0f921\"]],\"diverging\":[[0,\"#8e0152\"],[0.1,\"#c51b7d\"],[0.2,\"#de77ae\"],[0.3,\"#f1b6da\"],[0.4,\"#fde0ef\"],[0.5,\"#f7f7f7\"],[0.6,\"#e6f5d0\"],[0.7,\"#b8e186\"],[0.8,\"#7fbc41\"],[0.9,\"#4d9221\"],[1,\"#276419\"]]},\"xaxis\":{\"gridcolor\":\"white\",\"linecolor\":\"white\",\"ticks\":\"\",\"title\":{\"standoff\":15},\"zerolinecolor\":\"white\",\"automargin\":true,\"zerolinewidth\":2},\"yaxis\":{\"gridcolor\":\"white\",\"linecolor\":\"white\",\"ticks\":\"\",\"title\":{\"standoff\":15},\"zerolinecolor\":\"white\",\"automargin\":true,\"zerolinewidth\":2},\"scene\":{\"xaxis\":{\"backgroundcolor\":\"#E5ECF6\",\"gridcolor\":\"white\",\"linecolor\":\"white\",\"showbackground\":true,\"ticks\":\"\",\"zerolinecolor\":\"white\",\"gridwidth\":2},\"yaxis\":{\"backgroundcolor\":\"#E5ECF6\",\"gridcolor\":\"white\",\"linecolor\":\"white\",\"showbackground\":true,\"ticks\":\"\",\"zerolinecolor\":\"white\",\"gridwidth\":2},\"zaxis\":{\"backgroundcolor\":\"#E5ECF6\",\"gridcolor\":\"white\",\"linecolor\":\"white\",\"showbackground\":true,\"ticks\":\"\",\"zerolinecolor\":\"white\",\"gridwidth\":2}},\"shapedefaults\":{\"line\":{\"color\":\"#2a3f5f\"}},\"annotationdefaults\":{\"arrowcolor\":\"#2a3f5f\",\"arrowhead\":0,\"arrowwidth\":1},\"geo\":{\"bgcolor\":\"white\",\"landcolor\":\"#E5ECF6\",\"subunitcolor\":\"white\",\"showland\":true,\"showlakes\":true,\"lakecolor\":\"white\"},\"title\":{\"x\":0.05},\"mapbox\":{\"style\":\"light\"}}},\"xaxis\":{\"anchor\":\"y\",\"domain\":[0.0,1.0],\"title\":{\"text\":\"Equilibrium Temperature [K]\"}},\"yaxis\":{\"anchor\":\"x\",\"domain\":[0.0,1.0],\"title\":{\"text\":\"count\"}},\"legend\":{\"tracegroupgap\":0},\"title\":{\"text\":\"Distribution of Equilibrium Temperature [K]\"},\"barmode\":\"relative\",\"margin\":{\"l\":50,\"r\":50,\"t\":50,\"b\":50},\"bargap\":0.05,\"bargroupgap\":0.1,\"showlegend\":false},                        {\"responsive\": true}                    ).then(function(){\n",
              "                            \n",
              "var gd = document.getElementById('9f2937d9-3d90-4b03-9880-62ca5c91e837');\n",
              "var x = new MutationObserver(function (mutations, observer) {{\n",
              "        var display = window.getComputedStyle(gd).display;\n",
              "        if (!display || display === 'none') {{\n",
              "            console.log([gd, 'removed!']);\n",
              "            Plotly.purge(gd);\n",
              "            observer.disconnect();\n",
              "        }}\n",
              "}});\n",
              "\n",
              "// Listen for the removal of the full notebook cells\n",
              "var notebookContainer = gd.closest('#notebook-container');\n",
              "if (notebookContainer) {{\n",
              "    x.observe(notebookContainer, {childList: true});\n",
              "}}\n",
              "\n",
              "// Listen for the clearing of the current output cell\n",
              "var outputEl = gd.closest('.output');\n",
              "if (outputEl) {{\n",
              "    x.observe(outputEl, {childList: true});\n",
              "}}\n",
              "\n",
              "                        })                };                            </script>        </div>\n",
              "</body>\n",
              "</html>"
            ]
          },
          "metadata": {}
        }
      ]
    },
    {
      "cell_type": "markdown",
      "source": [
        "The provided histogram visualizes the distribution of equilibrium temperatures of exoplanets, measured in Kelvin (K). This insight is crucial for understanding the thermal characteristics of exoplanetary atmospheres, which play a significant role in determining their habitability and physical properties.\n",
        "\n",
        "The x-axis represents the equilibrium temperature of exoplanets, with each bar indicating the frequency of exoplanets falling within specific temperature ranges. The histogram reveals that the majority of exoplanets in our dataset exhibit equilibrium temperatures within a range of 300K to 100K (80-1340 Fahrenheit).\n",
        "\n",
        "Although we may think 1340 Farhrenheit would probably melt a human, there is still a chance for life for other extraterrestrial creatures."
      ],
      "metadata": {
        "id": "GQjMULHzF3z6"
      }
    },
    {
      "cell_type": "code",
      "source": [
        "fig = px.histogram(df, x='pl_insol', title=\"Distribution of Insolation Flux [Earth Flux]\",\n",
        "                   labels={'pl_insol': 'Insolation Flux [Earth Flux]'})\n",
        "fig.update_layout(bargap=0.05,\n",
        "                  bargroupgap=0.1,\n",
        "                  showlegend=False,\n",
        "                  margin=dict(l=50, r=50, t=50, b=50))\n",
        "fig.show()"
      ],
      "metadata": {
        "colab": {
          "base_uri": "https://localhost:8080/",
          "height": 0
        },
        "id": "ApkpH-W6HedY",
        "outputId": "19350e34-fac2-44ec-d61d-01e7a95580d8"
      },
      "execution_count": 172,
      "outputs": [
        {
          "output_type": "display_data",
          "data": {
            "text/html": [
              "<html>\n",
              "<head><meta charset=\"utf-8\" /></head>\n",
              "<body>\n",
              "    <div>            <script src=\"https://cdnjs.cloudflare.com/ajax/libs/mathjax/2.7.5/MathJax.js?config=TeX-AMS-MML_SVG\"></script><script type=\"text/javascript\">if (window.MathJax && window.MathJax.Hub && window.MathJax.Hub.Config) {window.MathJax.Hub.Config({SVG: {font: \"STIX-Web\"}});}</script>                <script type=\"text/javascript\">window.PlotlyConfig = {MathJaxConfig: 'local'};</script>\n",
              "        <script charset=\"utf-8\" src=\"https://cdn.plot.ly/plotly-2.24.1.min.js\"></script>                <div id=\"06f983e6-e440-4030-a3c6-cc62ea8f5084\" class=\"plotly-graph-div\" style=\"height:525px; width:100%;\"></div>            <script type=\"text/javascript\">                                    window.PLOTLYENV=window.PLOTLYENV || {};                                    if (document.getElementById(\"06f983e6-e440-4030-a3c6-cc62ea8f5084\")) {                    Plotly.newPlot(                        \"06f983e6-e440-4030-a3c6-cc62ea8f5084\",                        [{\"alignmentgroup\":\"True\",\"bingroup\":\"x\",\"hovertemplate\":\"Insolation Flux [Earth Flux]=%{x}\\u003cbr\\u003ecount=%{y}\\u003cextra\\u003e\\u003c\\u002fextra\\u003e\",\"legendgroup\":\"\",\"marker\":{\"color\":\"#636efa\",\"pattern\":{\"shape\":\"\"}},\"name\":\"\",\"offsetgroup\":\"\",\"orientation\":\"v\",\"showlegend\":false,\"x\":[null,null,null,null,null,null,null,null,null,null,null,null,null,null,null,null,null,null,null,null,null,null,null,null,null,null,null,null,null,null,null,null,null,null,null,null,null,null,null,null,null,null,null,null,null,null,null,null,null,null,null,162.0,null,null,null,null,null,null,null,null,null,null,null,null,null,null,null,null,null,null,null,null,null,null,null,null,null,null,null,null,null,null,null,null,null,null,null,null,null,null,null,null,null,null,null,null,null,null,null,null,null,533.38,null,null,null,null,null,null,null,null,null,null,null,null,null,null,null,null,null,null,null,null,null,null,null,null,null,null,null,null,null,null,null,null,null,null,null,null,null,null,null,null,null,null,null,null,null,null,null,null,null,null,null,null,null,null,null,null,null,null,null,null,null,null,null,null,null,null,null,null,null,null,null,null,null,null,null,null,null,null,null,null,null,null,null,null,null,null,null,null,null,1968.9,null,null,null,null,null,null,null,null,null,null,null,null,null,null,null,null,null,null,null,null,null,null,null,null,null,null,null,null,null,null,null,null,null,null,null,null,null,null,null,null,null,null,null,null,null,null,null,null,null,null,null,null,null,null,null,null,null,null,null,null,null,null,null,null,null,null,null,null,null,null,null,null,null,null,null,null,null,null,null,null,null,null,null,null,null,null,null,null,null,null,null,null,null,null,null,null,null,null,null,null,null,null,null,null,null,null,null,null,null,null,null,null,null,null,null,null,null,null,null,null,null,null,null,null,null,null,39.27,null,null,null,null,null,null,null,null,null,null,null,null,null,null,null,null,null,null,null,null,null,null,null,null,null,null,null,null,null,null,null,null,null,null,null,null,null,null,null,null,null,null,null,null,null,null,null,null,null,null,null,null,null,null,null,null,null,null,null,null,null,null,null,null,null,null,null,null,null,null,null,null,null,null,null,null,null,null,null,null,null,null,null,null,null,null,null,null,null,41.74,null,null,null,null,null,null,null,null,null,null,null,null,null,2304.53,null,null,null,null,null,null,null,null,null,28.05,null,null,18.21,null,null,null,null,null,null,null,null,null,null,null,null,null,null,null,null,null,null,null,null,null,null,null,null,null,null,null,null,null,null,null,null,null,null,null,null,null,391.1,107.35,null,null,null,null,null,null,null,null,null,null,null,null,null,null,null,null,null,null,null,58.55,null,null,null,null,null,220.29,null,null,null,null,null,null,null,null,null,null,null,null,null,1355.37,null,null,null,null,null,null,null,963.2,null,4355.44,null,null,35.73,null,null,null,null,null,167.03,null,null,null,null,null,null,null,null,null,null,null,null,null,null,null,null,null,null,819.4,null,null,null,null,null,null,null,null,null,null,null,null,null,null,null,null,null,null,null,null,null,null,null,null,null,null,8270.03,null,null,null,null,null,null,null,null,null,null,null,null,null,null,null,null,null,3.58,null,null,null,null,null,null,null,null,null,null,50.63,null,null,null,null,null,null,null,null,null,null,null,null,null,null,null,null,null,null,null,null,null,12.15,null,null,null,null,null,null,null,null,null,null,null,null,null,null,281.82,null,null,null,null,null,null,null,null,null,null,null,null,null,null,null,null,null,null,null,null,null,null,null,null,null,null,null,null,null,null,null,null,null,null,null,null,null,null,378.21,null,null,null,null,null,null,null,null,null,731.24,null,null,null,null,null,null,null,null,null,null,null,null,null,null,null,null,null,null,null,null,null,null,null,null,null,null,null,null,null,null,null,null,null,null,null,null,null,null,null,null,null,null,null,null,null,null,null,null,null,null,null,null,null,null,562.18,null,906.0,null,null,null,null,null,null,null,null,null,null,175.23,null,null,null,null,null,null,null,null,null,null,67.63,null,null,null,null,null,null,null,null,null,null,null,null,null,null,null,null,null,null,null,null,null,null,null,null,null,null,null,null,null,null,null,null,null,null,null,null,null,null,null,null,null,null,null,null,null,null,null,null,null,null,null,null,null,null,null,null,null,null,null,null,null,null,null,null,null,null,null,null,null,null,null,null,null,null,null,null,null,null,null,null,null,null,null,null,null,null,null,null,null,null,null,null,null,null,null,null,null,null,null,null,null,null,null,null,null,null,null,null,null,null,null,null,null,null,null,null,null,null,null,null,null,null,null,null,null,null,null,null,null,null,null,null,null,null,null,null,null,null,null,null,null,null,null,null,null,null,null,null,null,null,null,null,null,null,null,null,null,null,null,null,null,null,null,null,null,null,null,null,null,null,null,null,null,null,null,null,null,null,null,null,null,null,null,null,null,null,null,null,null,null,null,null,null,null,null,null,null,null,null,null,null,null,null,null,null,null,null,null,null,null,null,null,null,null,null,null,null,null,null,null,null,null,null,null,null,null,null,null,null,null,null,null,null,null,null,null,null,null,null,null,null,null,null,null,null,null,null,null,null,null,null,null,null,null,null,null,null,null,null,null,null,null,null,null,null,null,null,null,null,null,null,null,null,null,null,null,null,null,null,null,null,null,1074.0,null,null,null,null,null,null,null,null,null,null,null,null,null,null,null,null,null,null,null,null,null,null,null,null,null,null,2.93,null,null,512.92,null,null,null,null,144.38,null,null,null,448.65,null,null,null,null,null,null,null,null,null,null,null,null,null,null,null,null,null,null,null,null,null,null,null,null,null,null,null,null,null,null,null,null,null,null,null,null,null,null,null,null,null,null,null,null,null,null,null,329.3,null,null,null,null,null,null,null,null,null,null,null,null,null,null,null,null,null,null,13.15,null,null,null,null,null,null,null,null,null,null,null,null,null,null,null,null,null,null,null,null,null,null,null,null,null,null,49.02,null,65.89,null,null,null,null,null,null,null,null,null,null,null,null,null,null,null,null,null,null,null,null,null,null,null,null,41.31,null,null,null,null,null,null,null,null,null,null,null,null,null,null,null,null,null,null,null,null,null,null,null,null,null,null,null,null,null,null,null,null,null,null,null,null,null,null,null,null,null,197.51,null,null,538.64,null,133.98,null,null,null,null,109.44,704.73,null,null,null,null,58.96,null,321.73,null,null,null,null,null,null,null,37.77,null,null,95.46,null,null,null,null,null,null,null,null,null,null,null,null,null,null,null,null,null,null,null,null,null,null,null,null,null,null,null,null,null,null,null,null,null,null,null,null,null,null,null,null,126.51,null,null,null,null,null,null,null,null,null,null,null,111.97,null,null,null,null,null,null,null,null,null,null,null,null,null,null,null,null,null,null,null,null,null,null,null,null,null,null,null,null,null,null,null,null,null,null,null,null,null,null,null,null,null,null,null,null,null,null,null,null,null,null,null,null,null,null,null,null,null,null,null,null,null,null,null,null,null,null,null,null,null,null,3.5,null,null,null,null,null,null,null,null,null,31.91,null,null,null,null,null,null,null,null,null,null,null,null,null,null,null,null,null,null,null,null,null,null,null,null,null,null,null,null,null,null,4293.0,null,null,4670.0,null,null,null,null,64.0,null,null,null,null,70.0,null,null,null,null,69.7,null,null,642.0,519.97,0.19,1037.0,160.0,53.0,4.0,null,7.2,null,null,256.0,315.0,318.0,null,325.75,59.0,72.0,73.0,null,null,null,36.0,29.0,null,35.6,null,null,22.2,null,null,null,null,null,null,null,null,null,null,null,null,3515.0,1998.78,null,null,null,null,null,null,null,null,null,null,null,null,null,561.0,null,null,null,null,null,null,null,null,null,null,null,null,240.0,null,83.0,null,null,null,null,null,null,null,null,null,null,1650.0,1625.0,null,null,null,null,null,null,null,null,16.9,null,null,null,null,null,16.6,null,88.9,null,null,null,null,null,6635.86,6130.0,null,null,null,null,275.64,51.4,28.64,null,null,null,115.21,null,null,55.62,null,null,null,null,null,null,null,null,null,null,null,null,null,null,null,54.1,null,null,null,null,null,757.17,null,1915.0,null,null,990.0,null,null,null,null,null,null,null,null,null,null,null,null,null,null,null,null,null,62.1,null,null,null,null,null,null,null,140.12,null,null,null,null,null,null,null,null,null,null,null,null,762.0,null,null,9.84,null,null,null,null,null,null,null,null,27.7,null,null,null,490.0,null,null,null,null,277.39,null,null,null,null,null,null,null,null,null,null,40.0,46.9,null,null,null,null,null,20.44,null,null,null,null,null,null,78.6,null,127.3,null,123.6,null,null,null,145.8,null,21.4,18.1,null,null,null,4.3,null,null,null,null,54.9,null,null,null,310.0,null,185.0,null,35.1,null,null,null,null,null,126.88,null,null,null,null,89.5,null,null,null,null,null,95.7,null,79.9,2.9,null,null,null,null,null,null,2.7,null,8.7,null,null,null,null,null,2.0,null,null,null,null,null,35.3,null,null,105.6,null,null,null,null,68.8,null,null,4.5,22.8,null,null,136.4,null,null,null,null,null,3842.34,null,4070.0,null,null,null,null,null,293.37,null,null,null,null,48.33,null,null,1.8,33.5,null,null,11.9,null,31.26,11.91,null,null,7.07,null,null,null,424.51,486.0,null,248.95,279.0,null,null,160.0,147.12,66.26,null,91.1,77.79,51.0,null,43.02,null,9.29,null,null,null,null,null,null,8.0,5.5,null,null,188.5,null,204.0,null,null,3260.0,3967.92,null,null,39.1,null,20.7,null,null,null,null,null,null,null,null,null,null,200.1,null,null,null,48.8,null,26.5,null,16.8,7.0,null,null,48.0,null,null,4.9,null,20.8,null,null,null,2.9,11.8,null,null,57.5,20.5,null,null,19.9,7.0,9.76,null,1.67,null,null,null,null,null,null,null,null,null,null,null,null,null,44.5,null,null,47.7,null,null,null,14.0,13.1,null,null,null,null,null,null,null,null,null,null,37.08,null,null,null,null,229.0,null,null,null,300.96,317.0,null,null,null,null,null,null,null,null,null,null,null,null,null,4.91,10.5,null,null,null,null,null,null,null,null,null,null,null,null,null,null,null,null,null,null,null,null,null,null,null,95.77,null,null,null,null,null,null,null,null,null,null,null,null,null,null,1.0,1.05,0.95,null,null,null,1.09,null,null,null,null,53.99,null,null,null,67.0,null,null,null,null,null,null,null,null,null,null,null,null,146.9,307.52,null,null,null,null,null,null,null,null,null,null,null,null,null,null,null,null,null,null,null,null,null,null,null,null,null,null,null,null,null,null,null,null,null,null,null,null,null,null,null,null,null,null,null,null,null,null,null,null,null,null,null,null,null,null,null,230.63,null,null,null,null,null,null,null,null,null,null,null,null,null,null,null,null,null,165.0,null,null,87.7,null,125.9,null,null,null,null,88.71,null,null,null,null,96.0,null,null,null,null,null,73.1,48.8,583.5,null,null,766.0,null,null,null,null,null,null,null,null,null,null,null,null,null,null,null,null,null,null,null,null,null,null,null,null,null,null,null,null,null,null,null,null,null,null,null,null,null,null,null,null,null,null,null,null,116.2,null,null,null,null,null,null,null,null,null,null,38.6,null,null,null,null,null,null,null,null,null,null,null,null,null,null,null,null,null,null,null,null,null,null,null,null,10.0,10.0,11.0,null,5.09,null,5.6,null,5.1,null,null,null,null,null,null,null,13.32,null,null,null,null,null,null,null,null,null,null,null,null,174.94,null,248.0,null,null,null,null,null,null,null,null,null,null,null,null,null,114.0,737.9,null,null,null,null,null,null,null,null,null,null,96.0,null,null,87.06,null,null,null,null,null,null,null,null,null,null,null,null,null,null,null,null,null,null,null,null,null,null,null,null,null,null,null,null,null,null,312.15,null,null,null,273.0,67.1,null,null,12.9,null,null,1860.0,null,null,1770.47,null,null,null,null,null,null,87.0,60.0,60.1,null,null,null,null,null,null,34.2,24.0,null,null,null,null,23.4,null,null,null,null,null,null,null,null,null,null,null,null,null,null,null,9.5,null,9.91,null,null,null,null,null,365.82,null,null,null,null,null,null,null,null,null,5.8,5.28,null,null,null,null,2520.03,null,null,null,180.0,126.95,null,180.0,null,null,null,8.17,null,null,null,null,null,null,null,null,null,null,879.5,32.4,13.95,16.36,9.58,11.23,null,null,null,null,null,null,null,null,null,null,null,null,null,null,null,null,null,null,null,null,216.0,null,null,null,null,null,null,116.0,144.17,null,null,null,null,null,null,null,null,null,null,null,83.45,null,null,null,null,null,null,null,null,null,null,null,null,null,null,null,null,null,null,null,null,null,null,null,null,null,null,null,null,null,null,null,126.31,null,null,null,null,25.21,null,null,null,null,null,null,null,195.73,null,null,null,null,null,null,null,null,null,null,null,null,null,null,null,21.7,null,30.1,21.3,null,null,null,null,null,null,null,null,null,null,null,null,null,null,null,null,null,null,null,null,118.64,42.6,304.05,234.31,50.35,63.8,24.61,10.5,null,null,null,null,null,null,null,null,284.42,null,null,293.0,null,null,null,null,null,null,null,null,null,633.0,476.88,67.0,null,null,null,null,null,97.86,null,null,null,11.0,null,null,null,10.5,10.9,11.6,null,null,5.8,null,4.58,1.77,3.3,null,3.17,3.51,null,null,null,null,null,null,null,3.32,0.8,null,null,null,1.6,1.5,null,null,null,null,1.51,1.5,1.44,null,204.94,null,null,null,null,null,null,299.0,null,512.9,null,null,null,1272.0,null,7.45,null,null,null,null,null,null,82.9,null,null,null,100.0,null,77.7,null,null,25.6,null,27.4,33.0,null,null,null,null,null,null,14.5,null,null,18.7,null,null,15.4,null,null,null,null,null,68.55,null,null,null,null,null,null,45.7,null,null,null,null,null,null,null,null,null,null,114.93,null,null,null,null,null,102.13,null,null,null,359.23,null,null,null,null,null,null,null,null,null,null,null,null,null,null,null,null,null,null,null,null,null,963.57,null,null,null,null,null,null,null,null,null,null,null,null,null,null,null,null,null,null,null,null,null,null,null,null,37.3,null,null,null,8.81,null,null,null,null,null,null,null,null,null,133.08,null,null,null,null,null,211.0,217.4,null,null,132.0,42.0,70.1,null,null,null,68.0,null,null,null,null,null,null,null,null,null,null,null,null,null,null,null,null,null,null,null,null,null,529.0,570.0,546.3,519.0,null,null,89.0,93.6,null,97.8,90.0,null,null,null,null,null,null,null,null,null,null,null,null,null,null,null,null,null,null,null,null,null,null,null,213.3,null,240.0,null,null,null,146.0,null,null,null,130.3,null,null,51.6,45.7,null,428.2,null,null,null,null,null,null,198.09,null,null,null,null,null,null,null,null,null,null,null,null,null,null,null,null,null,null,null,null,null,null,null,null,null,null,490.0,null,465.9,480.0,426.0,132.0,128.3,135.3,null,117.0,null,null,null,null,null,null,null,null,null,null,null,null,null,null,null,null,null,null,null,null,null,null,null,null,null,null,null,null,null,null,null,null,null,null,null,null,null,null,120.0,null,null,null,null,null,null,null,null,1356.0,1148.0,null,null,260.96,null,null,null,null,null,null,null,null,null,null,null,null,null,null,null,null,null,null,null,null,null,null,null,null,9668.66,null,null,15.6,null,8.9,null,null,null,null,null,null,null,null,134.88,null,null,null,146.58,null,null,null,null,null,null,null,null,null,null,null,null,619.04,243.52,921.75,69.53,72.11,56.13,4.82,4.64,null,null,44.1,null,null,null,46.4,null,38.86,49.0,null,null,null,null,null,null,null,646.0,null,null,null,380.5,100.0,313.99,119.0,null,null,null,null,null,10.7,null,null,15.3,null,null,59.0,null,null,24.1,null,null,19.7,null,8.3,null,10.2,null,null,null,null,18.8,null,null,1124.0,null,52.5,null,null,null,null,6.1,115.31,null,null,115.0,null,null,141.3,24.1,null,null,118.0,null,null,null,null,462.0,null,null,null,24.6,null,null,null,null,null,17.1,null,38.3,null,null,28.6,null,null,null,4289.27,null,null,1212.0,null,null,null,null,null,null,1686.0,null,null,null,66.0,null,null,null,20.5,null,null,188.0,null,null,null,null,139.0,null,null,null,98.0,null,null,null,null,45.0,897.0,null,840.0,41.0,null,null,null,null,17.9,null,null,125.0,null,null,62.0,null,null,null,13.4,null,5.4,8.5,null,2.2,1.41,3.5,5.4,0.76,1.2,null,null,null,213.0,null,null,59.1,null,null,null,null,null,430.0,null,null,null,138.0,null,83.0,null,null,null,38.4,58.0,null,181.0,null,null,186.0,37.7,52.0,null,null,null,null,97.8,null,null,135.0,null,null,32.5,null,null,null,166.0,null,null,null,62.9,null,44.0,38.8,41.5,null,7.42,6.9,null,null,null,178.0,null,25.3,null,479.0,null,1069.1,null,null,null,null,78.0,null,361.74,null,null,85.0,null,16.4,7.8,78.0,144.4,null,4.4,1.36,null,null,null,10.2,null,7.5,null,null,null,59.0,80.8,56.1,46.0,null,null,null,null,null,null,null,null,null,null,null,null,114.15,null,null,null,null,null,null,null,null,null,null,null,null,null,992.26,null,null,null,null,null,null,null,null,null,null,null,null,null,null,null,null,null,1.38,98.19,null,4.15,null,null,4.25,4.25,4.15,2.21,null,2.21,2.27,null,2.26,1.11,null,1.11,1.14,0.65,null,null,0.65,0.66,0.38,null,null,0.37,0.37,0.25,null,0.25,0.26,0.14,0.14,0.13,null,0.17,33.2,null,null,35.0,null,null,146.0,null,null,85.0,null,null,null,10.0,null,null,null,null,null,null,37.03,null,null,null,null,null,null,null,6586.47,null,460.0,null,null,396.87,null,null,null,null,null,null,null,null,null,695.65,null,null,null,null,null,null,534.0,null,null,null,null,null,null,null,null,null,417.3,null,null,null,null,null,null,null,null,null,190.0,null,null,null,null,null,null,null,null,null,null,4895.0,null,null,null,null,null,null,null,null,null,471.6,null,null,null,null,null,null,null,null,null,null,null,1657.0,null,383.05,null,null,null,null,null,null,null,640.33,64.7,69.6,null,null,null,null,null,219.34,null,null,null,null,null,null,null,null,null,null,null,null,null,null,null,null,null,null,null,null,null,null,null,null,null,null,null,null,null,null,null,null,null,null,null,null,null,null,null,null,null,null,null,null,null,null,null,null,null,null,null,null,53.84,null,null,null,null,null,null,null,null,null,null,null,null,null,null,null,1486.34,null,null,null,null,null,null,null,null,null,null,null,null,null,null,null,null,null,null,null,null,null,null,null,null,null,null,null,null,null,null,null,null,null,null,null,null,null,null,null,null,null,null,null,null,null,null,null,null,null,null,null,null,null,null,null,null,null,null,null,null,null,null,null,null,303.08,null,null,null,null,null,null,null,null,null,null,null,null,null,null,null,null,null,null,null,null,null,null,null,null,null,null,null,null,null,null,null,null,null,null,null,null,null,null,null,null,null,null,null,null,null,null,null,20.62,null,null,null,null,null,null,null,null,null,null,null,null,null,null,null,null,null,null,null,null,null,null,null,null,null,null,null,null,null,null,null,null,null,null,null,null,null,null,null,null,null,null,null,null,null,null,null,null,null,null,null,null,null,null,null,null,null,null,null,null,null,null,null,null,null,null,null,null,null,594.59,104.43,null,null,null,175.69,232.82,4001.69,null,null,null,null,null,null,null,null,null,null,null,null,null,null,null,null,null,null,null,null,null,null,null,null,null,null,null,null,null,null,null,null,null,null,null,null,null,null,null,null,null,null,null,null,304.48,null,null],\"xaxis\":\"x\",\"yaxis\":\"y\",\"type\":\"histogram\"}],                        {\"template\":{\"data\":{\"histogram2dcontour\":[{\"type\":\"histogram2dcontour\",\"colorbar\":{\"outlinewidth\":0,\"ticks\":\"\"},\"colorscale\":[[0.0,\"#0d0887\"],[0.1111111111111111,\"#46039f\"],[0.2222222222222222,\"#7201a8\"],[0.3333333333333333,\"#9c179e\"],[0.4444444444444444,\"#bd3786\"],[0.5555555555555556,\"#d8576b\"],[0.6666666666666666,\"#ed7953\"],[0.7777777777777778,\"#fb9f3a\"],[0.8888888888888888,\"#fdca26\"],[1.0,\"#f0f921\"]]}],\"choropleth\":[{\"type\":\"choropleth\",\"colorbar\":{\"outlinewidth\":0,\"ticks\":\"\"}}],\"histogram2d\":[{\"type\":\"histogram2d\",\"colorbar\":{\"outlinewidth\":0,\"ticks\":\"\"},\"colorscale\":[[0.0,\"#0d0887\"],[0.1111111111111111,\"#46039f\"],[0.2222222222222222,\"#7201a8\"],[0.3333333333333333,\"#9c179e\"],[0.4444444444444444,\"#bd3786\"],[0.5555555555555556,\"#d8576b\"],[0.6666666666666666,\"#ed7953\"],[0.7777777777777778,\"#fb9f3a\"],[0.8888888888888888,\"#fdca26\"],[1.0,\"#f0f921\"]]}],\"heatmap\":[{\"type\":\"heatmap\",\"colorbar\":{\"outlinewidth\":0,\"ticks\":\"\"},\"colorscale\":[[0.0,\"#0d0887\"],[0.1111111111111111,\"#46039f\"],[0.2222222222222222,\"#7201a8\"],[0.3333333333333333,\"#9c179e\"],[0.4444444444444444,\"#bd3786\"],[0.5555555555555556,\"#d8576b\"],[0.6666666666666666,\"#ed7953\"],[0.7777777777777778,\"#fb9f3a\"],[0.8888888888888888,\"#fdca26\"],[1.0,\"#f0f921\"]]}],\"heatmapgl\":[{\"type\":\"heatmapgl\",\"colorbar\":{\"outlinewidth\":0,\"ticks\":\"\"},\"colorscale\":[[0.0,\"#0d0887\"],[0.1111111111111111,\"#46039f\"],[0.2222222222222222,\"#7201a8\"],[0.3333333333333333,\"#9c179e\"],[0.4444444444444444,\"#bd3786\"],[0.5555555555555556,\"#d8576b\"],[0.6666666666666666,\"#ed7953\"],[0.7777777777777778,\"#fb9f3a\"],[0.8888888888888888,\"#fdca26\"],[1.0,\"#f0f921\"]]}],\"contourcarpet\":[{\"type\":\"contourcarpet\",\"colorbar\":{\"outlinewidth\":0,\"ticks\":\"\"}}],\"contour\":[{\"type\":\"contour\",\"colorbar\":{\"outlinewidth\":0,\"ticks\":\"\"},\"colorscale\":[[0.0,\"#0d0887\"],[0.1111111111111111,\"#46039f\"],[0.2222222222222222,\"#7201a8\"],[0.3333333333333333,\"#9c179e\"],[0.4444444444444444,\"#bd3786\"],[0.5555555555555556,\"#d8576b\"],[0.6666666666666666,\"#ed7953\"],[0.7777777777777778,\"#fb9f3a\"],[0.8888888888888888,\"#fdca26\"],[1.0,\"#f0f921\"]]}],\"surface\":[{\"type\":\"surface\",\"colorbar\":{\"outlinewidth\":0,\"ticks\":\"\"},\"colorscale\":[[0.0,\"#0d0887\"],[0.1111111111111111,\"#46039f\"],[0.2222222222222222,\"#7201a8\"],[0.3333333333333333,\"#9c179e\"],[0.4444444444444444,\"#bd3786\"],[0.5555555555555556,\"#d8576b\"],[0.6666666666666666,\"#ed7953\"],[0.7777777777777778,\"#fb9f3a\"],[0.8888888888888888,\"#fdca26\"],[1.0,\"#f0f921\"]]}],\"mesh3d\":[{\"type\":\"mesh3d\",\"colorbar\":{\"outlinewidth\":0,\"ticks\":\"\"}}],\"scatter\":[{\"fillpattern\":{\"fillmode\":\"overlay\",\"size\":10,\"solidity\":0.2},\"type\":\"scatter\"}],\"parcoords\":[{\"type\":\"parcoords\",\"line\":{\"colorbar\":{\"outlinewidth\":0,\"ticks\":\"\"}}}],\"scatterpolargl\":[{\"type\":\"scatterpolargl\",\"marker\":{\"colorbar\":{\"outlinewidth\":0,\"ticks\":\"\"}}}],\"bar\":[{\"error_x\":{\"color\":\"#2a3f5f\"},\"error_y\":{\"color\":\"#2a3f5f\"},\"marker\":{\"line\":{\"color\":\"#E5ECF6\",\"width\":0.5},\"pattern\":{\"fillmode\":\"overlay\",\"size\":10,\"solidity\":0.2}},\"type\":\"bar\"}],\"scattergeo\":[{\"type\":\"scattergeo\",\"marker\":{\"colorbar\":{\"outlinewidth\":0,\"ticks\":\"\"}}}],\"scatterpolar\":[{\"type\":\"scatterpolar\",\"marker\":{\"colorbar\":{\"outlinewidth\":0,\"ticks\":\"\"}}}],\"histogram\":[{\"marker\":{\"pattern\":{\"fillmode\":\"overlay\",\"size\":10,\"solidity\":0.2}},\"type\":\"histogram\"}],\"scattergl\":[{\"type\":\"scattergl\",\"marker\":{\"colorbar\":{\"outlinewidth\":0,\"ticks\":\"\"}}}],\"scatter3d\":[{\"type\":\"scatter3d\",\"line\":{\"colorbar\":{\"outlinewidth\":0,\"ticks\":\"\"}},\"marker\":{\"colorbar\":{\"outlinewidth\":0,\"ticks\":\"\"}}}],\"scattermapbox\":[{\"type\":\"scattermapbox\",\"marker\":{\"colorbar\":{\"outlinewidth\":0,\"ticks\":\"\"}}}],\"scatterternary\":[{\"type\":\"scatterternary\",\"marker\":{\"colorbar\":{\"outlinewidth\":0,\"ticks\":\"\"}}}],\"scattercarpet\":[{\"type\":\"scattercarpet\",\"marker\":{\"colorbar\":{\"outlinewidth\":0,\"ticks\":\"\"}}}],\"carpet\":[{\"aaxis\":{\"endlinecolor\":\"#2a3f5f\",\"gridcolor\":\"white\",\"linecolor\":\"white\",\"minorgridcolor\":\"white\",\"startlinecolor\":\"#2a3f5f\"},\"baxis\":{\"endlinecolor\":\"#2a3f5f\",\"gridcolor\":\"white\",\"linecolor\":\"white\",\"minorgridcolor\":\"white\",\"startlinecolor\":\"#2a3f5f\"},\"type\":\"carpet\"}],\"table\":[{\"cells\":{\"fill\":{\"color\":\"#EBF0F8\"},\"line\":{\"color\":\"white\"}},\"header\":{\"fill\":{\"color\":\"#C8D4E3\"},\"line\":{\"color\":\"white\"}},\"type\":\"table\"}],\"barpolar\":[{\"marker\":{\"line\":{\"color\":\"#E5ECF6\",\"width\":0.5},\"pattern\":{\"fillmode\":\"overlay\",\"size\":10,\"solidity\":0.2}},\"type\":\"barpolar\"}],\"pie\":[{\"automargin\":true,\"type\":\"pie\"}]},\"layout\":{\"autotypenumbers\":\"strict\",\"colorway\":[\"#636efa\",\"#EF553B\",\"#00cc96\",\"#ab63fa\",\"#FFA15A\",\"#19d3f3\",\"#FF6692\",\"#B6E880\",\"#FF97FF\",\"#FECB52\"],\"font\":{\"color\":\"#2a3f5f\"},\"hovermode\":\"closest\",\"hoverlabel\":{\"align\":\"left\"},\"paper_bgcolor\":\"white\",\"plot_bgcolor\":\"#E5ECF6\",\"polar\":{\"bgcolor\":\"#E5ECF6\",\"angularaxis\":{\"gridcolor\":\"white\",\"linecolor\":\"white\",\"ticks\":\"\"},\"radialaxis\":{\"gridcolor\":\"white\",\"linecolor\":\"white\",\"ticks\":\"\"}},\"ternary\":{\"bgcolor\":\"#E5ECF6\",\"aaxis\":{\"gridcolor\":\"white\",\"linecolor\":\"white\",\"ticks\":\"\"},\"baxis\":{\"gridcolor\":\"white\",\"linecolor\":\"white\",\"ticks\":\"\"},\"caxis\":{\"gridcolor\":\"white\",\"linecolor\":\"white\",\"ticks\":\"\"}},\"coloraxis\":{\"colorbar\":{\"outlinewidth\":0,\"ticks\":\"\"}},\"colorscale\":{\"sequential\":[[0.0,\"#0d0887\"],[0.1111111111111111,\"#46039f\"],[0.2222222222222222,\"#7201a8\"],[0.3333333333333333,\"#9c179e\"],[0.4444444444444444,\"#bd3786\"],[0.5555555555555556,\"#d8576b\"],[0.6666666666666666,\"#ed7953\"],[0.7777777777777778,\"#fb9f3a\"],[0.8888888888888888,\"#fdca26\"],[1.0,\"#f0f921\"]],\"sequentialminus\":[[0.0,\"#0d0887\"],[0.1111111111111111,\"#46039f\"],[0.2222222222222222,\"#7201a8\"],[0.3333333333333333,\"#9c179e\"],[0.4444444444444444,\"#bd3786\"],[0.5555555555555556,\"#d8576b\"],[0.6666666666666666,\"#ed7953\"],[0.7777777777777778,\"#fb9f3a\"],[0.8888888888888888,\"#fdca26\"],[1.0,\"#f0f921\"]],\"diverging\":[[0,\"#8e0152\"],[0.1,\"#c51b7d\"],[0.2,\"#de77ae\"],[0.3,\"#f1b6da\"],[0.4,\"#fde0ef\"],[0.5,\"#f7f7f7\"],[0.6,\"#e6f5d0\"],[0.7,\"#b8e186\"],[0.8,\"#7fbc41\"],[0.9,\"#4d9221\"],[1,\"#276419\"]]},\"xaxis\":{\"gridcolor\":\"white\",\"linecolor\":\"white\",\"ticks\":\"\",\"title\":{\"standoff\":15},\"zerolinecolor\":\"white\",\"automargin\":true,\"zerolinewidth\":2},\"yaxis\":{\"gridcolor\":\"white\",\"linecolor\":\"white\",\"ticks\":\"\",\"title\":{\"standoff\":15},\"zerolinecolor\":\"white\",\"automargin\":true,\"zerolinewidth\":2},\"scene\":{\"xaxis\":{\"backgroundcolor\":\"#E5ECF6\",\"gridcolor\":\"white\",\"linecolor\":\"white\",\"showbackground\":true,\"ticks\":\"\",\"zerolinecolor\":\"white\",\"gridwidth\":2},\"yaxis\":{\"backgroundcolor\":\"#E5ECF6\",\"gridcolor\":\"white\",\"linecolor\":\"white\",\"showbackground\":true,\"ticks\":\"\",\"zerolinecolor\":\"white\",\"gridwidth\":2},\"zaxis\":{\"backgroundcolor\":\"#E5ECF6\",\"gridcolor\":\"white\",\"linecolor\":\"white\",\"showbackground\":true,\"ticks\":\"\",\"zerolinecolor\":\"white\",\"gridwidth\":2}},\"shapedefaults\":{\"line\":{\"color\":\"#2a3f5f\"}},\"annotationdefaults\":{\"arrowcolor\":\"#2a3f5f\",\"arrowhead\":0,\"arrowwidth\":1},\"geo\":{\"bgcolor\":\"white\",\"landcolor\":\"#E5ECF6\",\"subunitcolor\":\"white\",\"showland\":true,\"showlakes\":true,\"lakecolor\":\"white\"},\"title\":{\"x\":0.05},\"mapbox\":{\"style\":\"light\"}}},\"xaxis\":{\"anchor\":\"y\",\"domain\":[0.0,1.0],\"title\":{\"text\":\"Insolation Flux [Earth Flux]\"}},\"yaxis\":{\"anchor\":\"x\",\"domain\":[0.0,1.0],\"title\":{\"text\":\"count\"}},\"legend\":{\"tracegroupgap\":0},\"title\":{\"text\":\"Distribution of Insolation Flux [Earth Flux]\"},\"barmode\":\"relative\",\"margin\":{\"l\":50,\"r\":50,\"t\":50,\"b\":50},\"bargap\":0.05,\"bargroupgap\":0.1,\"showlegend\":false},                        {\"responsive\": true}                    ).then(function(){\n",
              "                            \n",
              "var gd = document.getElementById('06f983e6-e440-4030-a3c6-cc62ea8f5084');\n",
              "var x = new MutationObserver(function (mutations, observer) {{\n",
              "        var display = window.getComputedStyle(gd).display;\n",
              "        if (!display || display === 'none') {{\n",
              "            console.log([gd, 'removed!']);\n",
              "            Plotly.purge(gd);\n",
              "            observer.disconnect();\n",
              "        }}\n",
              "}});\n",
              "\n",
              "// Listen for the removal of the full notebook cells\n",
              "var notebookContainer = gd.closest('#notebook-container');\n",
              "if (notebookContainer) {{\n",
              "    x.observe(notebookContainer, {childList: true});\n",
              "}}\n",
              "\n",
              "// Listen for the clearing of the current output cell\n",
              "var outputEl = gd.closest('.output');\n",
              "if (outputEl) {{\n",
              "    x.observe(outputEl, {childList: true});\n",
              "}}\n",
              "\n",
              "                        })                };                            </script>        </div>\n",
              "</body>\n",
              "</html>"
            ]
          },
          "metadata": {}
        }
      ]
    },
    {
      "cell_type": "markdown",
      "source": [
        "The provided histogram offers insights into the distribution of insolation fluxes of exoplanets, measured in Earth flux units. The x-axis represents the insolation flux of exoplanets, with each bar indicating the frequency of exoplanets falling within specific insolation flux ranges.\n",
        "\n",
        "Insolation flux refers to the amount of solar radiation received per unit area by a celestial body, in this case, exoplanets, from its parent star. It is a crucial factor in determining the climate, atmospheric conditions, and potential habitability of exoplanets.\n",
        "\n",
        "The insolation flux of an exoplanet depends on several factors, including:\n",
        "\n",
        "> **Distance from the Star**: Closer exoplanets receive higher insolation fluxes, while those farther away receive less. This is governed by the inverse square law, where the intensity of radiation decreases with the square of the distance from the source.\n",
        "\n",
        "> **Stellar Characteristics**: The luminosity and spectral type of the parent star influence the amount and type of radiation received by the exoplanet. For instance, a more massive and luminous star emits more radiation than a smaller, cooler star.\n",
        "\n",
        "> **Atmospheric Composition**: Exoplanetary atmospheres can absorb, reflect, and scatter incoming radiation, altering the insolation flux reaching the surface. Greenhouse gases, clouds, and aerosols in the atmosphere can significantly impact the planet's energy balance.\n",
        "\n",
        "> **Orbital Parameters**: Orbital eccentricity, axial tilt, and rotation period affect the distribution of insolation across the exoplanet's surface, leading to variations in temperature and climate.\n",
        "\n",
        "(OpenAI. (2022). Understanding Insolation Flux of Exoplanets [Response to user query]. Retrieved from OpenAI's GPT-3 Language Model)\n",
        "\n",
        "The histogram reveals that the majority of exoplanets exhibit insolation fluxes within a range of 1-300 Earth Fluxes, with variations observed across different exoplanetary systems. This information is essential for characterizing the thermal environments of exoplanets and whether or not they're potetially habitable."
      ],
      "metadata": {
        "id": "hOeDX9BSJXeJ"
      }
    },
    {
      "cell_type": "code",
      "source": [
        "fig = px.histogram(\n",
        "    df,\n",
        "    x='sy_snum',\n",
        "    title=\"Number of Stars in a System with an Exoplanet\",\n",
        "    labels={'sy_snum': 'Number of Stars', 'count': 'Frequency'}\n",
        ")\n",
        "fig.update_layout(bargap=0.05,\n",
        "                  bargroupgap=0.7,\n",
        "                  showlegend=False,\n",
        "                  margin=dict(l=50, r=50, t=50, b=50))\n",
        "fig.show()"
      ],
      "metadata": {
        "colab": {
          "base_uri": "https://localhost:8080/",
          "height": 0
        },
        "id": "seq8UQ8SJ025",
        "outputId": "a7c76688-b7e3-49a0-8402-d1022511d36c"
      },
      "execution_count": 173,
      "outputs": [
        {
          "output_type": "display_data",
          "data": {
            "text/html": [
              "<html>\n",
              "<head><meta charset=\"utf-8\" /></head>\n",
              "<body>\n",
              "    <div>            <script src=\"https://cdnjs.cloudflare.com/ajax/libs/mathjax/2.7.5/MathJax.js?config=TeX-AMS-MML_SVG\"></script><script type=\"text/javascript\">if (window.MathJax && window.MathJax.Hub && window.MathJax.Hub.Config) {window.MathJax.Hub.Config({SVG: {font: \"STIX-Web\"}});}</script>                <script type=\"text/javascript\">window.PlotlyConfig = {MathJaxConfig: 'local'};</script>\n",
              "        <script charset=\"utf-8\" src=\"https://cdn.plot.ly/plotly-2.24.1.min.js\"></script>                <div id=\"23944e8b-3a66-4a25-8f57-30778a3a9e67\" class=\"plotly-graph-div\" style=\"height:525px; width:100%;\"></div>            <script type=\"text/javascript\">                                    window.PLOTLYENV=window.PLOTLYENV || {};                                    if (document.getElementById(\"23944e8b-3a66-4a25-8f57-30778a3a9e67\")) {                    Plotly.newPlot(                        \"23944e8b-3a66-4a25-8f57-30778a3a9e67\",                        [{\"alignmentgroup\":\"True\",\"bingroup\":\"x\",\"hovertemplate\":\"Number of Stars=%{x}\\u003cbr\\u003ecount=%{y}\\u003cextra\\u003e\\u003c\\u002fextra\\u003e\",\"legendgroup\":\"\",\"marker\":{\"color\":\"#636efa\",\"pattern\":{\"shape\":\"\"}},\"name\":\"\",\"offsetgroup\":\"\",\"orientation\":\"v\",\"showlegend\":false,\"x\":[1,1,1,1,1,1,1,1,1,1,1,1,1,1,1,1,1,1,1,1,1,1,1,1,1,1,1,1,1,1,1,1,1,1,1,1,1,1,1,1,1,1,1,1,1,1,1,1,1,1,1,1,1,1,1,1,1,1,1,1,1,1,1,1,1,1,1,1,1,1,1,1,1,1,1,1,1,1,1,1,1,1,1,1,1,1,1,1,1,1,1,1,1,1,1,1,1,1,1,1,1,1,1,1,1,1,1,1,1,1,1,1,1,1,1,1,1,1,1,1,1,1,1,1,1,1,1,1,1,1,1,1,1,1,1,1,1,1,1,1,1,1,1,1,1,1,1,1,1,1,1,1,1,1,1,1,1,1,1,1,1,1,1,1,1,1,1,1,1,1,1,1,1,1,1,1,1,1,1,1,1,1,1,1,1,1,1,1,1,1,1,1,1,1,1,1,1,1,1,1,1,1,1,1,1,1,1,1,1,1,1,1,1,1,1,1,1,1,1,1,1,1,1,1,1,1,1,1,1,1,1,1,1,1,1,1,1,1,1,1,1,1,1,1,1,1,1,1,1,1,1,1,1,1,1,1,1,1,1,1,1,1,1,1,1,1,1,1,1,1,1,1,1,1,1,1,1,1,1,1,1,1,1,1,1,1,1,1,1,1,1,1,1,1,1,1,1,1,1,1,1,1,1,1,1,1,1,1,1,1,1,1,1,1,1,1,1,1,1,1,1,1,1,1,1,1,1,1,1,1,1,1,1,1,1,1,1,1,1,1,1,1,1,1,1,1,1,1,1,1,1,1,1,1,1,1,1,1,1,1,1,1,1,1,1,1,1,1,1,1,1,1,1,1,1,1,1,1,1,1,1,1,1,1,1,1,1,1,1,1,1,1,1,1,1,1,1,1,1,1,1,1,1,1,1,1,1,1,1,1,1,1,1,1,1,1,1,1,1,1,1,1,1,1,1,1,1,1,1,1,1,1,1,1,1,1,1,1,1,1,1,1,1,1,1,1,1,1,1,1,1,1,1,1,1,1,1,1,1,1,1,1,1,1,1,1,1,1,1,1,1,1,1,1,1,1,1,1,1,1,1,1,1,1,1,1,1,1,1,1,1,1,1,1,1,1,1,1,1,1,1,1,1,1,1,1,1,1,1,1,1,1,1,1,1,1,1,1,1,1,1,1,1,1,1,1,1,1,1,1,1,1,1,1,1,1,1,1,1,1,1,1,1,1,1,1,1,1,1,1,1,1,1,1,1,1,1,1,1,1,1,1,1,1,1,1,1,1,1,1,1,1,1,1,1,1,1,1,1,1,1,1,1,1,1,1,1,1,1,1,1,1,1,1,1,1,1,1,1,1,1,1,1,1,1,1,1,1,1,1,1,1,1,1,1,1,1,1,1,1,1,1,1,1,1,1,1,1,1,1,1,1,1,1,1,1,1,1,1,1,1,1,1,1,1,1,1,1,1,1,1,1,1,1,1,1,1,1,1,1,1,1,1,1,1,1,1,1,1,1,1,1,1,1,1,1,1,1,1,1,1,1,1,1,1,1,1,1,1,1,1,1,1,1,1,1,1,1,1,1,1,1,1,1,1,1,1,1,1,1,1,1,1,1,1,1,1,1,1,1,1,1,1,1,1,1,1,1,1,1,1,1,1,1,1,1,1,1,1,1,1,1,1,1,1,1,1,1,1,1,1,1,1,1,1,1,1,1,1,1,1,1,1,1,1,1,1,1,1,1,1,1,1,1,1,1,1,1,1,1,1,1,1,1,1,1,1,1,1,1,1,1,1,1,1,1,1,1,1,1,1,1,1,1,1,1,1,1,1,1,1,1,1,1,1,1,1,1,1,1,1,1,1,1,1,1,1,1,1,1,1,1,1,1,1,1,1,1,1,1,1,1,1,1,1,1,1,1,1,1,1,1,1,1,1,1,1,1,1,1,1,1,1,1,1,1,1,1,1,1,1,1,1,1,1,1,1,1,1,1,1,1,1,1,1,1,1,1,1,1,1,1,1,1,1,1,1,1,1,1,1,1,1,1,1,1,1,1,1,1,1,1,1,1,1,1,1,1,1,1,1,1,1,1,1,1,1,1,1,1,1,1,1,1,1,1,1,1,1,1,1,1,1,1,1,1,1,1,1,1,1,1,1,1,1,1,1,1,1,1,1,1,1,1,1,1,1,1,1,1,1,1,1,1,1,1,1,1,1,1,1,1,1,1,1,1,1,1,1,1,1,1,1,1,1,1,1,1,1,1,1,1,1,1,1,1,1,1,1,1,1,1,1,1,1,1,1,1,1,1,1,1,1,1,1,1,1,1,1,1,1,1,1,1,1,1,1,1,1,1,1,1,1,1,1,1,1,1,1,1,1,1,1,1,1,1,1,1,1,1,1,1,1,1,1,1,1,1,1,1,1,1,1,1,1,1,1,1,1,1,1,1,1,1,1,1,1,1,1,1,1,1,1,1,1,1,1,1,1,1,1,1,1,1,1,1,1,1,1,1,1,1,1,1,1,1,1,1,1,1,1,1,1,1,1,1,1,1,1,1,1,1,1,1,1,1,1,1,1,1,1,1,1,1,1,1,1,1,1,1,1,1,1,1,1,1,1,1,1,1,1,1,1,1,1,1,1,1,1,1,1,1,1,1,1,1,1,1,1,1,1,1,1,1,1,1,1,1,1,1,1,1,1,1,1,1,1,1,1,1,1,1,1,1,1,1,1,1,1,1,1,1,1,1,1,1,1,1,1,1,1,1,1,1,1,1,1,1,1,1,1,1,1,1,1,1,1,1,1,1,1,1,1,1,1,1,1,1,1,1,1,1,1,1,1,1,1,1,1,1,1,1,1,1,1,1,1,1,1,1,1,1,1,1,1,1,1,1,1,1,1,1,1,1,1,1,1,1,1,1,1,1,1,1,1,1,1,1,1,1,1,1,1,1,1,1,1,1,1,1,1,1,1,1,1,1,1,1,1,1,1,1,1,1,1,1,1,1,1,1,1,1,1,1,1,1,1,1,1,1,1,1,1,1,1,1,1,1,1,1,1,1,1,1,1,1,1,1,1,1,1,1,1,1,1,1,1,1,1,1,1,1,1,1,1,1,1,1,1,1,1,1,1,1,1,1,1,1,1,1,1,1,1,1,1,1,1,1,1,1,1,1,1,1,1,1,1,1,1,1,1,1,1,1,1,1,1,1,1,1,1,1,1,1,1,1,1,1,1,1,1,1,1,1,1,1,1,1,1,1,1,1,1,1,1,1,1,1,1,1,1,1,1,1,1,1,1,1,1,1,1,1,1,1,1,1,1,1,1,1,1,1,1,2,2,1,1,1,1,1,1,1,1,1,1,1,1,1,1,1,1,1,1,1,1,1,1,1,1,1,1,1,1,1,1,1,1,1,1,1,1,1,1,1,1,1,1,1,1,1,1,1,1,1,1,1,1,1,1,1,1,1,1,1,1,1,1,1,1,1,1,1,1,1,1,1,1,1,1,1,1,1,1,1,1,1,1,1,1,1,1,1,1,1,1,1,1,1,1,1,1,1,1,1,1,1,1,1,1,1,1,1,1,1,1,1,2,2,2,2,1,1,1,1,1,1,1,1,1,1,1,1,1,1,1,1,1,1,1,1,1,1,1,1,1,1,1,1,1,1,1,1,1,1,1,1,1,1,1,1,1,1,1,1,1,1,1,1,1,1,1,1,1,1,1,1,1,1,1,1,1,1,1,1,1,1,1,1,1,1,1,1,1,1,1,1,1,1,1,1,1,1,1,1,1,1,1,1,1,1,1,1,1,1,1,1,1,1,1,1,1,1,1,1,1,1,1,1,1,1,1,1,1,1,1,1,1,1,1,1,1,1,1,1,1,1,1,1,1,1,1,1,1,1,1,1,1,1,1,1,1,1,1,1,1,1,1,1,1,1,1,1,1,1,1,1,2,2,2,2,2,2,2,2,1,1,1,1,1,1,1,1,1,1,1,1,1,1,1,1,1,1,1,1,1,1,1,1,1,1,1,1,1,1,1,1,1,1,1,1,1,1,1,1,1,1,1,1,1,1,1,1,1,1,1,1,1,1,1,1,1,1,1,2,2,2,2,2,2,2,2,2,2,2,1,1,1,1,1,1,1,1,1,1,1,1,1,1,1,1,1,1,1,1,1,1,1,1,1,1,1,1,1,1,1,1,1,1,1,1,1,1,1,1,1,1,1,1,1,1,1,1,1,1,1,1,1,1,1,2,2,2,2,2,2,1,1,1,1,1,1,1,2,2,2,2,1,1,1,1,1,1,1,1,1,1,1,1,1,1,1,1,1,1,1,1,1,1,1,1,1,1,1,1,1,1,1,1,1,1,1,1,1,1,1,1,1,1,1,1,1,1,1,1,1,1,1,1,1,1,1,1,1,1,1,1,1,1,1,1,1,1,1,1,1,1,1,1,1,1,1,1,1,1,1,1,1,1,1,1,1,1,1,1,1,1,1,1,1,1,1,1,1,1,1,1,1,1,1,1,1,1,1,1,1,1,1,1,1,1,1,1,1,1,1,1,1,1,1,1,1,1,1,1,1,1,1,1,1,1,1,1,1,1,1,1,1,1,1,1,1,1,1,1,1,1,1,1,1,1,1,1,1,1,1,1,1,1,1,1,1,1,1,1,1,1,1,1,1,1,1,1,1,1,1,1,1,1,1,1,1,1,1,1,1,1,1,1,1,1,1,1,1,1,1,1,1,1,1,1,1,1,1,1,1,1,1,1,1,1,1,1,1,1,1,1,1,1,1,1,1,1,1,1,1,1,1,1,1,1,1,1,1,1,1,1,1,1,1,1,1,1,1,1,1,1,1,1,1,1,1,1,1,1,1,1,1,1,1,1,1,1,1,1,1,1,1,1,1,1,1,1,1,1,1,1,1,1,1,1,1,1,1,1,1,1,1,1,1,1,1,1,1,1,1,1,1,1,1,1,1,1,1,1,1,1,1,1,1,1,1,1,1,1,1,1,1,1,1,1,1,1,1,1,1,1,1,1,1,1,1,1,1,1,1,1,1,1,1,1,1,1,1,1,1,1,1,1,1,1,1,1,1,1,1,1,1,1,1,1,2,2,2,2,2,2,2,1,1,1,1,1,1,1,1,1,1,1,1,1,1,1,1,1,1,1,1,1,1,1,1,1,1,1,1,1,1,1,1,1,1,1,1,1,1,1,1,1,1,1,1,1,1,1,1,1,1,1,1,1,1,1,1,1,1,1,1,1,1,1,1,1,1,1,1,1,1,1,1,1,1,1,1,1,1,1,1,1,1,1,1,1,1,1,1,1,1,1,1,1,1,1,1,1,1,1,1,1,1,1,1,1,1,1,1,1,1,1,1,1,1,1,1,1,1,1,1,1,1,1,1,1,1,1,1,1,1,1,1,2,2,2,2,2,2,2,2,2,2,2,2,1,1,1,1,1,1,1,1,1,1,1,1,1,1,1,1,1,1,1,1,3,3,3,3,3,3,3,3,3,1,1,1,1,1,1,1,1,1,1,1,1,1,1,1,1,1,1,1,1,1,1,1,1,1,1,1,1,1,1,1,1,1,1,1,1,1,1,1,1,1,1,1,1,1,1,1,1,1,1,1,1,1,1,1,1,1,1,1,1,1,1,1,1,1,1,1,1,1,1,1,1,1,1,1,1,1,1,1,1,1,1,1,1,1,1,1,1,1,1,1,1,1,1,1,1,1,1,1,1,1,1,1,1,1,1,2,2,1,1,1,1,2,2,2,2,2,2,2,2,3,3,3,3,1,1,1,1,1,1,1,1,1,1,1,1,1,1,1,1,1,1,1,1,1,1,1,1,1,1,1,1,1,1,1,1,1,1,1,1,1,1,1,1,1,1,1,1,1,1,1,1,1,1,1,1,1,1,1,1,1,1,1,1,1,1,2,2,2,2,2,1,1,1,1,1,1,2,2,2,2,2,2,2,2,2,2,2,2,2,2,2,2,2,2,2,2,2,2,2,2,2,2,2,2,2,2,2,1,1,1,1,1,1,1,1,1,1,1,1,1,1,1,1,1,1,1,1,1,1,1,1,1,1,1,1,1,1,1,1,1,1,1,1,1,1,1,1,1,1,1,1,1,1,1,1,1,1,1,1,1,1,1,1,1,1,1,1,1,1,1,1,1,1,1,1,1,1,1,1,1,1,1,1,1,1,1,1,1,1,1,1,1,1,1,1,1,1,1,1,1,1,1,1,1,1,1,1,1,1,1,1,1,1,1,1,1,1,1,1,1,1,1,1,1,1,1,1,1,1,1,1,1,1,1,1,1,1,1,1,1,1,1,1,1,1,1,1,1,1,1,1,1,1,1,1,1,1,1,1,1,1,1,1,1,1,1,1,1,1,1,1,1,1,1,1,1,1,1,1,1,1,1,1,1,1,1,1,1,1,1,1,1,1,1,1,1,1,1,1,1,1,1,1,1,1,1,1,1,1,1,1,1,1,1,1,1,1,1,1,1,1,1,1,1,1,1,1,1,1,1,1,1,1,1,1,1,1,1,1,1,1,1,1,1,1,1,1,1,1,1,1,1,1,1,1,1,1,1,1,1,1,1,1,1,1,1,1,1,1,1,1,1,1,1,1,1,1,1,1,1,1,1,1,1,1,1,1,1,1,1,1,1,1,1,1,1,1,1,1,1,1,1,1,1,1,1,1,1,1,1,1,1,1,1,1,1,1,1,1,1,1,1,1,1,1,1,1,1,1,1,1,1,1,1,1,1,1,1,1,1,1,1,1,1,1,1,1,1,1,1,1,1,1,1,1,1,1,1,1,1,1,1,1,1,1,1,1,1,1,1,1,1,1,1,1,1,1,1,1,1,1,1,1,1,1,1,1,1,1,1,1,1,1,1,1,1,1,1,1,1,1,1,1,1,1,1,1,1,1,1,1,1,1,1,1,1,1,1,1,1,1,1,1,1,1,1,1,1,1,1,1,1,1,1,1,1,1,1,1,1,1,1,1,1,1,1,1,1,1,1,1,1,1,1,1,1,1,1,1,1,1,1,1,1,1,1,1,1,1,1,1,1,1,1,1,1,1,1,1,1,1,1,1,1,1,1,1,1,1,1,1,1,1,1,1,1,1,1,1,1,1,1,1,1,1,1,1,1,1,1,1,1,1,1,1,1,1,1,1,1,1,1,1,1,1,1,1,1,1,1,1,1,1,1,1,1,1,1,1,1,1,1,1,1,1,1,1,1,1,1,1,1,1,1,1,1,1,1,1,1,1,1,1,1,1,1,1,1,1,1,1,1,1,1,1,1,1,1,1,1,1,1,1,1,1,1,1,1,1,1,1,1,1,1,1,1,1,1,1,1,1,1,1,1,1,1,1,1,1,1,1,1,1,1,1,1,1,1,1,1,1,1,1,1,1,1,1,1,1,1,1,1,1,1,1,1,1,1,1,1,1,1,1,1,1,1,1,1,1,1,1,1,1,1,1,1,1,1,1,1,1,1,1,1,1,1,1,1,1,1,1,1,1,1,1,1,1,1,1,1,1,1,1,1,1,3,3,3,3,3,3,3,3,3,3,3,3,3,3,3,1,1,1,1,1,1,1,1,1,1,1,1,1,1,1,1,1,1,1,1,1,1,1,1,1,1,1,1,1,1,1,1,1,1,1,1,1,1,1,1,1,1,1,1,1,1,1,1,1,1,1,1,1,1,1,1,1,1,1,1,1,1,1,1,1,1,1,1,1,1,1,1,2,2,2,2,2,2,2,2,2,2,2,2,2,2,2,2,2,2,2,2,2,2,2,2,2,2,2,1,1,1,1,1,1,1,1,1,1,1,1,1,1,1,1,1,1,1,1,1,1,1,1,1,1,1,1,1,1,1,1,1,1,1,1,1,1,1,1,1,1,1,1,1,1,1,1,1,1,1,1,1,1,1,1,1,1,1,1,1,1,1,1,1,1,1,1,1,1,1,1,1,1,1,1,1,1,1,1,1,1,1,1,1,1,1,1,1,1,1,1,1,1,1,1,1,1,1,1,1,1,1,1,1,1,1,1,1,1,1,1,1,1,1,1,1,1,1,1,1,1,1,1,1,1,1,1,1,1,1,1,1,1,1,1,1,1,1,1,1,1,1,1,1,1,1,1,1,1,1,1,1,1,1,1,1,1,1,1,1,1,1,1,1,1,1,1,1,1,1,1,1,1,1,1,1,1,1,1,1,1,1,1,1,1,1,1,1,1,1,1,1,1,1,1,1,1,1,1,1,1,1,1,1,1,1,1,1,1,1,1,1,1,1,1,1,1,1,1,1,1,1,1,1,1,1,1,1,1,1,1,1,1,1,1,1,1,1,1,1,1,1,1,1,1,1,1,1,1,1,1,1,1,1,1,1,1,1,1,1,1,1,1,1,1,1,1,1,1,1,1,1,1,1,1,1,1,1,1,1,1,1,1,1,1,1,1,1,1,1,1,1,1,1,1,1,1,1,1,1,1,1,1,1,1,1,1,1,1,1,1,1,1],\"xaxis\":\"x\",\"yaxis\":\"y\",\"type\":\"histogram\"}],                        {\"template\":{\"data\":{\"histogram2dcontour\":[{\"type\":\"histogram2dcontour\",\"colorbar\":{\"outlinewidth\":0,\"ticks\":\"\"},\"colorscale\":[[0.0,\"#0d0887\"],[0.1111111111111111,\"#46039f\"],[0.2222222222222222,\"#7201a8\"],[0.3333333333333333,\"#9c179e\"],[0.4444444444444444,\"#bd3786\"],[0.5555555555555556,\"#d8576b\"],[0.6666666666666666,\"#ed7953\"],[0.7777777777777778,\"#fb9f3a\"],[0.8888888888888888,\"#fdca26\"],[1.0,\"#f0f921\"]]}],\"choropleth\":[{\"type\":\"choropleth\",\"colorbar\":{\"outlinewidth\":0,\"ticks\":\"\"}}],\"histogram2d\":[{\"type\":\"histogram2d\",\"colorbar\":{\"outlinewidth\":0,\"ticks\":\"\"},\"colorscale\":[[0.0,\"#0d0887\"],[0.1111111111111111,\"#46039f\"],[0.2222222222222222,\"#7201a8\"],[0.3333333333333333,\"#9c179e\"],[0.4444444444444444,\"#bd3786\"],[0.5555555555555556,\"#d8576b\"],[0.6666666666666666,\"#ed7953\"],[0.7777777777777778,\"#fb9f3a\"],[0.8888888888888888,\"#fdca26\"],[1.0,\"#f0f921\"]]}],\"heatmap\":[{\"type\":\"heatmap\",\"colorbar\":{\"outlinewidth\":0,\"ticks\":\"\"},\"colorscale\":[[0.0,\"#0d0887\"],[0.1111111111111111,\"#46039f\"],[0.2222222222222222,\"#7201a8\"],[0.3333333333333333,\"#9c179e\"],[0.4444444444444444,\"#bd3786\"],[0.5555555555555556,\"#d8576b\"],[0.6666666666666666,\"#ed7953\"],[0.7777777777777778,\"#fb9f3a\"],[0.8888888888888888,\"#fdca26\"],[1.0,\"#f0f921\"]]}],\"heatmapgl\":[{\"type\":\"heatmapgl\",\"colorbar\":{\"outlinewidth\":0,\"ticks\":\"\"},\"colorscale\":[[0.0,\"#0d0887\"],[0.1111111111111111,\"#46039f\"],[0.2222222222222222,\"#7201a8\"],[0.3333333333333333,\"#9c179e\"],[0.4444444444444444,\"#bd3786\"],[0.5555555555555556,\"#d8576b\"],[0.6666666666666666,\"#ed7953\"],[0.7777777777777778,\"#fb9f3a\"],[0.8888888888888888,\"#fdca26\"],[1.0,\"#f0f921\"]]}],\"contourcarpet\":[{\"type\":\"contourcarpet\",\"colorbar\":{\"outlinewidth\":0,\"ticks\":\"\"}}],\"contour\":[{\"type\":\"contour\",\"colorbar\":{\"outlinewidth\":0,\"ticks\":\"\"},\"colorscale\":[[0.0,\"#0d0887\"],[0.1111111111111111,\"#46039f\"],[0.2222222222222222,\"#7201a8\"],[0.3333333333333333,\"#9c179e\"],[0.4444444444444444,\"#bd3786\"],[0.5555555555555556,\"#d8576b\"],[0.6666666666666666,\"#ed7953\"],[0.7777777777777778,\"#fb9f3a\"],[0.8888888888888888,\"#fdca26\"],[1.0,\"#f0f921\"]]}],\"surface\":[{\"type\":\"surface\",\"colorbar\":{\"outlinewidth\":0,\"ticks\":\"\"},\"colorscale\":[[0.0,\"#0d0887\"],[0.1111111111111111,\"#46039f\"],[0.2222222222222222,\"#7201a8\"],[0.3333333333333333,\"#9c179e\"],[0.4444444444444444,\"#bd3786\"],[0.5555555555555556,\"#d8576b\"],[0.6666666666666666,\"#ed7953\"],[0.7777777777777778,\"#fb9f3a\"],[0.8888888888888888,\"#fdca26\"],[1.0,\"#f0f921\"]]}],\"mesh3d\":[{\"type\":\"mesh3d\",\"colorbar\":{\"outlinewidth\":0,\"ticks\":\"\"}}],\"scatter\":[{\"fillpattern\":{\"fillmode\":\"overlay\",\"size\":10,\"solidity\":0.2},\"type\":\"scatter\"}],\"parcoords\":[{\"type\":\"parcoords\",\"line\":{\"colorbar\":{\"outlinewidth\":0,\"ticks\":\"\"}}}],\"scatterpolargl\":[{\"type\":\"scatterpolargl\",\"marker\":{\"colorbar\":{\"outlinewidth\":0,\"ticks\":\"\"}}}],\"bar\":[{\"error_x\":{\"color\":\"#2a3f5f\"},\"error_y\":{\"color\":\"#2a3f5f\"},\"marker\":{\"line\":{\"color\":\"#E5ECF6\",\"width\":0.5},\"pattern\":{\"fillmode\":\"overlay\",\"size\":10,\"solidity\":0.2}},\"type\":\"bar\"}],\"scattergeo\":[{\"type\":\"scattergeo\",\"marker\":{\"colorbar\":{\"outlinewidth\":0,\"ticks\":\"\"}}}],\"scatterpolar\":[{\"type\":\"scatterpolar\",\"marker\":{\"colorbar\":{\"outlinewidth\":0,\"ticks\":\"\"}}}],\"histogram\":[{\"marker\":{\"pattern\":{\"fillmode\":\"overlay\",\"size\":10,\"solidity\":0.2}},\"type\":\"histogram\"}],\"scattergl\":[{\"type\":\"scattergl\",\"marker\":{\"colorbar\":{\"outlinewidth\":0,\"ticks\":\"\"}}}],\"scatter3d\":[{\"type\":\"scatter3d\",\"line\":{\"colorbar\":{\"outlinewidth\":0,\"ticks\":\"\"}},\"marker\":{\"colorbar\":{\"outlinewidth\":0,\"ticks\":\"\"}}}],\"scattermapbox\":[{\"type\":\"scattermapbox\",\"marker\":{\"colorbar\":{\"outlinewidth\":0,\"ticks\":\"\"}}}],\"scatterternary\":[{\"type\":\"scatterternary\",\"marker\":{\"colorbar\":{\"outlinewidth\":0,\"ticks\":\"\"}}}],\"scattercarpet\":[{\"type\":\"scattercarpet\",\"marker\":{\"colorbar\":{\"outlinewidth\":0,\"ticks\":\"\"}}}],\"carpet\":[{\"aaxis\":{\"endlinecolor\":\"#2a3f5f\",\"gridcolor\":\"white\",\"linecolor\":\"white\",\"minorgridcolor\":\"white\",\"startlinecolor\":\"#2a3f5f\"},\"baxis\":{\"endlinecolor\":\"#2a3f5f\",\"gridcolor\":\"white\",\"linecolor\":\"white\",\"minorgridcolor\":\"white\",\"startlinecolor\":\"#2a3f5f\"},\"type\":\"carpet\"}],\"table\":[{\"cells\":{\"fill\":{\"color\":\"#EBF0F8\"},\"line\":{\"color\":\"white\"}},\"header\":{\"fill\":{\"color\":\"#C8D4E3\"},\"line\":{\"color\":\"white\"}},\"type\":\"table\"}],\"barpolar\":[{\"marker\":{\"line\":{\"color\":\"#E5ECF6\",\"width\":0.5},\"pattern\":{\"fillmode\":\"overlay\",\"size\":10,\"solidity\":0.2}},\"type\":\"barpolar\"}],\"pie\":[{\"automargin\":true,\"type\":\"pie\"}]},\"layout\":{\"autotypenumbers\":\"strict\",\"colorway\":[\"#636efa\",\"#EF553B\",\"#00cc96\",\"#ab63fa\",\"#FFA15A\",\"#19d3f3\",\"#FF6692\",\"#B6E880\",\"#FF97FF\",\"#FECB52\"],\"font\":{\"color\":\"#2a3f5f\"},\"hovermode\":\"closest\",\"hoverlabel\":{\"align\":\"left\"},\"paper_bgcolor\":\"white\",\"plot_bgcolor\":\"#E5ECF6\",\"polar\":{\"bgcolor\":\"#E5ECF6\",\"angularaxis\":{\"gridcolor\":\"white\",\"linecolor\":\"white\",\"ticks\":\"\"},\"radialaxis\":{\"gridcolor\":\"white\",\"linecolor\":\"white\",\"ticks\":\"\"}},\"ternary\":{\"bgcolor\":\"#E5ECF6\",\"aaxis\":{\"gridcolor\":\"white\",\"linecolor\":\"white\",\"ticks\":\"\"},\"baxis\":{\"gridcolor\":\"white\",\"linecolor\":\"white\",\"ticks\":\"\"},\"caxis\":{\"gridcolor\":\"white\",\"linecolor\":\"white\",\"ticks\":\"\"}},\"coloraxis\":{\"colorbar\":{\"outlinewidth\":0,\"ticks\":\"\"}},\"colorscale\":{\"sequential\":[[0.0,\"#0d0887\"],[0.1111111111111111,\"#46039f\"],[0.2222222222222222,\"#7201a8\"],[0.3333333333333333,\"#9c179e\"],[0.4444444444444444,\"#bd3786\"],[0.5555555555555556,\"#d8576b\"],[0.6666666666666666,\"#ed7953\"],[0.7777777777777778,\"#fb9f3a\"],[0.8888888888888888,\"#fdca26\"],[1.0,\"#f0f921\"]],\"sequentialminus\":[[0.0,\"#0d0887\"],[0.1111111111111111,\"#46039f\"],[0.2222222222222222,\"#7201a8\"],[0.3333333333333333,\"#9c179e\"],[0.4444444444444444,\"#bd3786\"],[0.5555555555555556,\"#d8576b\"],[0.6666666666666666,\"#ed7953\"],[0.7777777777777778,\"#fb9f3a\"],[0.8888888888888888,\"#fdca26\"],[1.0,\"#f0f921\"]],\"diverging\":[[0,\"#8e0152\"],[0.1,\"#c51b7d\"],[0.2,\"#de77ae\"],[0.3,\"#f1b6da\"],[0.4,\"#fde0ef\"],[0.5,\"#f7f7f7\"],[0.6,\"#e6f5d0\"],[0.7,\"#b8e186\"],[0.8,\"#7fbc41\"],[0.9,\"#4d9221\"],[1,\"#276419\"]]},\"xaxis\":{\"gridcolor\":\"white\",\"linecolor\":\"white\",\"ticks\":\"\",\"title\":{\"standoff\":15},\"zerolinecolor\":\"white\",\"automargin\":true,\"zerolinewidth\":2},\"yaxis\":{\"gridcolor\":\"white\",\"linecolor\":\"white\",\"ticks\":\"\",\"title\":{\"standoff\":15},\"zerolinecolor\":\"white\",\"automargin\":true,\"zerolinewidth\":2},\"scene\":{\"xaxis\":{\"backgroundcolor\":\"#E5ECF6\",\"gridcolor\":\"white\",\"linecolor\":\"white\",\"showbackground\":true,\"ticks\":\"\",\"zerolinecolor\":\"white\",\"gridwidth\":2},\"yaxis\":{\"backgroundcolor\":\"#E5ECF6\",\"gridcolor\":\"white\",\"linecolor\":\"white\",\"showbackground\":true,\"ticks\":\"\",\"zerolinecolor\":\"white\",\"gridwidth\":2},\"zaxis\":{\"backgroundcolor\":\"#E5ECF6\",\"gridcolor\":\"white\",\"linecolor\":\"white\",\"showbackground\":true,\"ticks\":\"\",\"zerolinecolor\":\"white\",\"gridwidth\":2}},\"shapedefaults\":{\"line\":{\"color\":\"#2a3f5f\"}},\"annotationdefaults\":{\"arrowcolor\":\"#2a3f5f\",\"arrowhead\":0,\"arrowwidth\":1},\"geo\":{\"bgcolor\":\"white\",\"landcolor\":\"#E5ECF6\",\"subunitcolor\":\"white\",\"showland\":true,\"showlakes\":true,\"lakecolor\":\"white\"},\"title\":{\"x\":0.05},\"mapbox\":{\"style\":\"light\"}}},\"xaxis\":{\"anchor\":\"y\",\"domain\":[0.0,1.0],\"title\":{\"text\":\"Number of Stars\"}},\"yaxis\":{\"anchor\":\"x\",\"domain\":[0.0,1.0],\"title\":{\"text\":\"count\"}},\"legend\":{\"tracegroupgap\":0},\"title\":{\"text\":\"Number of Stars in a System with an Exoplanet\"},\"barmode\":\"relative\",\"margin\":{\"l\":50,\"r\":50,\"t\":50,\"b\":50},\"bargap\":0.05,\"bargroupgap\":0.7,\"showlegend\":false},                        {\"responsive\": true}                    ).then(function(){\n",
              "                            \n",
              "var gd = document.getElementById('23944e8b-3a66-4a25-8f57-30778a3a9e67');\n",
              "var x = new MutationObserver(function (mutations, observer) {{\n",
              "        var display = window.getComputedStyle(gd).display;\n",
              "        if (!display || display === 'none') {{\n",
              "            console.log([gd, 'removed!']);\n",
              "            Plotly.purge(gd);\n",
              "            observer.disconnect();\n",
              "        }}\n",
              "}});\n",
              "\n",
              "// Listen for the removal of the full notebook cells\n",
              "var notebookContainer = gd.closest('#notebook-container');\n",
              "if (notebookContainer) {{\n",
              "    x.observe(notebookContainer, {childList: true});\n",
              "}}\n",
              "\n",
              "// Listen for the clearing of the current output cell\n",
              "var outputEl = gd.closest('.output');\n",
              "if (outputEl) {{\n",
              "    x.observe(outputEl, {childList: true});\n",
              "}}\n",
              "\n",
              "                        })                };                            </script>        </div>\n",
              "</body>\n",
              "</html>"
            ]
          },
          "metadata": {}
        }
      ]
    },
    {
      "cell_type": "markdown",
      "source": [
        "Ignore the .5 incimate, there is no such thing as half a star.\n",
        "\n",
        "The majority of exoplanets are found in systems with a single star, reflecting the prevalence of solitary stellar systems in our dataset. However, there are instances where exoplanets orbit binary or trinary star systems, represented by the presence of two or three stars. It's noteworthy to mention that exoplanets in systems with multiple stars are relatively rare and are primarily considered outliers within the dataset."
      ],
      "metadata": {
        "id": "hc_Xef--MXnn"
      }
    },
    {
      "cell_type": "code",
      "source": [
        "fig = px.histogram(df, x='pl_orbsmax', title=\"Distance each planet has from its respective star\",\n",
        "                   labels={'pl_orbsmax': 'Semi-major axis of the Planet\\'s orbit'})\n",
        "fig.update_layout(bargap=0.05,\n",
        "                  bargroupgap=0.5,\n",
        "                  showlegend=False,\n",
        "                  margin=dict(l=50, r=50, t=50, b=50))\n",
        "fig.show()"
      ],
      "metadata": {
        "colab": {
          "base_uri": "https://localhost:8080/",
          "height": 0
        },
        "id": "QxGgIy3vNAVE",
        "outputId": "469f4653-fb9b-45bc-c414-79649b696517"
      },
      "execution_count": 174,
      "outputs": [
        {
          "output_type": "display_data",
          "data": {
            "text/html": [
              "<html>\n",
              "<head><meta charset=\"utf-8\" /></head>\n",
              "<body>\n",
              "    <div>            <script src=\"https://cdnjs.cloudflare.com/ajax/libs/mathjax/2.7.5/MathJax.js?config=TeX-AMS-MML_SVG\"></script><script type=\"text/javascript\">if (window.MathJax && window.MathJax.Hub && window.MathJax.Hub.Config) {window.MathJax.Hub.Config({SVG: {font: \"STIX-Web\"}});}</script>                <script type=\"text/javascript\">window.PlotlyConfig = {MathJaxConfig: 'local'};</script>\n",
              "        <script charset=\"utf-8\" src=\"https://cdn.plot.ly/plotly-2.24.1.min.js\"></script>                <div id=\"cfb0f8c9-0971-4177-81d0-1909a885a167\" class=\"plotly-graph-div\" style=\"height:525px; width:100%;\"></div>            <script type=\"text/javascript\">                                    window.PLOTLYENV=window.PLOTLYENV || {};                                    if (document.getElementById(\"cfb0f8c9-0971-4177-81d0-1909a885a167\")) {                    Plotly.newPlot(                        \"cfb0f8c9-0971-4177-81d0-1909a885a167\",                        [{\"alignmentgroup\":\"True\",\"bingroup\":\"x\",\"hovertemplate\":\"Semi-major axis of the Planet's orbit=%{x}\\u003cbr\\u003ecount=%{y}\\u003cextra\\u003e\\u003c\\u002fextra\\u003e\",\"legendgroup\":\"\",\"marker\":{\"color\":\"#636efa\",\"pattern\":{\"shape\":\"\"}},\"name\":\"\",\"offsetgroup\":\"\",\"orientation\":\"v\",\"showlegend\":false,\"x\":[null,null,null,null,null,null,null,null,null,null,null,null,null,null,null,null,null,null,null,null,null,null,null,null,null,null,null,null,null,null,null,null,null,null,null,null,null,null,null,null,null,null,null,null,null,null,null,null,null,null,null,null,null,null,null,null,null,null,null,null,null,null,null,null,null,null,null,null,null,null,null,null,null,null,null,null,null,null,null,null,null,null,null,null,null,null,null,null,null,null,null,null,null,null,null,null,null,null,null,null,null,null,null,null,null,null,null,null,null,null,null,null,null,null,null,null,null,null,null,null,null,null,null,null,null,null,null,null,null,null,null,null,null,null,null,null,null,null,null,null,null,null,null,null,null,null,null,null,null,null,null,null,null,null,null,null,null,null,null,null,null,null,null,null,null,null,null,null,null,null,null,null,null,null,null,null,null,null,null,null,null,null,null,null,null,null,null,null,null,null,null,null,null,null,null,null,null,null,null,null,null,null,null,null,null,null,null,null,null,null,null,null,null,null,null,null,null,null,null,null,null,null,null,null,null,null,null,null,null,null,null,null,null,null,null,null,null,null,null,null,null,null,null,null,null,null,null,null,null,null,null,null,null,null,null,null,null,null,null,null,null,null,null,null,null,null,null,null,null,null,null,null,null,null,null,null,null,null,null,null,null,null,null,null,null,null,null,null,null,null,null,null,null,null,null,null,null,null,null,null,null,null,null,null,null,null,null,null,null,null,null,null,null,null,null,null,null,null,null,null,null,null,null,null,null,null,null,null,null,null,null,null,null,null,null,null,null,null,null,null,null,null,null,null,null,null,null,null,null,null,null,null,null,null,null,null,null,null,null,null,null,null,null,null,null,null,null,null,null,null,null,null,null,null,null,null,null,null,null,null,null,null,null,null,null,null,null,null,null,null,null,null,null,null,null,null,null,null,null,null,null,null,null,null,null,null,null,null,0.0828,null,null,null,null,null,null,null,null,null,null,null,null,null,null,null,null,null,null,null,null,null,null,null,0.1791,null,null,null,null,null,null,null,null,null,null,null,null,null,null,null,null,null,null,null,null,null,null,null,null,null,null,null,null,null,null,null,null,null,null,null,null,null,null,null,null,0.051,0.0627,null,null,null,null,null,null,null,null,null,null,null,null,null,null,null,null,null,null,null,0.1477,null,null,null,null,null,0.0589,null,null,null,null,null,null,null,null,null,null,null,null,null,null,null,null,null,null,null,null,0.0434,null,null,null,null,null,null,null,null,null,null,null,null,null,null,null,null,null,null,null,null,null,null,null,null,null,null,null,null,null,null,null,0.074,null,null,null,null,null,null,null,null,null,null,null,null,null,null,null,null,null,null,null,null,null,null,null,null,null,0.0125,null,null,null,null,null,null,null,null,null,null,null,null,null,null,null,null,null,null,null,null,null,null,null,null,null,null,null,null,null,null,null,null,null,null,null,null,null,null,null,0.187,null,null,null,null,null,null,null,null,null,null,null,null,0.5304,null,null,null,null,null,null,null,null,null,null,null,null,null,0.0651,null,null,null,null,null,null,null,null,null,null,null,null,null,null,null,null,null,null,null,null,null,null,null,null,null,null,null,null,null,null,null,null,null,null,null,null,null,null,null,null,null,null,null,null,null,null,null,null,null,null,null,null,null,null,null,null,null,null,null,null,null,0.1201,null,null,null,null,null,null,null,null,null,null,null,null,null,null,null,null,null,null,null,null,null,null,null,null,null,null,null,null,null,null,null,null,null,null,null,null,null,null,null,null,null,null,null,null,null,null,null,null,null,null,null,null,null,null,null,null,null,null,null,null,null,null,null,null,null,null,null,null,null,null,null,null,null,null,null,null,null,null,null,null,null,null,null,null,null,null,null,null,null,null,null,null,null,null,null,null,null,null,null,null,null,null,null,null,null,null,null,null,null,null,null,null,null,null,null,null,null,null,null,null,null,null,null,null,null,null,null,null,null,null,null,null,null,null,null,null,null,null,null,null,null,null,null,null,null,null,null,null,null,null,null,null,null,null,null,null,null,null,null,null,null,null,null,null,null,null,null,null,null,null,null,null,null,null,null,null,null,null,null,null,null,null,null,null,null,null,null,null,null,null,null,null,null,null,null,null,null,null,null,null,null,null,null,null,null,null,null,null,null,null,null,null,null,null,null,null,null,null,null,null,null,null,null,null,null,null,null,null,null,null,null,null,null,null,null,null,null,null,null,null,null,null,null,null,null,null,null,null,null,null,null,null,null,null,null,null,null,null,null,null,null,null,null,null,null,null,null,null,null,null,null,null,null,null,null,null,null,null,null,null,null,null,null,null,null,null,null,null,null,null,null,null,null,null,null,null,null,null,null,null,null,null,null,null,null,null,null,null,null,null,null,null,null,null,null,null,null,null,null,null,null,null,null,null,null,null,null,null,null,null,null,null,null,null,null,null,null,null,null,null,null,null,null,null,null,null,null,0.0529,null,null,null,null,null,null,null,null,null,null,null,null,null,null,null,null,null,null,null,null,null,null,null,null,null,null,null,null,null,null,null,null,null,null,null,null,null,null,null,null,null,null,null,null,null,null,null,null,null,null,null,null,null,null,null,null,null,null,null,null,null,null,null,null,null,null,null,null,null,null,null,null,null,null,null,null,null,null,null,null,null,null,null,null,null,null,null,null,null,null,null,null,null,null,null,null,null,null,null,null,null,null,null,null,null,null,null,null,null,null,null,null,null,null,null,null,null,null,null,null,null,null,null,null,null,null,null,null,null,null,null,null,null,null,null,null,null,null,null,null,null,null,null,null,null,null,null,null,null,null,null,null,null,null,null,null,null,null,null,null,null,null,null,null,null,null,null,null,null,null,null,null,null,null,null,null,0.0187,null,null,null,0.0162,0.0266,0.0724,null,null,null,null,null,null,null,null,null,null,null,null,null,0.0251,null,null,null,null,null,null,null,null,null,0.0377,null,null,null,null,0.0279,0.0708,null,null,null,null,0.1034,null,0.0775,null,null,null,null,null,null,null,null,null,null,null,null,null,null,null,null,0.0365,0.0999,null,null,null,null,null,null,null,null,null,null,null,null,null,null,null,null,null,null,null,null,null,null,null,null,null,null,null,null,null,0.1417,null,null,null,null,null,null,null,null,null,null,null,null,null,null,null,null,null,null,null,null,null,null,null,null,null,null,null,null,null,null,null,null,0.32,0.3501,null,null,null,0.2688,0.228,0.1984,null,null,null,null,null,null,0.241,null,0.0349,null,null,null,null,null,null,null,0.0296,null,null,0.035,null,null,null,null,null,null,null,null,null,null,null,null,null,null,null,null,null,null,null,null,null,null,null,null,null,null,0.131,null,0.1195,null,0.1493,null,null,0.148,null,null,null,null,null,null,null,null,null,null,null,null,null,null,null,null,null,null,null,null,null,null,null,null,null,0.098,null,null,0.28,null,null,null,0.0116,0.01312,null,0.0134,0.01326,null,null,null,null,0.1071,null,0.1091,0.105,null,0.1083,null,null,null,null,0.1237,null,null,0.07229,null,4.5,0.047,0.13,0.22,null,null,0.0385,null,0.02,0.0206,0.01888,0.0188,0.0188,null,0.0429,0.03942,0.03925,0.042,0.03925,0.06,0.0559,0.0611,0.05591,0.05615,null,0.04122,null,null,0.04117,null,null,null,null,null,0.04232,null,null,null,0.0423,0.0447,null,null,0.04614,null,null,0.0507,null,null,0.0441,null,null,0.04795,null,null,0.05425,0.0523,null,0.03048,0.0312,null,null,0.03048,null,0.0905,0.0907,0.08887,null,0.09012,0.1503,0.1526,null,0.1536,null,null,0.1533,0.02732,1.2163,0.01802,null,null,0.01796,0.01815,null,0.0186,null,null,0.01752,null,null,0.1806,0.1776,0.1783,0.1841,null,null,null,0.1795,0.0763,0.07757,0.07703,0.3885,0.4048,0.0166,null,null,0.01661,1.961,0.1066,0.105,0.1115,null,0.07765,null,null,0.0906,null,null,null,null,null,null,null,null,null,null,null,null,null,null,null,null,null,null,null,null,0.137,0.1374,null,0.0296,null,null,null,null,0.0301,null,null,0.0422,null,null,null,null,null,null,0.1124,null,null,null,0.0242,null,null,null,null,null,null,0.023,null,0.0796,0.0833,null,null,null,0.081,null,null,null,null,0.048,0.0475,null,null,null,null,0.0581,null,null,0.0573,null,0.2257,0.2196,null,null,0.1027,null,null,null,0.1021,null,0.10207,null,null,0.0621,0.0565,0.057,null,0.11569,0.1166,null,0.0642,0.0558,null,null,null,0.0983,null,0.09309,null,0.0954,0.0943,null,null,null,0.1367,null,null,null,0.143,null,null,null,null,null,0.048,null,null,null,0.0188,null,null,0.0189,0.019,0.0492,0.051,0.0491,null,null,null,0.245,null,null,null,null,0.07,0.0698,null,null,0.0847,0.0802,0.0792,null,0.078,null,null,null,0.0629,null,null,0.0525,null,null,null,0.052,null,null,null,0.0285,null,0.0288,0.0373,0.029,0.167,null,null,null,0.1649,null,null,0.1641,null,0.051,null,0.051,null,null,0.049,0.121,null,null,null,null,null,0.066,0.0656,0.0411,0.041,null,null,null,null,0.056,null,null,0.057,0.2245,null,0.2114,0.032,null,null,null,0.0095,null,null,null,0.00936,null,null,0.086,0.0916,null,null,0.03194,0.033,0.04341,0.045,null,0.077,0.07487,0.1346,0.0707,null,null,0.11728,null,null,0.1185,null,null,0.1538,null,null,0.0058,0.0338,0.0338,0.03385,0.0442,0.04454,0.04461,0.05893,0.05883,0.0575,null,0.0782,0.07807,0.0792,0.1043,0.10447,0.1064,0.23109,0.2287,null,0.1796,null,null,0.179,null,0.061,0.069,0.0627,null,0.0591,null,0.068,0.0687,null,0.00747,null,null,0.00716,0.0683,null,0.0266,null,null,0.0259,null,null,null,0.0248,null,null,0.0327,0.0159,null,null,null,0.0454,null,0.0616,null,0.0774,0.083,null,null,0.0946,0.091,null,0.0727,null,0.0365,0.0373,null,0.1716,0.1735,0.0601,0.0614,0.0405,0.0408,0.0683,0.0677,0.0562,0.0546,0.092,null,0.0946,0.1886,0.1937,null,0.0149,null,null,null,null,0.0887,0.0622,null,0.1013,null,0.0662,0.0667,null,null,0.06696,null,null,0.122,0.1235,0.1229,null,null,0.0795,null,null,null,null,null,null,null,null,null,null,0.0858,null,0.0999,null,null,null,null,0.091,null,null,null,null,null,null,null,null,null,null,null,null,null,0.1088,0.117,0.119,null,null,null,null,null,null,null,null,null,null,null,null,null,null,null,null,null,null,null,null,null,0.126,null,null,null,null,null,null,null,null,null,null,null,null,0.1429,0.1491,0.143,0.1591,0.1429,0.1506,null,null,null,null,0.06,null,0.0734,null,null,null,0.0753,null,0.075,null,null,null,0.0706,null,null,null,null,null,0.0519,null,null,0.0526,null,0.0529,null,null,null,null,null,null,null,null,null,0.0932,null,null,0.1527,null,null,null,0.1229,0.1685,null,null,null,null,null,null,null,null,null,null,null,null,0.0164,null,null,null,0.0392,null,null,null,null,null,null,null,null,null,null,0.072,null,null,0.1106,null,null,null,0.0289,null,null,0.0785,null,null,null,null,0.0361,null,null,null,null,null,null,null,0.068,null,null,0.0762,0.0775,null,null,0.077,null,0.074,null,null,null,0.0735,null,0.0965,null,0.1001,null,0.1017,null,null,null,null,null,0.0971,0.1032,0.0344,null,null,0.036,null,null,null,null,null,null,null,null,null,null,null,null,0.049,null,null,null,0.1184,null,null,null,null,null,null,0.1208,null,null,null,null,null,null,null,0.0806,null,null,null,null,null,null,null,null,null,null,null,null,0.0382,null,null,0.0385,null,null,null,null,null,0.0668,null,0.0662,null,null,null,null,null,null,null,4.11,4.16,null,null,null,null,null,null,null,null,null,null,null,null,null,null,null,0.0699,0.076,0.0731,null,0.098,null,0.1026,null,0.107,null,null,null,null,null,null,null,null,null,0.0785,null,null,null,0.0834,null,null,null,null,null,null,null,null,0.028,null,0.0298,null,null,null,null,null,null,null,null,null,null,null,0.01604,0.009,null,null,0.0088,null,null,0.1104,null,null,null,null,0.1206,null,null,null,0.1211,null,null,0.0127,null,null,0.0549,0.0516,null,null,0.0886,0.134,null,0.0413,null,null,null,0.0338,null,null,0.0131,null,0.012888,null,0.0769,0.07577,null,0.0409,null,null,null,0.10356,0.0991,0.03308,0.03317,0.06687,0.06666,0.15224,0.1527,null,0.0353,0.03558,null,null,null,0.037,null,0.046,0.0441,0.0576,0.0685,0.1577,0.154,0.1542,null,null,null,null,null,null,0.2527,0.247,null,null,null,null,0.2471,0.0513,0.1159,0.1567,0.0494,0.1087,0.1817,0.1418,null,0.0959,0.0602,0.0304,0.0615,0.0699,0.1151,null,null,null,0.0287,null,0.0459,0.0694,0.1041,0.0506,null,0.0448,0.0923,0.0274,0.0578,0.0216,0.149,null,0.1271,null,0.0962,0.0945,null,null,null,0.0404,null,null,0.102,null,0.1087,null,null,0.1034,null,0.2573,null,0.2573,0.05023,null,0.11283,null,0.03376,null,null,null,null,null,0.01306,0.0679,0.1035,null,0.1249,null,null,null,0.0308,null,null,null,null,0.0819,null,null,null,null,null,null,null,null,0.0531,null,null,null,0.0703,null,null,null,null,null,null,0.06702,null,0.0247,null,null,null,null,null,null,0.0497,null,null,null,null,null,0.077,null,0.1007,null,0.1081,null,null,null,null,null,0.0974,null,null,null,null,null,0.0729,null,null,null,0.0964,null,0.1064,null,null,null,null,null,null,0.04,null,null,0.0277,null,0.075,null,null,null,0.0881,null,0.1291,null,null,null,null,null,null,null,0.0675,null,null,null,null,0.0488,null,0.067,null,null,null,0.0192,0.0214,0.02,null,0.0187,null,null,null,0.1461,null,0.1488,null,null,0.0773,null,null,null,null,null,null,0.0499,0.0291,null,null,null,0.04771,null,0.03817,0.0824,null,0.1178,0.18041,0.1768,0.1206,0.164,null,null,null,0.107,null,null,null,null,0.04214,0.04217,null,null,0.04097,null,0.0923,0.305,null,null,0.03261,null,0.13,null,null,0.0451,null,null,null,0.074,null,null,0.0769,null,0.0775,null,0.0747,0.0769,0.0778,null,null,0.0679,0.0777,null,0.1235,0.1399,null,0.1357,0.1414,0.1413,null,0.1345,null,null,0.1405,null,0.1399,0.1833,0.2097,null,null,0.2097,0.2076,null,null,0.2086,null,0.2076,null,0.2014,null,null,null,0.04839,0.04986,0.0419,null,null,0.0489,null,null,null,0.022,null,0.02258,null,null,0.0147,0.0582,0.0542,0.0911,0.1516,null,0.0808,null,null,null,0.0811,0.0795,0.08036,0.08035,null,0.1399,null,0.1407,0.1412,null,0.13843,0.1399,null,null,null,0.1862,null,0.18422,0.1879,null,0.1862,0.1873,null,0.04899,0.04951,null,0.0142,null,0.041,0.0594,0.1275,0.0331,0.0419,0.0198,0.1016,0.0409,null,null,null,null,null,null,null,null,null,null,null,null,null,null,null,null,null,null,null,null,null,null,null,null,null,null,null,null,null,null,null,null,null,null,null,null,null,null,null,0.0465,0.0445,null,null,null,0.04419,null,null,null,null,0.0426,0.0442,null,null,null,null,null,null,null,null,null,null,null,null,null,null,null,null,null,null,null,null,null,null,null,null,null,null,null,null,null,null,null,null,null,null,null,0.031,0.032,null,null,0.0306,0.0539,0.0564,null,null,null,0.055,null,null,null,null,null,null,null,null,null,null,null,null,null,null,0.0632,0.1599,0.145,0.0863,null,null,null,0.0223,0.02308,0.023,0.02288,null,null,0.05528,0.0555,null,0.05574,0.054,null,null,null,null,null,null,null,null,null,null,null,null,null,null,null,null,null,null,null,null,null,null,null,0.0511,null,0.05105,null,null,null,0.06534,null,null,null,0.0654,null,null,0.1102,0.1103,null,null,null,null,null,null,null,null,null,null,null,null,null,null,null,null,null,null,null,null,null,null,null,null,null,null,null,null,null,null,null,null,null,null,null,0.0503,null,0.0506,0.05073,0.04994,0.0967,0.0964,0.0959,null,0.09514,null,null,null,null,null,null,null,null,null,null,null,null,null,null,null,null,null,null,null,null,null,null,null,null,null,null,null,null,null,null,null,null,null,null,null,null,null,null,null,null,null,null,null,null,0.062,null,null,0.0574,0.05708,null,null,null,null,null,null,null,null,null,null,null,null,null,null,null,null,null,null,null,null,null,null,null,null,null,null,null,null,null,null,0.078,0.0777,0.0715,null,null,null,null,null,null,null,null,null,null,null,null,null,null,null,null,null,null,null,null,null,null,null,null,null,0.0511,0.0586,0.0117,0.0426,0.0487,0.0552,0.027,null,0.088,0.063,0.0617,null,null,null,0.038,null,null,0.03784,null,null,null,0.06,null,null,null,0.0651,null,null,null,0.025,0.0224,null,0.13821,null,null,null,null,null,0.1779,null,null,0.1344,null,null,0.0309,null,null,0.0532,0.0509,null,0.0504,null,0.0775,0.0783,0.0818,null,null,null,null,0.0705,0.054,null,0.0485,null,0.0975,null,null,0.098,null,0.0671,null,null,null,0.03486,null,null,0.035,0.0746,null,null,0.0692,null,null,null,null,0.035,null,null,null,0.1517,null,null,null,null,null,0.1354,null,0.0905,null,null,0.1882,null,null,0.1898,null,0.045,null,0.04179,null,null,null,null,null,null,0.0392,null,null,null,0.0636,null,null,null,0.1148,null,null,0.1627,null,null,null,null,0.189,null,null,null,0.0619,null,null,null,null,0.1014,0.06069,null,0.05983,0.0708,null,null,null,null,0.0591,null,null,0.1864,0.1814,null,0.1112,null,null,null,0.0559,null,0.037,0.04,null,0.078,0.0722,0.0461,0.05,0.098,0.106,null,null,null,0.07619,null,null,0.1402,null,null,null,null,null,0.081,null,null,null,0.1429,null,0.076,null,null,null,null,null,null,0.0988,null,null,0.0987,0.0856,0.0877,null,null,null,0.0856,0.0532,null,null,0.0545,null,null,0.135,null,null,null,0.0596,null,null,null,0.059,null,0.0579,0.032,0.03014,null,0.07131,0.076,null,null,null,0.0665,null,0.1768,null,0.01263,null,0.013,null,null,null,null,0.077,null,null,0.094,null,0.0876,null,0.042,0.0345,0.01462,0.017,null,0.1098,0.091,0.0848,null,null,0.1,0.096,0.0926,null,null,null,0.0328,0.035,0.018,0.0164,null,null,0.0696,0.0525,0.0653,null,null,null,null,null,null,null,null,0.086,0.081,null,null,null,null,null,0.0974,null,null,null,0.0943,null,null,null,null,null,null,0.1597,0.159,0.02153,null,null,null,null,null,0.02136,null,0.0216,0.02153,0.02149,0.0496,null,null,0.011534,0.011548,null,0.01111,0.01111,0.01154,0.0158,null,0.01579,0.01521,0.015815,0.01522,0.02226,0.02228,0.02227,0.02144,0.02925,0.029283,null,0.02924,0.02817,0.0371,null,0.038534,0.03849,0.038774,0.04683,0.046877,0.046815,0.0451,0.06189,0.061866,0.063,0.061935,null,0.1687,null,null,0.1688,0.1719,null,0.0825,null,0.0841,0.1083,0.1103,null,null,0.308,0.2409,0.0553,0.055,null,0.0558,null,null,null,null,null,0.0545,null,0.05356,null,null,0.05453,0.055,0.055,null,null,null,null,null,0.0499,null,null,0.0529,null,0.0445,null,0.04465,0.0442,null,0.04469,null,0.04464,0.0507,null,null,0.052,null,0.052,null,null,null,null,null,0.051,null,null,null,1.393,1.36,1.41,null,null,0.085,0.088,null,null,null,null,null,null,null,null,null,0.01673,0.0173,null,null,null,null,null,null,null,null,null,null,null,null,0.05326,0.0533,0.0558,null,null,0.0375,null,0.03751,0.03793,null,null,null,null,null,null,null,null,0.039,null,0.05712,0.0571,0.05706,null,null,null,null,null,null,null,null,null,null,null,null,null,null,null,null,null,null,null,null,null,null,null,null,null,null,null,null,null,null,null,null,null,null,null,null,null,null,null,null,null,null,null,null,null,null,null,null,null,null,null,null,null,null,null,null,null,0.0974,null,null,null,null,null,null,null,null,null,null,null,null,null,null,null,null,null,null,null,null,null,null,null,null,null,null,null,null,null,null,null,null,null,null,null,null,null,null,null,null,null,null,null,null,null,null,null,null,null,null,null,null,null,null,null,0.0661,null,null,null,null,null,null,null,null,null,null,null,null,null,null,null,null,null,null,null,null,null,null,0.0368,0.026,null,null,null,null,null,null,null,null,null,null,null,null,null,null,null,null,null,null,null,null,null,null,null,null,null,null,null,null,null,null,null,null,null,null,null,null,null,null,null,null,null,null,null,null,null,null,null,null,null,null,null,null,null,null,null,null,null,null,null,null,null,null,null,null,null,null,null,null,null,null,null,null,null,null,null,null,null,null,null,null,null,null,null,null,null,null,null,null,null,null,null,null,null,null,null,null,null,null,null,null,null,null,null,null,null,null,null,null,null,null,null,null,null,null,null,null,null,null,0.0559,0.076,null,null,null,0.0879,0.0258,0.0034,null,null,null,null,null,null,null,null,null,null,null,null,null,null,null,null,null,null,null,null,null,null,null,null,null,null,null,null,null,null,null,null,null,null,null,null,null,null,null,null,null,null,null,null,null,null,null],\"xaxis\":\"x\",\"yaxis\":\"y\",\"type\":\"histogram\"}],                        {\"template\":{\"data\":{\"histogram2dcontour\":[{\"type\":\"histogram2dcontour\",\"colorbar\":{\"outlinewidth\":0,\"ticks\":\"\"},\"colorscale\":[[0.0,\"#0d0887\"],[0.1111111111111111,\"#46039f\"],[0.2222222222222222,\"#7201a8\"],[0.3333333333333333,\"#9c179e\"],[0.4444444444444444,\"#bd3786\"],[0.5555555555555556,\"#d8576b\"],[0.6666666666666666,\"#ed7953\"],[0.7777777777777778,\"#fb9f3a\"],[0.8888888888888888,\"#fdca26\"],[1.0,\"#f0f921\"]]}],\"choropleth\":[{\"type\":\"choropleth\",\"colorbar\":{\"outlinewidth\":0,\"ticks\":\"\"}}],\"histogram2d\":[{\"type\":\"histogram2d\",\"colorbar\":{\"outlinewidth\":0,\"ticks\":\"\"},\"colorscale\":[[0.0,\"#0d0887\"],[0.1111111111111111,\"#46039f\"],[0.2222222222222222,\"#7201a8\"],[0.3333333333333333,\"#9c179e\"],[0.4444444444444444,\"#bd3786\"],[0.5555555555555556,\"#d8576b\"],[0.6666666666666666,\"#ed7953\"],[0.7777777777777778,\"#fb9f3a\"],[0.8888888888888888,\"#fdca26\"],[1.0,\"#f0f921\"]]}],\"heatmap\":[{\"type\":\"heatmap\",\"colorbar\":{\"outlinewidth\":0,\"ticks\":\"\"},\"colorscale\":[[0.0,\"#0d0887\"],[0.1111111111111111,\"#46039f\"],[0.2222222222222222,\"#7201a8\"],[0.3333333333333333,\"#9c179e\"],[0.4444444444444444,\"#bd3786\"],[0.5555555555555556,\"#d8576b\"],[0.6666666666666666,\"#ed7953\"],[0.7777777777777778,\"#fb9f3a\"],[0.8888888888888888,\"#fdca26\"],[1.0,\"#f0f921\"]]}],\"heatmapgl\":[{\"type\":\"heatmapgl\",\"colorbar\":{\"outlinewidth\":0,\"ticks\":\"\"},\"colorscale\":[[0.0,\"#0d0887\"],[0.1111111111111111,\"#46039f\"],[0.2222222222222222,\"#7201a8\"],[0.3333333333333333,\"#9c179e\"],[0.4444444444444444,\"#bd3786\"],[0.5555555555555556,\"#d8576b\"],[0.6666666666666666,\"#ed7953\"],[0.7777777777777778,\"#fb9f3a\"],[0.8888888888888888,\"#fdca26\"],[1.0,\"#f0f921\"]]}],\"contourcarpet\":[{\"type\":\"contourcarpet\",\"colorbar\":{\"outlinewidth\":0,\"ticks\":\"\"}}],\"contour\":[{\"type\":\"contour\",\"colorbar\":{\"outlinewidth\":0,\"ticks\":\"\"},\"colorscale\":[[0.0,\"#0d0887\"],[0.1111111111111111,\"#46039f\"],[0.2222222222222222,\"#7201a8\"],[0.3333333333333333,\"#9c179e\"],[0.4444444444444444,\"#bd3786\"],[0.5555555555555556,\"#d8576b\"],[0.6666666666666666,\"#ed7953\"],[0.7777777777777778,\"#fb9f3a\"],[0.8888888888888888,\"#fdca26\"],[1.0,\"#f0f921\"]]}],\"surface\":[{\"type\":\"surface\",\"colorbar\":{\"outlinewidth\":0,\"ticks\":\"\"},\"colorscale\":[[0.0,\"#0d0887\"],[0.1111111111111111,\"#46039f\"],[0.2222222222222222,\"#7201a8\"],[0.3333333333333333,\"#9c179e\"],[0.4444444444444444,\"#bd3786\"],[0.5555555555555556,\"#d8576b\"],[0.6666666666666666,\"#ed7953\"],[0.7777777777777778,\"#fb9f3a\"],[0.8888888888888888,\"#fdca26\"],[1.0,\"#f0f921\"]]}],\"mesh3d\":[{\"type\":\"mesh3d\",\"colorbar\":{\"outlinewidth\":0,\"ticks\":\"\"}}],\"scatter\":[{\"fillpattern\":{\"fillmode\":\"overlay\",\"size\":10,\"solidity\":0.2},\"type\":\"scatter\"}],\"parcoords\":[{\"type\":\"parcoords\",\"line\":{\"colorbar\":{\"outlinewidth\":0,\"ticks\":\"\"}}}],\"scatterpolargl\":[{\"type\":\"scatterpolargl\",\"marker\":{\"colorbar\":{\"outlinewidth\":0,\"ticks\":\"\"}}}],\"bar\":[{\"error_x\":{\"color\":\"#2a3f5f\"},\"error_y\":{\"color\":\"#2a3f5f\"},\"marker\":{\"line\":{\"color\":\"#E5ECF6\",\"width\":0.5},\"pattern\":{\"fillmode\":\"overlay\",\"size\":10,\"solidity\":0.2}},\"type\":\"bar\"}],\"scattergeo\":[{\"type\":\"scattergeo\",\"marker\":{\"colorbar\":{\"outlinewidth\":0,\"ticks\":\"\"}}}],\"scatterpolar\":[{\"type\":\"scatterpolar\",\"marker\":{\"colorbar\":{\"outlinewidth\":0,\"ticks\":\"\"}}}],\"histogram\":[{\"marker\":{\"pattern\":{\"fillmode\":\"overlay\",\"size\":10,\"solidity\":0.2}},\"type\":\"histogram\"}],\"scattergl\":[{\"type\":\"scattergl\",\"marker\":{\"colorbar\":{\"outlinewidth\":0,\"ticks\":\"\"}}}],\"scatter3d\":[{\"type\":\"scatter3d\",\"line\":{\"colorbar\":{\"outlinewidth\":0,\"ticks\":\"\"}},\"marker\":{\"colorbar\":{\"outlinewidth\":0,\"ticks\":\"\"}}}],\"scattermapbox\":[{\"type\":\"scattermapbox\",\"marker\":{\"colorbar\":{\"outlinewidth\":0,\"ticks\":\"\"}}}],\"scatterternary\":[{\"type\":\"scatterternary\",\"marker\":{\"colorbar\":{\"outlinewidth\":0,\"ticks\":\"\"}}}],\"scattercarpet\":[{\"type\":\"scattercarpet\",\"marker\":{\"colorbar\":{\"outlinewidth\":0,\"ticks\":\"\"}}}],\"carpet\":[{\"aaxis\":{\"endlinecolor\":\"#2a3f5f\",\"gridcolor\":\"white\",\"linecolor\":\"white\",\"minorgridcolor\":\"white\",\"startlinecolor\":\"#2a3f5f\"},\"baxis\":{\"endlinecolor\":\"#2a3f5f\",\"gridcolor\":\"white\",\"linecolor\":\"white\",\"minorgridcolor\":\"white\",\"startlinecolor\":\"#2a3f5f\"},\"type\":\"carpet\"}],\"table\":[{\"cells\":{\"fill\":{\"color\":\"#EBF0F8\"},\"line\":{\"color\":\"white\"}},\"header\":{\"fill\":{\"color\":\"#C8D4E3\"},\"line\":{\"color\":\"white\"}},\"type\":\"table\"}],\"barpolar\":[{\"marker\":{\"line\":{\"color\":\"#E5ECF6\",\"width\":0.5},\"pattern\":{\"fillmode\":\"overlay\",\"size\":10,\"solidity\":0.2}},\"type\":\"barpolar\"}],\"pie\":[{\"automargin\":true,\"type\":\"pie\"}]},\"layout\":{\"autotypenumbers\":\"strict\",\"colorway\":[\"#636efa\",\"#EF553B\",\"#00cc96\",\"#ab63fa\",\"#FFA15A\",\"#19d3f3\",\"#FF6692\",\"#B6E880\",\"#FF97FF\",\"#FECB52\"],\"font\":{\"color\":\"#2a3f5f\"},\"hovermode\":\"closest\",\"hoverlabel\":{\"align\":\"left\"},\"paper_bgcolor\":\"white\",\"plot_bgcolor\":\"#E5ECF6\",\"polar\":{\"bgcolor\":\"#E5ECF6\",\"angularaxis\":{\"gridcolor\":\"white\",\"linecolor\":\"white\",\"ticks\":\"\"},\"radialaxis\":{\"gridcolor\":\"white\",\"linecolor\":\"white\",\"ticks\":\"\"}},\"ternary\":{\"bgcolor\":\"#E5ECF6\",\"aaxis\":{\"gridcolor\":\"white\",\"linecolor\":\"white\",\"ticks\":\"\"},\"baxis\":{\"gridcolor\":\"white\",\"linecolor\":\"white\",\"ticks\":\"\"},\"caxis\":{\"gridcolor\":\"white\",\"linecolor\":\"white\",\"ticks\":\"\"}},\"coloraxis\":{\"colorbar\":{\"outlinewidth\":0,\"ticks\":\"\"}},\"colorscale\":{\"sequential\":[[0.0,\"#0d0887\"],[0.1111111111111111,\"#46039f\"],[0.2222222222222222,\"#7201a8\"],[0.3333333333333333,\"#9c179e\"],[0.4444444444444444,\"#bd3786\"],[0.5555555555555556,\"#d8576b\"],[0.6666666666666666,\"#ed7953\"],[0.7777777777777778,\"#fb9f3a\"],[0.8888888888888888,\"#fdca26\"],[1.0,\"#f0f921\"]],\"sequentialminus\":[[0.0,\"#0d0887\"],[0.1111111111111111,\"#46039f\"],[0.2222222222222222,\"#7201a8\"],[0.3333333333333333,\"#9c179e\"],[0.4444444444444444,\"#bd3786\"],[0.5555555555555556,\"#d8576b\"],[0.6666666666666666,\"#ed7953\"],[0.7777777777777778,\"#fb9f3a\"],[0.8888888888888888,\"#fdca26\"],[1.0,\"#f0f921\"]],\"diverging\":[[0,\"#8e0152\"],[0.1,\"#c51b7d\"],[0.2,\"#de77ae\"],[0.3,\"#f1b6da\"],[0.4,\"#fde0ef\"],[0.5,\"#f7f7f7\"],[0.6,\"#e6f5d0\"],[0.7,\"#b8e186\"],[0.8,\"#7fbc41\"],[0.9,\"#4d9221\"],[1,\"#276419\"]]},\"xaxis\":{\"gridcolor\":\"white\",\"linecolor\":\"white\",\"ticks\":\"\",\"title\":{\"standoff\":15},\"zerolinecolor\":\"white\",\"automargin\":true,\"zerolinewidth\":2},\"yaxis\":{\"gridcolor\":\"white\",\"linecolor\":\"white\",\"ticks\":\"\",\"title\":{\"standoff\":15},\"zerolinecolor\":\"white\",\"automargin\":true,\"zerolinewidth\":2},\"scene\":{\"xaxis\":{\"backgroundcolor\":\"#E5ECF6\",\"gridcolor\":\"white\",\"linecolor\":\"white\",\"showbackground\":true,\"ticks\":\"\",\"zerolinecolor\":\"white\",\"gridwidth\":2},\"yaxis\":{\"backgroundcolor\":\"#E5ECF6\",\"gridcolor\":\"white\",\"linecolor\":\"white\",\"showbackground\":true,\"ticks\":\"\",\"zerolinecolor\":\"white\",\"gridwidth\":2},\"zaxis\":{\"backgroundcolor\":\"#E5ECF6\",\"gridcolor\":\"white\",\"linecolor\":\"white\",\"showbackground\":true,\"ticks\":\"\",\"zerolinecolor\":\"white\",\"gridwidth\":2}},\"shapedefaults\":{\"line\":{\"color\":\"#2a3f5f\"}},\"annotationdefaults\":{\"arrowcolor\":\"#2a3f5f\",\"arrowhead\":0,\"arrowwidth\":1},\"geo\":{\"bgcolor\":\"white\",\"landcolor\":\"#E5ECF6\",\"subunitcolor\":\"white\",\"showland\":true,\"showlakes\":true,\"lakecolor\":\"white\"},\"title\":{\"x\":0.05},\"mapbox\":{\"style\":\"light\"}}},\"xaxis\":{\"anchor\":\"y\",\"domain\":[0.0,1.0],\"title\":{\"text\":\"Semi-major axis of the Planet's orbit\"}},\"yaxis\":{\"anchor\":\"x\",\"domain\":[0.0,1.0],\"title\":{\"text\":\"count\"}},\"legend\":{\"tracegroupgap\":0},\"title\":{\"text\":\"Distance each planet has from its respective star\"},\"barmode\":\"relative\",\"margin\":{\"l\":50,\"r\":50,\"t\":50,\"b\":50},\"bargap\":0.05,\"bargroupgap\":0.5,\"showlegend\":false},                        {\"responsive\": true}                    ).then(function(){\n",
              "                            \n",
              "var gd = document.getElementById('cfb0f8c9-0971-4177-81d0-1909a885a167');\n",
              "var x = new MutationObserver(function (mutations, observer) {{\n",
              "        var display = window.getComputedStyle(gd).display;\n",
              "        if (!display || display === 'none') {{\n",
              "            console.log([gd, 'removed!']);\n",
              "            Plotly.purge(gd);\n",
              "            observer.disconnect();\n",
              "        }}\n",
              "}});\n",
              "\n",
              "// Listen for the removal of the full notebook cells\n",
              "var notebookContainer = gd.closest('#notebook-container');\n",
              "if (notebookContainer) {{\n",
              "    x.observe(notebookContainer, {childList: true});\n",
              "}}\n",
              "\n",
              "// Listen for the clearing of the current output cell\n",
              "var outputEl = gd.closest('.output');\n",
              "if (outputEl) {{\n",
              "    x.observe(outputEl, {childList: true});\n",
              "}}\n",
              "\n",
              "                        })                };                            </script>        </div>\n",
              "</body>\n",
              "</html>"
            ]
          },
          "metadata": {}
        }
      ]
    },
    {
      "cell_type": "markdown",
      "source": [
        "Now, let's decide what we want to use as 'features' for our model. We will use the columns from the DF that were used in the charts above as our features."
      ],
      "metadata": {
        "id": "jPNHH0yydBKO"
      }
    },
    {
      "cell_type": "code",
      "source": [
        "features = ['pl_rade','pl_bmasse','pl_eqt','pl_insol','sy_snum','pl_orbsmax','sy_pnum']"
      ],
      "metadata": {
        "id": "lmNr_mOQdKmD"
      },
      "execution_count": 175,
      "outputs": []
    },
    {
      "cell_type": "markdown",
      "source": [
        "# Data Manipulation"
      ],
      "metadata": {
        "id": "lwJLMeTBM-Vk"
      }
    },
    {
      "cell_type": "markdown",
      "source": [
        "We need to split the dataset so candidates are in their own Dataframe"
      ],
      "metadata": {
        "id": "idMeL0MKlE6w"
      }
    },
    {
      "cell_type": "code",
      "source": [
        "candidate_df = df[df['disposition'] == 'CANDIDATE']\n",
        "not_candidate_df = df[df['disposition'] != 'CANDIDATE']"
      ],
      "metadata": {
        "id": "yZQOCwY8lM2F"
      },
      "execution_count": 185,
      "outputs": []
    },
    {
      "cell_type": "markdown",
      "source": [
        "Next, we need to transform the target variable ('Disposition') from an object type to an integer type to ensure accurate predictions by the model."
      ],
      "metadata": {
        "id": "Ae_fbGjgY5CR"
      }
    },
    {
      "cell_type": "code",
      "source": [
        "# Replace 'FALSE POSITIVE' with 0 and 'CONFIRMED' with 1 in the 'disposition' column\n",
        "not_candidate_df['disposition'].replace({'FALSE POSITIVE': 0, 'CONFIRMED': 1}, inplace=True)\n",
        "\n",
        "# Display the first few rows of the 'disposition' column after replacement\n",
        "not_candidate_df['disposition'].head()\n",
        "\n",
        "# Check if all values in the 'disposition' column are unique\n",
        "not_candidate_df['disposition'].unique()"
      ],
      "metadata": {
        "colab": {
          "base_uri": "https://localhost:8080/"
        },
        "id": "5HTMfJyCamJE",
        "outputId": "00e9c928-8860-4fc6-a994-7a7f3e8e5021"
      },
      "execution_count": 187,
      "outputs": [
        {
          "output_type": "stream",
          "name": "stderr",
          "text": [
            "<ipython-input-187-6d279d70d926>:2: SettingWithCopyWarning:\n",
            "\n",
            "\n",
            "A value is trying to be set on a copy of a slice from a DataFrame\n",
            "\n",
            "See the caveats in the documentation: https://pandas.pydata.org/pandas-docs/stable/user_guide/indexing.html#returning-a-view-versus-a-copy\n",
            "\n"
          ]
        },
        {
          "output_type": "execute_result",
          "data": {
            "text/plain": [
              "array([1, 0])"
            ]
          },
          "metadata": {},
          "execution_count": 187
        }
      ]
    },
    {
      "cell_type": "markdown",
      "source": [
        "This will create a balanced dataset where both classes have an equal number of samples."
      ],
      "metadata": {
        "id": "ZFr0_9wrqvBZ"
      }
    },
    {
      "cell_type": "code",
      "source": [
        "from sklearn.utils import resample\n",
        "\n",
        "# Separate majority and minority classes\n",
        "confirmed_samples = not_candidate_df[not_candidate_df['disposition'] == 1]\n",
        "false_positive_samples = not_candidate_df[not_candidate_df['disposition'] == 0]\n",
        "\n",
        "# Upsample minority class\n",
        "false_positive_upsampled = resample(false_positive_samples,\n",
        "                                    replace=True,  # sample with replacement\n",
        "                                    n_samples=len(confirmed_samples),  # match number of 'CONFIRMED' samples\n",
        "                                    random_state=42)  # reproducible results\n",
        "\n",
        "# Combine majority class with upsampled minority class\n",
        "balanced_df = pd.concat([confirmed_samples, false_positive_upsampled])\n",
        "\n",
        "# Check the class distribution\n",
        "print(balanced_df['disposition'].value_counts())\n"
      ],
      "metadata": {
        "colab": {
          "base_uri": "https://localhost:8080/"
        },
        "id": "yMJ36sSMquth",
        "outputId": "91b82724-8568-4dc8-f877-fc04322748e8"
      },
      "execution_count": 207,
      "outputs": [
        {
          "output_type": "stream",
          "name": "stdout",
          "text": [
            "1    2093\n",
            "0    2093\n",
            "Name: disposition, dtype: int64\n"
          ]
        }
      ]
    },
    {
      "cell_type": "markdown",
      "source": [
        "# The Model"
      ],
      "metadata": {
        "id": "vmZ0EqADcXsQ"
      }
    },
    {
      "cell_type": "markdown",
      "source": [
        "We will be using XGBoost for our algorithm. The reason being, XGBoost is great at handling missing values, and our dataset has a LOT of missing values."
      ],
      "metadata": {
        "id": "0SUF50O6eXhs"
      }
    },
    {
      "cell_type": "code",
      "source": [
        "from sklearn.model_selection import train_test_split\n",
        "\n",
        "# 1. Split the dataset into features (X) and the target variable (y)\n",
        "X = balanced_df[features]\n",
        "y = balanced_df['disposition']\n",
        "\n",
        "# 2. Split the data into training and testing sets (e.g., 80% training, 20% testing)\n",
        "X_train, X_test, y_train, y_test = train_test_split(X, y, test_size=0.2, random_state=42)"
      ],
      "metadata": {
        "id": "h19YdF_zcbDy"
      },
      "execution_count": 208,
      "outputs": []
    },
    {
      "cell_type": "markdown",
      "source": [
        "We split the data 80/20, so we can train the model with 80% of the dataset, and saving 20% to actually test our model on. X is our features (what the model will use to make predictions) and y is our target (what we are trying to figure out)"
      ],
      "metadata": {
        "id": "80P5B5LbeCUX"
      }
    },
    {
      "cell_type": "markdown",
      "source": [
        "#### Hyperparameters"
      ],
      "metadata": {
        "id": "6t5brxNVe7eH"
      }
    },
    {
      "cell_type": "markdown",
      "source": [
        "We will use a random grid search to find the best parameters for the model"
      ],
      "metadata": {
        "id": "uOCSXZIEfJhn"
      }
    },
    {
      "cell_type": "code",
      "source": [
        "from sklearn.model_selection import RandomizedSearchCV\n",
        "from xgboost import XGBClassifier\n",
        "import numpy as np\n",
        "\n",
        "param_grid_1 = {\n",
        "    'n_estimators': [100, 200, 300],\n",
        "    'max_depth': [3, 4, 5],\n",
        "    'learning_rate': np.arange(0.01, 0.2, 0.01),\n",
        "    'subsample': np.arange(0.5, 1, 0.1),\n",
        "    'colsample_bytree': np.arange(0.5, 1, 0.1)\n",
        "}\n",
        "# Output: Best Parameters: {'subsample': 0.7, 'n_estimators': 200, 'max_depth': 5, 'learning_rate': 0.11, 'colsample_bytree': 0.8999999999999999}\n",
        "# Best Score: 1.0"
      ],
      "metadata": {
        "id": "0Riwg3aBfDrk"
      },
      "execution_count": 209,
      "outputs": []
    },
    {
      "cell_type": "code",
      "source": [
        "model = XGBClassifier() # Initialize XGBClassifier model\n",
        "\n",
        "# Initialize RandomizedSearchCV\n",
        "random_search = RandomizedSearchCV(estimator=model, param_distributions=param_grid_1,\n",
        "                                   n_iter=50, scoring='accuracy', cv=5, verbose=1,\n",
        "                                   random_state=42, n_jobs=-1)\n",
        "\n",
        "random_search.fit(X_train, y_train) # Perform random grid search\n",
        "\n",
        "# Get the best parameters and score\n",
        "best_params = random_search.best_params_\n",
        "best_score = random_search.best_score_\n",
        "\n",
        "# Print the best parameters and score\n",
        "print(\"Best Parameters:\", best_params)\n",
        "print(\"Best Score:\", best_score)"
      ],
      "metadata": {
        "colab": {
          "base_uri": "https://localhost:8080/"
        },
        "id": "DwtN9O2IfoGf",
        "outputId": "f33226fc-c62b-4c3d-8d83-3a91cce6683d"
      },
      "execution_count": 210,
      "outputs": [
        {
          "output_type": "stream",
          "name": "stdout",
          "text": [
            "Fitting 5 folds for each of 50 candidates, totalling 250 fits\n",
            "Best Parameters: {'subsample': 0.7, 'n_estimators': 200, 'max_depth': 5, 'learning_rate': 0.11, 'colsample_bytree': 0.8999999999999999}\n",
            "Best Score: 1.0\n"
          ]
        }
      ]
    },
    {
      "cell_type": "markdown",
      "source": [
        "#### Fit the Model"
      ],
      "metadata": {
        "id": "fDYPcmdIfEtk"
      }
    },
    {
      "cell_type": "code",
      "source": [
        "from sklearn.metrics import classification_report\n",
        "\n",
        "best_params = random_search.best_params_ # Get the best parameters\n",
        "\n",
        "best_model = XGBClassifier(**best_params) # Initialize XGBClassifier model with the best parameters\n",
        "\n",
        "best_model.fit(X_train, y_train) # Fit the best model to the training data\n",
        "\n",
        "y_pred = best_model.predict(X_test) # Predict labels for the testing set\n",
        "\n",
        "report = classification_report(y_test, y_pred)# Calculate evaluation metrics\n",
        "\n",
        "# Print the evaluation report\n",
        "print(\"Classification Report:\")\n",
        "print(report)\n",
        "y_pred"
      ],
      "metadata": {
        "colab": {
          "base_uri": "https://localhost:8080/"
        },
        "id": "jGAi6-sRg4EZ",
        "outputId": "1aa34062-29a8-468b-b6b9-25865b406446"
      },
      "execution_count": 211,
      "outputs": [
        {
          "output_type": "stream",
          "name": "stdout",
          "text": [
            "Classification Report:\n",
            "              precision    recall  f1-score   support\n",
            "\n",
            "           0       1.00      1.00      1.00       383\n",
            "           1       1.00      1.00      1.00       455\n",
            "\n",
            "    accuracy                           1.00       838\n",
            "   macro avg       1.00      1.00      1.00       838\n",
            "weighted avg       1.00      1.00      1.00       838\n",
            "\n"
          ]
        },
        {
          "output_type": "execute_result",
          "data": {
            "text/plain": [
              "array([1, 0, 1, 1, 1, 1, 0, 1, 1, 1, 0, 1, 1, 0, 1, 1, 1, 1, 1, 1, 0, 0,\n",
              "       0, 0, 1, 1, 0, 1, 1, 0, 0, 0, 0, 1, 0, 1, 1, 0, 0, 0, 1, 1, 0, 0,\n",
              "       0, 1, 1, 0, 0, 1, 1, 0, 0, 1, 1, 1, 0, 0, 1, 0, 1, 0, 0, 0, 0, 0,\n",
              "       1, 1, 1, 1, 1, 1, 1, 0, 1, 0, 0, 0, 0, 1, 1, 0, 1, 1, 0, 1, 1, 0,\n",
              "       0, 1, 1, 1, 1, 0, 1, 1, 1, 0, 0, 0, 0, 1, 1, 1, 0, 1, 1, 1, 1, 0,\n",
              "       0, 0, 0, 0, 1, 0, 0, 1, 0, 1, 1, 1, 1, 1, 1, 0, 1, 0, 0, 1, 0, 0,\n",
              "       0, 1, 1, 1, 0, 0, 0, 1, 1, 0, 1, 0, 0, 1, 0, 0, 0, 0, 1, 1, 1, 0,\n",
              "       1, 0, 1, 1, 1, 1, 1, 0, 1, 1, 1, 0, 1, 1, 1, 1, 0, 1, 0, 0, 1, 1,\n",
              "       1, 1, 1, 0, 0, 1, 1, 1, 1, 0, 0, 1, 1, 1, 0, 0, 0, 1, 0, 1, 1, 1,\n",
              "       0, 1, 1, 0, 0, 1, 0, 1, 0, 0, 1, 0, 1, 1, 0, 0, 0, 0, 0, 0, 0, 1,\n",
              "       1, 0, 0, 1, 1, 0, 0, 1, 1, 0, 1, 1, 1, 0, 0, 0, 1, 1, 0, 1, 0, 0,\n",
              "       1, 1, 0, 0, 1, 1, 1, 0, 0, 0, 1, 0, 0, 1, 1, 1, 0, 0, 1, 1, 1, 1,\n",
              "       1, 1, 0, 1, 0, 0, 1, 0, 0, 1, 0, 1, 1, 1, 1, 1, 1, 1, 1, 1, 0, 1,\n",
              "       1, 0, 0, 1, 0, 1, 0, 1, 1, 1, 1, 1, 0, 1, 0, 1, 1, 0, 1, 1, 1, 0,\n",
              "       1, 0, 0, 0, 0, 0, 0, 0, 1, 0, 1, 1, 0, 0, 1, 1, 1, 1, 1, 0, 0, 1,\n",
              "       0, 1, 0, 1, 0, 0, 1, 0, 1, 1, 1, 0, 1, 1, 1, 0, 0, 1, 1, 0, 0, 1,\n",
              "       1, 1, 0, 1, 1, 1, 0, 0, 0, 0, 0, 0, 0, 0, 0, 0, 0, 1, 0, 1, 1, 0,\n",
              "       0, 0, 0, 0, 1, 0, 1, 1, 1, 0, 1, 0, 1, 1, 0, 1, 0, 0, 1, 1, 1, 0,\n",
              "       0, 1, 1, 0, 1, 0, 1, 1, 1, 1, 1, 0, 1, 1, 1, 0, 1, 1, 0, 1, 0, 1,\n",
              "       1, 1, 1, 0, 0, 1, 0, 0, 0, 1, 1, 0, 0, 1, 1, 0, 0, 1, 0, 1, 0, 1,\n",
              "       0, 1, 1, 0, 1, 0, 0, 1, 1, 1, 1, 0, 0, 0, 1, 0, 1, 1, 0, 1, 0, 1,\n",
              "       0, 1, 0, 1, 0, 0, 1, 0, 0, 1, 1, 1, 1, 0, 1, 0, 1, 0, 1, 0, 1, 1,\n",
              "       1, 1, 0, 0, 1, 0, 0, 0, 1, 1, 0, 1, 0, 1, 1, 1, 0, 1, 1, 0, 0, 0,\n",
              "       0, 1, 1, 0, 1, 0, 0, 1, 1, 1, 0, 0, 1, 1, 1, 0, 0, 0, 1, 0, 1, 1,\n",
              "       0, 0, 0, 1, 1, 0, 0, 1, 1, 0, 1, 1, 0, 1, 0, 0, 1, 0, 1, 1, 0, 0,\n",
              "       1, 1, 0, 0, 0, 1, 1, 1, 0, 0, 1, 0, 1, 0, 1, 0, 1, 1, 1, 1, 1, 1,\n",
              "       1, 0, 1, 1, 0, 0, 0, 1, 0, 1, 1, 1, 0, 0, 1, 1, 0, 1, 1, 1, 0, 1,\n",
              "       0, 0, 0, 0, 1, 0, 0, 1, 0, 1, 1, 1, 1, 0, 0, 1, 0, 0, 0, 0, 0, 1,\n",
              "       0, 0, 1, 1, 0, 1, 0, 1, 1, 0, 0, 0, 1, 0, 1, 1, 1, 1, 1, 1, 1, 1,\n",
              "       0, 0, 1, 0, 0, 0, 0, 1, 0, 0, 1, 0, 0, 0, 1, 1, 1, 1, 0, 1, 1, 1,\n",
              "       0, 0, 0, 0, 1, 0, 1, 0, 1, 1, 0, 0, 0, 1, 1, 1, 1, 1, 1, 1, 1, 1,\n",
              "       0, 1, 0, 1, 1, 1, 1, 1, 1, 0, 0, 1, 1, 0, 0, 0, 1, 0, 1, 1, 1, 0,\n",
              "       0, 1, 1, 1, 1, 1, 1, 0, 1, 1, 1, 0, 1, 0, 1, 0, 0, 1, 0, 1, 1, 0,\n",
              "       1, 1, 1, 0, 0, 1, 0, 1, 1, 0, 1, 0, 0, 0, 0, 0, 0, 1, 1, 1, 1, 0,\n",
              "       0, 1, 0, 0, 0, 1, 0, 0, 1, 1, 1, 1, 1, 1, 0, 1, 1, 0, 0, 1, 1, 0,\n",
              "       1, 0, 0, 0, 1, 1, 1, 1, 0, 1, 0, 1, 0, 0, 1, 1, 1, 0, 1, 1, 0, 1,\n",
              "       1, 1, 1, 1, 0, 1, 0, 0, 0, 0, 0, 0, 0, 1, 1, 1, 1, 1, 1, 0, 1, 1,\n",
              "       0, 1, 1, 0, 0, 0, 1, 0, 1, 0, 0, 1, 1, 1, 0, 0, 0, 0, 0, 1, 1, 1,\n",
              "       0, 0])"
            ]
          },
          "metadata": {},
          "execution_count": 211
        }
      ]
    },
    {
      "cell_type": "markdown",
      "source": [
        "Lastly, lets create a confusion matrix to see how our model did"
      ],
      "metadata": {
        "id": "ogmUVlwhew3R"
      }
    },
    {
      "cell_type": "code",
      "source": [
        "from sklearn.metrics import confusion_matrix\n",
        "\n",
        "y_pred = best_model.predict(X_test)\n",
        "conf_matrix = confusion_matrix(y_test, y_pred)\n",
        "print(\"Confusion Matrix:\")\n",
        "print(conf_matrix)\n"
      ],
      "metadata": {
        "colab": {
          "base_uri": "https://localhost:8080/"
        },
        "id": "bUXNGV-2eowN",
        "outputId": "c225262b-a42f-4ff4-c675-60fe8a9965c4"
      },
      "execution_count": 212,
      "outputs": [
        {
          "output_type": "stream",
          "name": "stdout",
          "text": [
            "Confusion Matrix:\n",
            "[[383   0]\n",
            " [  0 455]]\n"
          ]
        }
      ]
    },
    {
      "cell_type": "code",
      "source": [
        "import matplotlib.pyplot as plt\n",
        "import seaborn as sns\n",
        "\n",
        "plt.figure(figsize=(6, 4))\n",
        "sns.heatmap(conf_matrix, annot=True, fmt=\"d\", cmap=\"Blues\")\n",
        "plt.xlabel(\"Predicted Label\")\n",
        "plt.ylabel(\"True Label\")\n",
        "plt.title(\"Confusion Matrix\")\n",
        "plt.show()\n"
      ],
      "metadata": {
        "colab": {
          "base_uri": "https://localhost:8080/",
          "height": 410
        },
        "id": "I4ihQEvcgkeW",
        "outputId": "c5a1d76b-c845-41a6-b5ab-32fea6fc7999"
      },
      "execution_count": 213,
      "outputs": [
        {
          "output_type": "display_data",
          "data": {
            "text/plain": [
              "<Figure size 600x400 with 2 Axes>"
            ],
            "image/png": "[encoded data removed]"
          },
          "metadata": {}
        }
      ]
    },
    {
      "cell_type": "markdown",
      "source": [
        "# Test the model and see what it's guesses are for the Candidates"
      ],
      "metadata": {
        "id": "UVpwzfdAiUVK"
      }
    },
    {
      "cell_type": "code",
      "source": [
        "# Predict labels for the features in candidate_df\n",
        "y_pred = best_model.predict(candidate_df[features])\n",
        "\n",
        "# Count the occurrences of '1' and '0' labels in y_pred\n",
        "yes_count = sum(y_pred == 1)\n",
        "no_count = sum(y_pred == 0)\n",
        "\n",
        "# Print the counts\n",
        "print(\"Number of candidates the model believes are exoplanets:\", yes_count)\n",
        "print(\"Number of candidates the model believes are not exoplanets:\", no_count)\n"
      ],
      "metadata": {
        "colab": {
          "base_uri": "https://localhost:8080/"
        },
        "id": "gOydhSmRnx-8",
        "outputId": "cb298186-f386-4e8b-b48e-99bee0258a1d"
      },
      "execution_count": 215,
      "outputs": [
        {
          "output_type": "stream",
          "name": "stdout",
          "text": [
            "Number of candidates the model believes are exoplanets: 40\n",
            "Number of candidates the model believes are not exoplanets: 1330\n"
          ]
        }
      ]
    },
    {
      "cell_type": "code",
      "source": [
        "candidate_ids = candidate_df['pl_name'].values\n",
        "yes_candidate_ids = candidate_ids[y_pred == 1]\n",
        "\n",
        "print(\"IDs of candidates the model believes are exoplanets:\")\n",
        "print(yes_candidate_ids)"
      ],
      "metadata": {
        "colab": {
          "base_uri": "https://localhost:8080/"
        },
        "id": "Q05Lr0fcr-QM",
        "outputId": "30898f25-98fc-4620-866d-8345e5c2a8a4"
      },
      "execution_count": 216,
      "outputs": [
        {
          "output_type": "stream",
          "name": "stdout",
          "text": [
            "IDs of candidates the model believes are exoplanets:\n",
            "['EPIC 201238110.01' 'EPIC 201238110.01' 'EPIC 201497682.01'\n",
            " 'EPIC 201497682.01' 'EPIC 201497682.02' 'EPIC 201497682.02'\n",
            " 'EPIC 201497682.04' 'EPIC 201841433.01' 'EPIC 201841433.01'\n",
            " 'EPIC 206032309.01' 'EPIC 206215704.01' 'EPIC 206215704.01'\n",
            " 'EPIC 212424622.01' 'EPIC 212424622.01' 'EPIC 212499991.01'\n",
            " 'EPIC 212499991.01' 'EPIC 210965800.02' 'EPIC 210965800.03'\n",
            " 'EPIC 210965800.04' 'EPIC 210965800.05' 'EPIC 210965800.06'\n",
            " 'EPIC 212555594.02' 'EPIC 220170303.02' 'EPIC 220256496.02' 'K2-229 d'\n",
            " 'EPIC 203771098.03' 'EPIC 201166680.01' 'EPIC 212008766.02'\n",
            " 'EPIC 201663879.02' 'EPIC 211897691.01' 'EPIC 211897691.01'\n",
            " 'EPIC 211897691.01' 'EPIC 211537087.02' 'EPIC 211537087.03'\n",
            " 'EPIC 211914998.02' 'EPIC 204750116.02' 'EPIC 206135682.04'\n",
            " 'EPIC 214173069.02' 'EPIC 206159027.02' 'EPIC 210508766.03']\n"
          ]
        }
      ]
    },
    {
      "cell_type": "code",
      "source": [
        "# Create a histogram of the radii of exoplanet candidates predicted as exoplanets\n",
        "fig = px.histogram(candidate_df[candidate_df['pl_name'].isin(yes_candidate_ids)], x='pl_rade',\n",
        "                   title=\"Distribution of Planet Radius for Exoplanet Candidates Predicted as Exoplanets\",\n",
        "                   labels={'pl_rade': 'Planet Radius (Earth Radius)', 'count': 'Frequency'},\n",
        "                   height=400, width=600)\n",
        "fig.update_layout(bargap=0.05,\n",
        "                  showlegend=False,\n",
        "                  margin=dict(l=50, r=50, t=50, b=50))\n",
        "fig.show()\n",
        "\n",
        "# Create a histogram of the masses of exoplanet candidates predicted as exoplanets\n",
        "fig = px.histogram(candidate_df[candidate_df['pl_name'].isin(yes_candidate_ids)], x='pl_bmasse', title=\"Distribution of Planet Mass for Exoplanet Candidates Predicted as Exoplanets\",\n",
        "                   labels={'pl_bmasse': 'Planet Mass (Earth Mass)'})\n",
        "fig.update_layout(bargap=0.05,\n",
        "                  bargroupgap=0.1,\n",
        "                  showlegend=False,\n",
        "                  margin=dict(l=50, r=50, t=50, b=50))\n",
        "fig.show()\n",
        "\n",
        "# Create a histogram of the equilibrium temperatures of exoplanet candidates predicted as exoplanets\n",
        "fig = px.histogram(candidate_df[candidate_df['pl_name'].isin(yes_candidate_ids)], x='pl_eqt', title=\"Distribution of Equilibrium Temperature for Exoplanet Candidates Predicted as Exoplanets\",\n",
        "                   labels={'pl_eqt': 'Equilibrium Temperature [K]'})\n",
        "fig.update_layout(bargap=0.05,\n",
        "                  bargroupgap=0.1,\n",
        "                  showlegend=False,\n",
        "                  margin=dict(l=50, r=50, t=50, b=50))\n",
        "fig.show()\n",
        "\n",
        "# Create a histogram of the insolation fluxes of exoplanet candidates predicted as exoplanets\n",
        "fig = px.histogram(candidate_df[candidate_df['pl_name'].isin(yes_candidate_ids)], x='pl_insol', title=\"Distribution of Insolation Flux for Exoplanet Candidates Predicted as Exoplanets\",\n",
        "                   labels={'pl_insol': 'Insolation Flux [Earth Flux]'})\n",
        "fig.update_layout(bargap=0.05,\n",
        "                  bargroupgap=0.1,\n",
        "                  showlegend=False,\n",
        "                  margin=dict(l=50, r=50, t=50, b=50))\n",
        "fig.show()\n",
        "\n",
        "# Create a histogram of the number of stars in systems with exoplanet candidates predicted as exoplanets\n",
        "fig = px.histogram(candidate_df[candidate_df['pl_name'].isin(yes_candidate_ids)], x='sy_snum',\n",
        "                   title=\"Number of Stars in a System with an Exoplanet Candidate Predicted as an Exoplanet\",\n",
        "                   labels={'sy_snum': 'Number of Stars', 'count': 'Frequency'})\n",
        "fig.update_layout(bargap=0.05,\n",
        "                  bargroupgap=0.7,\n",
        "                  showlegend=False,\n",
        "                  margin=dict(l=50, r=50, t=50, b=50))\n",
        "fig.show()\n",
        "\n",
        "# Create a histogram of the distances of exoplanet candidates predicted as exoplanets from their respective stars\n",
        "fig = px.histogram(candidate_df[candidate_df['pl_name'].isin(yes_candidate_ids)], x='pl_orbsmax', title=\"Distance each Exoplanet Candidate Predicted as an Exoplanet has from its respective star\",\n",
        "                   labels={'pl_orbsmax': 'Semi-major axis of the Planet\\'s orbit'})\n",
        "fig.update_layout(bargap=0.05,\n",
        "                  bargroupgap=0.5,\n",
        "                  showlegend=False,\n",
        "                  margin=dict(l=50, r=50, t=50, b=50))\n",
        "fig.show()\n"
      ],
      "metadata": {
        "colab": {
          "base_uri": "https://localhost:8080/",
          "height": 1000
        },
        "id": "w337SyATsJzC",
        "outputId": "9eb6a987-0d54-4130-b10f-dd1129c9d682"
      },
      "execution_count": 217,
      "outputs": [
        {
          "output_type": "display_data",
          "data": {
            "text/html": [
              "<html>\n",
              "<head><meta charset=\"utf-8\" /></head>\n",
              "<body>\n",
              "    <div>            <script src=\"https://cdnjs.cloudflare.com/ajax/libs/mathjax/2.7.5/MathJax.js?config=TeX-AMS-MML_SVG\"></script><script type=\"text/javascript\">if (window.MathJax && window.MathJax.Hub && window.MathJax.Hub.Config) {window.MathJax.Hub.Config({SVG: {font: \"STIX-Web\"}});}</script>                <script type=\"text/javascript\">window.PlotlyConfig = {MathJaxConfig: 'local'};</script>\n",
              "        <script charset=\"utf-8\" src=\"https://cdn.plot.ly/plotly-2.24.1.min.js\"></script>                <div id=\"6847386e-c1da-4c8b-a3c5-01ee4c31269f\" class=\"plotly-graph-div\" style=\"height:400px; width:600px;\"></div>            <script type=\"text/javascript\">                                    window.PLOTLYENV=window.PLOTLYENV || {};                                    if (document.getElementById(\"6847386e-c1da-4c8b-a3c5-01ee4c31269f\")) {                    Plotly.newPlot(                        \"6847386e-c1da-4c8b-a3c5-01ee4c31269f\",                        [{\"alignmentgroup\":\"True\",\"bingroup\":\"x\",\"hovertemplate\":\"Planet Radius (Earth Radius)=%{x}\\u003cbr\\u003ecount=%{y}\\u003cextra\\u003e\\u003c\\u002fextra\\u003e\",\"legendgroup\":\"\",\"marker\":{\"color\":\"#636efa\",\"pattern\":{\"shape\":\"\"}},\"name\":\"\",\"offsetgroup\":\"\",\"orientation\":\"v\",\"showlegend\":false,\"x\":[3.02,2.06,1.96,1.29,1.57,1.37,1.06,2.59,2.11,1.01,1.59,2.52,2.81,null,null,2.41,2.27,2.62,2.95,2.33,1.46,1.5,1.18,1.47,2.65,7.51,2.1,4.34,1.89,null,2.93,2.01,2.58,2.28,2.33,1.46,1.42,1.4,1.47,1.56],\"xaxis\":\"x\",\"yaxis\":\"y\",\"type\":\"histogram\"}],                        {\"template\":{\"data\":{\"histogram2dcontour\":[{\"type\":\"histogram2dcontour\",\"colorbar\":{\"outlinewidth\":0,\"ticks\":\"\"},\"colorscale\":[[0.0,\"#0d0887\"],[0.1111111111111111,\"#46039f\"],[0.2222222222222222,\"#7201a8\"],[0.3333333333333333,\"#9c179e\"],[0.4444444444444444,\"#bd3786\"],[0.5555555555555556,\"#d8576b\"],[0.6666666666666666,\"#ed7953\"],[0.7777777777777778,\"#fb9f3a\"],[0.8888888888888888,\"#fdca26\"],[1.0,\"#f0f921\"]]}],\"choropleth\":[{\"type\":\"choropleth\",\"colorbar\":{\"outlinewidth\":0,\"ticks\":\"\"}}],\"histogram2d\":[{\"type\":\"histogram2d\",\"colorbar\":{\"outlinewidth\":0,\"ticks\":\"\"},\"colorscale\":[[0.0,\"#0d0887\"],[0.1111111111111111,\"#46039f\"],[0.2222222222222222,\"#7201a8\"],[0.3333333333333333,\"#9c179e\"],[0.4444444444444444,\"#bd3786\"],[0.5555555555555556,\"#d8576b\"],[0.6666666666666666,\"#ed7953\"],[0.7777777777777778,\"#fb9f3a\"],[0.8888888888888888,\"#fdca26\"],[1.0,\"#f0f921\"]]}],\"heatmap\":[{\"type\":\"heatmap\",\"colorbar\":{\"outlinewidth\":0,\"ticks\":\"\"},\"colorscale\":[[0.0,\"#0d0887\"],[0.1111111111111111,\"#46039f\"],[0.2222222222222222,\"#7201a8\"],[0.3333333333333333,\"#9c179e\"],[0.4444444444444444,\"#bd3786\"],[0.5555555555555556,\"#d8576b\"],[0.6666666666666666,\"#ed7953\"],[0.7777777777777778,\"#fb9f3a\"],[0.8888888888888888,\"#fdca26\"],[1.0,\"#f0f921\"]]}],\"heatmapgl\":[{\"type\":\"heatmapgl\",\"colorbar\":{\"outlinewidth\":0,\"ticks\":\"\"},\"colorscale\":[[0.0,\"#0d0887\"],[0.1111111111111111,\"#46039f\"],[0.2222222222222222,\"#7201a8\"],[0.3333333333333333,\"#9c179e\"],[0.4444444444444444,\"#bd3786\"],[0.5555555555555556,\"#d8576b\"],[0.6666666666666666,\"#ed7953\"],[0.7777777777777778,\"#fb9f3a\"],[0.8888888888888888,\"#fdca26\"],[1.0,\"#f0f921\"]]}],\"contourcarpet\":[{\"type\":\"contourcarpet\",\"colorbar\":{\"outlinewidth\":0,\"ticks\":\"\"}}],\"contour\":[{\"type\":\"contour\",\"colorbar\":{\"outlinewidth\":0,\"ticks\":\"\"},\"colorscale\":[[0.0,\"#0d0887\"],[0.1111111111111111,\"#46039f\"],[0.2222222222222222,\"#7201a8\"],[0.3333333333333333,\"#9c179e\"],[0.4444444444444444,\"#bd3786\"],[0.5555555555555556,\"#d8576b\"],[0.6666666666666666,\"#ed7953\"],[0.7777777777777778,\"#fb9f3a\"],[0.8888888888888888,\"#fdca26\"],[1.0,\"#f0f921\"]]}],\"surface\":[{\"type\":\"surface\",\"colorbar\":{\"outlinewidth\":0,\"ticks\":\"\"},\"colorscale\":[[0.0,\"#0d0887\"],[0.1111111111111111,\"#46039f\"],[0.2222222222222222,\"#7201a8\"],[0.3333333333333333,\"#9c179e\"],[0.4444444444444444,\"#bd3786\"],[0.5555555555555556,\"#d8576b\"],[0.6666666666666666,\"#ed7953\"],[0.7777777777777778,\"#fb9f3a\"],[0.8888888888888888,\"#fdca26\"],[1.0,\"#f0f921\"]]}],\"mesh3d\":[{\"type\":\"mesh3d\",\"colorbar\":{\"outlinewidth\":0,\"ticks\":\"\"}}],\"scatter\":[{\"fillpattern\":{\"fillmode\":\"overlay\",\"size\":10,\"solidity\":0.2},\"type\":\"scatter\"}],\"parcoords\":[{\"type\":\"parcoords\",\"line\":{\"colorbar\":{\"outlinewidth\":0,\"ticks\":\"\"}}}],\"scatterpolargl\":[{\"type\":\"scatterpolargl\",\"marker\":{\"colorbar\":{\"outlinewidth\":0,\"ticks\":\"\"}}}],\"bar\":[{\"error_x\":{\"color\":\"#2a3f5f\"},\"error_y\":{\"color\":\"#2a3f5f\"},\"marker\":{\"line\":{\"color\":\"#E5ECF6\",\"width\":0.5},\"pattern\":{\"fillmode\":\"overlay\",\"size\":10,\"solidity\":0.2}},\"type\":\"bar\"}],\"scattergeo\":[{\"type\":\"scattergeo\",\"marker\":{\"colorbar\":{\"outlinewidth\":0,\"ticks\":\"\"}}}],\"scatterpolar\":[{\"type\":\"scatterpolar\",\"marker\":{\"colorbar\":{\"outlinewidth\":0,\"ticks\":\"\"}}}],\"histogram\":[{\"marker\":{\"pattern\":{\"fillmode\":\"overlay\",\"size\":10,\"solidity\":0.2}},\"type\":\"histogram\"}],\"scattergl\":[{\"type\":\"scattergl\",\"marker\":{\"colorbar\":{\"outlinewidth\":0,\"ticks\":\"\"}}}],\"scatter3d\":[{\"type\":\"scatter3d\",\"line\":{\"colorbar\":{\"outlinewidth\":0,\"ticks\":\"\"}},\"marker\":{\"colorbar\":{\"outlinewidth\":0,\"ticks\":\"\"}}}],\"scattermapbox\":[{\"type\":\"scattermapbox\",\"marker\":{\"colorbar\":{\"outlinewidth\":0,\"ticks\":\"\"}}}],\"scatterternary\":[{\"type\":\"scatterternary\",\"marker\":{\"colorbar\":{\"outlinewidth\":0,\"ticks\":\"\"}}}],\"scattercarpet\":[{\"type\":\"scattercarpet\",\"marker\":{\"colorbar\":{\"outlinewidth\":0,\"ticks\":\"\"}}}],\"carpet\":[{\"aaxis\":{\"endlinecolor\":\"#2a3f5f\",\"gridcolor\":\"white\",\"linecolor\":\"white\",\"minorgridcolor\":\"white\",\"startlinecolor\":\"#2a3f5f\"},\"baxis\":{\"endlinecolor\":\"#2a3f5f\",\"gridcolor\":\"white\",\"linecolor\":\"white\",\"minorgridcolor\":\"white\",\"startlinecolor\":\"#2a3f5f\"},\"type\":\"carpet\"}],\"table\":[{\"cells\":{\"fill\":{\"color\":\"#EBF0F8\"},\"line\":{\"color\":\"white\"}},\"header\":{\"fill\":{\"color\":\"#C8D4E3\"},\"line\":{\"color\":\"white\"}},\"type\":\"table\"}],\"barpolar\":[{\"marker\":{\"line\":{\"color\":\"#E5ECF6\",\"width\":0.5},\"pattern\":{\"fillmode\":\"overlay\",\"size\":10,\"solidity\":0.2}},\"type\":\"barpolar\"}],\"pie\":[{\"automargin\":true,\"type\":\"pie\"}]},\"layout\":{\"autotypenumbers\":\"strict\",\"colorway\":[\"#636efa\",\"#EF553B\",\"#00cc96\",\"#ab63fa\",\"#FFA15A\",\"#19d3f3\",\"#FF6692\",\"#B6E880\",\"#FF97FF\",\"#FECB52\"],\"font\":{\"color\":\"#2a3f5f\"},\"hovermode\":\"closest\",\"hoverlabel\":{\"align\":\"left\"},\"paper_bgcolor\":\"white\",\"plot_bgcolor\":\"#E5ECF6\",\"polar\":{\"bgcolor\":\"#E5ECF6\",\"angularaxis\":{\"gridcolor\":\"white\",\"linecolor\":\"white\",\"ticks\":\"\"},\"radialaxis\":{\"gridcolor\":\"white\",\"linecolor\":\"white\",\"ticks\":\"\"}},\"ternary\":{\"bgcolor\":\"#E5ECF6\",\"aaxis\":{\"gridcolor\":\"white\",\"linecolor\":\"white\",\"ticks\":\"\"},\"baxis\":{\"gridcolor\":\"white\",\"linecolor\":\"white\",\"ticks\":\"\"},\"caxis\":{\"gridcolor\":\"white\",\"linecolor\":\"white\",\"ticks\":\"\"}},\"coloraxis\":{\"colorbar\":{\"outlinewidth\":0,\"ticks\":\"\"}},\"colorscale\":{\"sequential\":[[0.0,\"#0d0887\"],[0.1111111111111111,\"#46039f\"],[0.2222222222222222,\"#7201a8\"],[0.3333333333333333,\"#9c179e\"],[0.4444444444444444,\"#bd3786\"],[0.5555555555555556,\"#d8576b\"],[0.6666666666666666,\"#ed7953\"],[0.7777777777777778,\"#fb9f3a\"],[0.8888888888888888,\"#fdca26\"],[1.0,\"#f0f921\"]],\"sequentialminus\":[[0.0,\"#0d0887\"],[0.1111111111111111,\"#46039f\"],[0.2222222222222222,\"#7201a8\"],[0.3333333333333333,\"#9c179e\"],[0.4444444444444444,\"#bd3786\"],[0.5555555555555556,\"#d8576b\"],[0.6666666666666666,\"#ed7953\"],[0.7777777777777778,\"#fb9f3a\"],[0.8888888888888888,\"#fdca26\"],[1.0,\"#f0f921\"]],\"diverging\":[[0,\"#8e0152\"],[0.1,\"#c51b7d\"],[0.2,\"#de77ae\"],[0.3,\"#f1b6da\"],[0.4,\"#fde0ef\"],[0.5,\"#f7f7f7\"],[0.6,\"#e6f5d0\"],[0.7,\"#b8e186\"],[0.8,\"#7fbc41\"],[0.9,\"#4d9221\"],[1,\"#276419\"]]},\"xaxis\":{\"gridcolor\":\"white\",\"linecolor\":\"white\",\"ticks\":\"\",\"title\":{\"standoff\":15},\"zerolinecolor\":\"white\",\"automargin\":true,\"zerolinewidth\":2},\"yaxis\":{\"gridcolor\":\"white\",\"linecolor\":\"white\",\"ticks\":\"\",\"title\":{\"standoff\":15},\"zerolinecolor\":\"white\",\"automargin\":true,\"zerolinewidth\":2},\"scene\":{\"xaxis\":{\"backgroundcolor\":\"#E5ECF6\",\"gridcolor\":\"white\",\"linecolor\":\"white\",\"showbackground\":true,\"ticks\":\"\",\"zerolinecolor\":\"white\",\"gridwidth\":2},\"yaxis\":{\"backgroundcolor\":\"#E5ECF6\",\"gridcolor\":\"white\",\"linecolor\":\"white\",\"showbackground\":true,\"ticks\":\"\",\"zerolinecolor\":\"white\",\"gridwidth\":2},\"zaxis\":{\"backgroundcolor\":\"#E5ECF6\",\"gridcolor\":\"white\",\"linecolor\":\"white\",\"showbackground\":true,\"ticks\":\"\",\"zerolinecolor\":\"white\",\"gridwidth\":2}},\"shapedefaults\":{\"line\":{\"color\":\"#2a3f5f\"}},\"annotationdefaults\":{\"arrowcolor\":\"#2a3f5f\",\"arrowhead\":0,\"arrowwidth\":1},\"geo\":{\"bgcolor\":\"white\",\"landcolor\":\"#E5ECF6\",\"subunitcolor\":\"white\",\"showland\":true,\"showlakes\":true,\"lakecolor\":\"white\"},\"title\":{\"x\":0.05},\"mapbox\":{\"style\":\"light\"}}},\"xaxis\":{\"anchor\":\"y\",\"domain\":[0.0,1.0],\"title\":{\"text\":\"Planet Radius (Earth Radius)\"}},\"yaxis\":{\"anchor\":\"x\",\"domain\":[0.0,1.0],\"title\":{\"text\":\"count\"}},\"legend\":{\"tracegroupgap\":0},\"title\":{\"text\":\"Distribution of Planet Radius for Exoplanet Candidates Predicted as Exoplanets\"},\"barmode\":\"relative\",\"height\":400,\"width\":600,\"margin\":{\"l\":50,\"r\":50,\"t\":50,\"b\":50},\"bargap\":0.05,\"showlegend\":false},                        {\"responsive\": true}                    ).then(function(){\n",
              "                            \n",
              "var gd = document.getElementById('6847386e-c1da-4c8b-a3c5-01ee4c31269f');\n",
              "var x = new MutationObserver(function (mutations, observer) {{\n",
              "        var display = window.getComputedStyle(gd).display;\n",
              "        if (!display || display === 'none') {{\n",
              "            console.log([gd, 'removed!']);\n",
              "            Plotly.purge(gd);\n",
              "            observer.disconnect();\n",
              "        }}\n",
              "}});\n",
              "\n",
              "// Listen for the removal of the full notebook cells\n",
              "var notebookContainer = gd.closest('#notebook-container');\n",
              "if (notebookContainer) {{\n",
              "    x.observe(notebookContainer, {childList: true});\n",
              "}}\n",
              "\n",
              "// Listen for the clearing of the current output cell\n",
              "var outputEl = gd.closest('.output');\n",
              "if (outputEl) {{\n",
              "    x.observe(outputEl, {childList: true});\n",
              "}}\n",
              "\n",
              "                        })                };                            </script>        </div>\n",
              "</body>\n",
              "</html>"
            ]
          },
          "metadata": {}
        },
        {
          "output_type": "display_data",
          "data": {
            "text/html": [
              "<html>\n",
              "<head><meta charset=\"utf-8\" /></head>\n",
              "<body>\n",
              "    <div>            <script src=\"https://cdnjs.cloudflare.com/ajax/libs/mathjax/2.7.5/MathJax.js?config=TeX-AMS-MML_SVG\"></script><script type=\"text/javascript\">if (window.MathJax && window.MathJax.Hub && window.MathJax.Hub.Config) {window.MathJax.Hub.Config({SVG: {font: \"STIX-Web\"}});}</script>                <script type=\"text/javascript\">window.PlotlyConfig = {MathJaxConfig: 'local'};</script>\n",
              "        <script charset=\"utf-8\" src=\"https://cdn.plot.ly/plotly-2.24.1.min.js\"></script>                <div id=\"3d406842-ec67-435d-b5eb-d805c76b6a72\" class=\"plotly-graph-div\" style=\"height:525px; width:100%;\"></div>            <script type=\"text/javascript\">                                    window.PLOTLYENV=window.PLOTLYENV || {};                                    if (document.getElementById(\"3d406842-ec67-435d-b5eb-d805c76b6a72\")) {                    Plotly.newPlot(                        \"3d406842-ec67-435d-b5eb-d805c76b6a72\",                        [{\"alignmentgroup\":\"True\",\"bingroup\":\"x\",\"hovertemplate\":\"Planet Mass (Earth Mass)=%{x}\\u003cbr\\u003ecount=%{y}\\u003cextra\\u003e\\u003c\\u002fextra\\u003e\",\"legendgroup\":\"\",\"marker\":{\"color\":\"#636efa\",\"pattern\":{\"shape\":\"\"}},\"name\":\"\",\"offsetgroup\":\"\",\"orientation\":\"v\",\"showlegend\":false,\"x\":[null,null,null,null,null,null,null,null,null,null,null,null,null,null,null,null,null,null,null,null,null,null,null,null,null,null,null,null,null,null,null,null,null,null,null,null,null,null,null,null],\"xaxis\":\"x\",\"yaxis\":\"y\",\"type\":\"histogram\"}],                        {\"template\":{\"data\":{\"histogram2dcontour\":[{\"type\":\"histogram2dcontour\",\"colorbar\":{\"outlinewidth\":0,\"ticks\":\"\"},\"colorscale\":[[0.0,\"#0d0887\"],[0.1111111111111111,\"#46039f\"],[0.2222222222222222,\"#7201a8\"],[0.3333333333333333,\"#9c179e\"],[0.4444444444444444,\"#bd3786\"],[0.5555555555555556,\"#d8576b\"],[0.6666666666666666,\"#ed7953\"],[0.7777777777777778,\"#fb9f3a\"],[0.8888888888888888,\"#fdca26\"],[1.0,\"#f0f921\"]]}],\"choropleth\":[{\"type\":\"choropleth\",\"colorbar\":{\"outlinewidth\":0,\"ticks\":\"\"}}],\"histogram2d\":[{\"type\":\"histogram2d\",\"colorbar\":{\"outlinewidth\":0,\"ticks\":\"\"},\"colorscale\":[[0.0,\"#0d0887\"],[0.1111111111111111,\"#46039f\"],[0.2222222222222222,\"#7201a8\"],[0.3333333333333333,\"#9c179e\"],[0.4444444444444444,\"#bd3786\"],[0.5555555555555556,\"#d8576b\"],[0.6666666666666666,\"#ed7953\"],[0.7777777777777778,\"#fb9f3a\"],[0.8888888888888888,\"#fdca26\"],[1.0,\"#f0f921\"]]}],\"heatmap\":[{\"type\":\"heatmap\",\"colorbar\":{\"outlinewidth\":0,\"ticks\":\"\"},\"colorscale\":[[0.0,\"#0d0887\"],[0.1111111111111111,\"#46039f\"],[0.2222222222222222,\"#7201a8\"],[0.3333333333333333,\"#9c179e\"],[0.4444444444444444,\"#bd3786\"],[0.5555555555555556,\"#d8576b\"],[0.6666666666666666,\"#ed7953\"],[0.7777777777777778,\"#fb9f3a\"],[0.8888888888888888,\"#fdca26\"],[1.0,\"#f0f921\"]]}],\"heatmapgl\":[{\"type\":\"heatmapgl\",\"colorbar\":{\"outlinewidth\":0,\"ticks\":\"\"},\"colorscale\":[[0.0,\"#0d0887\"],[0.1111111111111111,\"#46039f\"],[0.2222222222222222,\"#7201a8\"],[0.3333333333333333,\"#9c179e\"],[0.4444444444444444,\"#bd3786\"],[0.5555555555555556,\"#d8576b\"],[0.6666666666666666,\"#ed7953\"],[0.7777777777777778,\"#fb9f3a\"],[0.8888888888888888,\"#fdca26\"],[1.0,\"#f0f921\"]]}],\"contourcarpet\":[{\"type\":\"contourcarpet\",\"colorbar\":{\"outlinewidth\":0,\"ticks\":\"\"}}],\"contour\":[{\"type\":\"contour\",\"colorbar\":{\"outlinewidth\":0,\"ticks\":\"\"},\"colorscale\":[[0.0,\"#0d0887\"],[0.1111111111111111,\"#46039f\"],[0.2222222222222222,\"#7201a8\"],[0.3333333333333333,\"#9c179e\"],[0.4444444444444444,\"#bd3786\"],[0.5555555555555556,\"#d8576b\"],[0.6666666666666666,\"#ed7953\"],[0.7777777777777778,\"#fb9f3a\"],[0.8888888888888888,\"#fdca26\"],[1.0,\"#f0f921\"]]}],\"surface\":[{\"type\":\"surface\",\"colorbar\":{\"outlinewidth\":0,\"ticks\":\"\"},\"colorscale\":[[0.0,\"#0d0887\"],[0.1111111111111111,\"#46039f\"],[0.2222222222222222,\"#7201a8\"],[0.3333333333333333,\"#9c179e\"],[0.4444444444444444,\"#bd3786\"],[0.5555555555555556,\"#d8576b\"],[0.6666666666666666,\"#ed7953\"],[0.7777777777777778,\"#fb9f3a\"],[0.8888888888888888,\"#fdca26\"],[1.0,\"#f0f921\"]]}],\"mesh3d\":[{\"type\":\"mesh3d\",\"colorbar\":{\"outlinewidth\":0,\"ticks\":\"\"}}],\"scatter\":[{\"fillpattern\":{\"fillmode\":\"overlay\",\"size\":10,\"solidity\":0.2},\"type\":\"scatter\"}],\"parcoords\":[{\"type\":\"parcoords\",\"line\":{\"colorbar\":{\"outlinewidth\":0,\"ticks\":\"\"}}}],\"scatterpolargl\":[{\"type\":\"scatterpolargl\",\"marker\":{\"colorbar\":{\"outlinewidth\":0,\"ticks\":\"\"}}}],\"bar\":[{\"error_x\":{\"color\":\"#2a3f5f\"},\"error_y\":{\"color\":\"#2a3f5f\"},\"marker\":{\"line\":{\"color\":\"#E5ECF6\",\"width\":0.5},\"pattern\":{\"fillmode\":\"overlay\",\"size\":10,\"solidity\":0.2}},\"type\":\"bar\"}],\"scattergeo\":[{\"type\":\"scattergeo\",\"marker\":{\"colorbar\":{\"outlinewidth\":0,\"ticks\":\"\"}}}],\"scatterpolar\":[{\"type\":\"scatterpolar\",\"marker\":{\"colorbar\":{\"outlinewidth\":0,\"ticks\":\"\"}}}],\"histogram\":[{\"marker\":{\"pattern\":{\"fillmode\":\"overlay\",\"size\":10,\"solidity\":0.2}},\"type\":\"histogram\"}],\"scattergl\":[{\"type\":\"scattergl\",\"marker\":{\"colorbar\":{\"outlinewidth\":0,\"ticks\":\"\"}}}],\"scatter3d\":[{\"type\":\"scatter3d\",\"line\":{\"colorbar\":{\"outlinewidth\":0,\"ticks\":\"\"}},\"marker\":{\"colorbar\":{\"outlinewidth\":0,\"ticks\":\"\"}}}],\"scattermapbox\":[{\"type\":\"scattermapbox\",\"marker\":{\"colorbar\":{\"outlinewidth\":0,\"ticks\":\"\"}}}],\"scatterternary\":[{\"type\":\"scatterternary\",\"marker\":{\"colorbar\":{\"outlinewidth\":0,\"ticks\":\"\"}}}],\"scattercarpet\":[{\"type\":\"scattercarpet\",\"marker\":{\"colorbar\":{\"outlinewidth\":0,\"ticks\":\"\"}}}],\"carpet\":[{\"aaxis\":{\"endlinecolor\":\"#2a3f5f\",\"gridcolor\":\"white\",\"linecolor\":\"white\",\"minorgridcolor\":\"white\",\"startlinecolor\":\"#2a3f5f\"},\"baxis\":{\"endlinecolor\":\"#2a3f5f\",\"gridcolor\":\"white\",\"linecolor\":\"white\",\"minorgridcolor\":\"white\",\"startlinecolor\":\"#2a3f5f\"},\"type\":\"carpet\"}],\"table\":[{\"cells\":{\"fill\":{\"color\":\"#EBF0F8\"},\"line\":{\"color\":\"white\"}},\"header\":{\"fill\":{\"color\":\"#C8D4E3\"},\"line\":{\"color\":\"white\"}},\"type\":\"table\"}],\"barpolar\":[{\"marker\":{\"line\":{\"color\":\"#E5ECF6\",\"width\":0.5},\"pattern\":{\"fillmode\":\"overlay\",\"size\":10,\"solidity\":0.2}},\"type\":\"barpolar\"}],\"pie\":[{\"automargin\":true,\"type\":\"pie\"}]},\"layout\":{\"autotypenumbers\":\"strict\",\"colorway\":[\"#636efa\",\"#EF553B\",\"#00cc96\",\"#ab63fa\",\"#FFA15A\",\"#19d3f3\",\"#FF6692\",\"#B6E880\",\"#FF97FF\",\"#FECB52\"],\"font\":{\"color\":\"#2a3f5f\"},\"hovermode\":\"closest\",\"hoverlabel\":{\"align\":\"left\"},\"paper_bgcolor\":\"white\",\"plot_bgcolor\":\"#E5ECF6\",\"polar\":{\"bgcolor\":\"#E5ECF6\",\"angularaxis\":{\"gridcolor\":\"white\",\"linecolor\":\"white\",\"ticks\":\"\"},\"radialaxis\":{\"gridcolor\":\"white\",\"linecolor\":\"white\",\"ticks\":\"\"}},\"ternary\":{\"bgcolor\":\"#E5ECF6\",\"aaxis\":{\"gridcolor\":\"white\",\"linecolor\":\"white\",\"ticks\":\"\"},\"baxis\":{\"gridcolor\":\"white\",\"linecolor\":\"white\",\"ticks\":\"\"},\"caxis\":{\"gridcolor\":\"white\",\"linecolor\":\"white\",\"ticks\":\"\"}},\"coloraxis\":{\"colorbar\":{\"outlinewidth\":0,\"ticks\":\"\"}},\"colorscale\":{\"sequential\":[[0.0,\"#0d0887\"],[0.1111111111111111,\"#46039f\"],[0.2222222222222222,\"#7201a8\"],[0.3333333333333333,\"#9c179e\"],[0.4444444444444444,\"#bd3786\"],[0.5555555555555556,\"#d8576b\"],[0.6666666666666666,\"#ed7953\"],[0.7777777777777778,\"#fb9f3a\"],[0.8888888888888888,\"#fdca26\"],[1.0,\"#f0f921\"]],\"sequentialminus\":[[0.0,\"#0d0887\"],[0.1111111111111111,\"#46039f\"],[0.2222222222222222,\"#7201a8\"],[0.3333333333333333,\"#9c179e\"],[0.4444444444444444,\"#bd3786\"],[0.5555555555555556,\"#d8576b\"],[0.6666666666666666,\"#ed7953\"],[0.7777777777777778,\"#fb9f3a\"],[0.8888888888888888,\"#fdca26\"],[1.0,\"#f0f921\"]],\"diverging\":[[0,\"#8e0152\"],[0.1,\"#c51b7d\"],[0.2,\"#de77ae\"],[0.3,\"#f1b6da\"],[0.4,\"#fde0ef\"],[0.5,\"#f7f7f7\"],[0.6,\"#e6f5d0\"],[0.7,\"#b8e186\"],[0.8,\"#7fbc41\"],[0.9,\"#4d9221\"],[1,\"#276419\"]]},\"xaxis\":{\"gridcolor\":\"white\",\"linecolor\":\"white\",\"ticks\":\"\",\"title\":{\"standoff\":15},\"zerolinecolor\":\"white\",\"automargin\":true,\"zerolinewidth\":2},\"yaxis\":{\"gridcolor\":\"white\",\"linecolor\":\"white\",\"ticks\":\"\",\"title\":{\"standoff\":15},\"zerolinecolor\":\"white\",\"automargin\":true,\"zerolinewidth\":2},\"scene\":{\"xaxis\":{\"backgroundcolor\":\"#E5ECF6\",\"gridcolor\":\"white\",\"linecolor\":\"white\",\"showbackground\":true,\"ticks\":\"\",\"zerolinecolor\":\"white\",\"gridwidth\":2},\"yaxis\":{\"backgroundcolor\":\"#E5ECF6\",\"gridcolor\":\"white\",\"linecolor\":\"white\",\"showbackground\":true,\"ticks\":\"\",\"zerolinecolor\":\"white\",\"gridwidth\":2},\"zaxis\":{\"backgroundcolor\":\"#E5ECF6\",\"gridcolor\":\"white\",\"linecolor\":\"white\",\"showbackground\":true,\"ticks\":\"\",\"zerolinecolor\":\"white\",\"gridwidth\":2}},\"shapedefaults\":{\"line\":{\"color\":\"#2a3f5f\"}},\"annotationdefaults\":{\"arrowcolor\":\"#2a3f5f\",\"arrowhead\":0,\"arrowwidth\":1},\"geo\":{\"bgcolor\":\"white\",\"landcolor\":\"#E5ECF6\",\"subunitcolor\":\"white\",\"showland\":true,\"showlakes\":true,\"lakecolor\":\"white\"},\"title\":{\"x\":0.05},\"mapbox\":{\"style\":\"light\"}}},\"xaxis\":{\"anchor\":\"y\",\"domain\":[0.0,1.0],\"title\":{\"text\":\"Planet Mass (Earth Mass)\"}},\"yaxis\":{\"anchor\":\"x\",\"domain\":[0.0,1.0],\"title\":{\"text\":\"count\"}},\"legend\":{\"tracegroupgap\":0},\"title\":{\"text\":\"Distribution of Planet Mass for Exoplanet Candidates Predicted as Exoplanets\"},\"barmode\":\"relative\",\"margin\":{\"l\":50,\"r\":50,\"t\":50,\"b\":50},\"bargap\":0.05,\"bargroupgap\":0.1,\"showlegend\":false},                        {\"responsive\": true}                    ).then(function(){\n",
              "                            \n",
              "var gd = document.getElementById('3d406842-ec67-435d-b5eb-d805c76b6a72');\n",
              "var x = new MutationObserver(function (mutations, observer) {{\n",
              "        var display = window.getComputedStyle(gd).display;\n",
              "        if (!display || display === 'none') {{\n",
              "            console.log([gd, 'removed!']);\n",
              "            Plotly.purge(gd);\n",
              "            observer.disconnect();\n",
              "        }}\n",
              "}});\n",
              "\n",
              "// Listen for the removal of the full notebook cells\n",
              "var notebookContainer = gd.closest('#notebook-container');\n",
              "if (notebookContainer) {{\n",
              "    x.observe(notebookContainer, {childList: true});\n",
              "}}\n",
              "\n",
              "// Listen for the clearing of the current output cell\n",
              "var outputEl = gd.closest('.output');\n",
              "if (outputEl) {{\n",
              "    x.observe(outputEl, {childList: true});\n",
              "}}\n",
              "\n",
              "                        })                };                            </script>        </div>\n",
              "</body>\n",
              "</html>"
            ]
          },
          "metadata": {}
        },
        {
          "output_type": "display_data",
          "data": {
            "text/html": [
              "<html>\n",
              "<head><meta charset=\"utf-8\" /></head>\n",
              "<body>\n",
              "    <div>            <script src=\"https://cdnjs.cloudflare.com/ajax/libs/mathjax/2.7.5/MathJax.js?config=TeX-AMS-MML_SVG\"></script><script type=\"text/javascript\">if (window.MathJax && window.MathJax.Hub && window.MathJax.Hub.Config) {window.MathJax.Hub.Config({SVG: {font: \"STIX-Web\"}});}</script>                <script type=\"text/javascript\">window.PlotlyConfig = {MathJaxConfig: 'local'};</script>\n",
              "        <script charset=\"utf-8\" src=\"https://cdn.plot.ly/plotly-2.24.1.min.js\"></script>                <div id=\"84b9345b-50a4-4c8c-8d0f-073eb0a58878\" class=\"plotly-graph-div\" style=\"height:525px; width:100%;\"></div>            <script type=\"text/javascript\">                                    window.PLOTLYENV=window.PLOTLYENV || {};                                    if (document.getElementById(\"84b9345b-50a4-4c8c-8d0f-073eb0a58878\")) {                    Plotly.newPlot(                        \"84b9345b-50a4-4c8c-8d0f-073eb0a58878\",                        [{\"alignmentgroup\":\"True\",\"bingroup\":\"x\",\"hovertemplate\":\"Equilibrium Temperature [K]=%{x}\\u003cbr\\u003ecount=%{y}\\u003cextra\\u003e\\u003c\\u002fextra\\u003e\",\"legendgroup\":\"\",\"marker\":{\"color\":\"#636efa\",\"pattern\":{\"shape\":\"\"}},\"name\":\"\",\"offsetgroup\":\"\",\"orientation\":\"v\",\"showlegend\":false,\"x\":[null,null,null,null,null,null,null,null,null,null,null,null,null,null,null,null,null,null,null,null,null,null,null,null,522.0,null,null,86.0,420.0,null,null,null,482.0,82.0,585.0,null,null,null,null,null],\"xaxis\":\"x\",\"yaxis\":\"y\",\"type\":\"histogram\"}],                        {\"template\":{\"data\":{\"histogram2dcontour\":[{\"type\":\"histogram2dcontour\",\"colorbar\":{\"outlinewidth\":0,\"ticks\":\"\"},\"colorscale\":[[0.0,\"#0d0887\"],[0.1111111111111111,\"#46039f\"],[0.2222222222222222,\"#7201a8\"],[0.3333333333333333,\"#9c179e\"],[0.4444444444444444,\"#bd3786\"],[0.5555555555555556,\"#d8576b\"],[0.6666666666666666,\"#ed7953\"],[0.7777777777777778,\"#fb9f3a\"],[0.8888888888888888,\"#fdca26\"],[1.0,\"#f0f921\"]]}],\"choropleth\":[{\"type\":\"choropleth\",\"colorbar\":{\"outlinewidth\":0,\"ticks\":\"\"}}],\"histogram2d\":[{\"type\":\"histogram2d\",\"colorbar\":{\"outlinewidth\":0,\"ticks\":\"\"},\"colorscale\":[[0.0,\"#0d0887\"],[0.1111111111111111,\"#46039f\"],[0.2222222222222222,\"#7201a8\"],[0.3333333333333333,\"#9c179e\"],[0.4444444444444444,\"#bd3786\"],[0.5555555555555556,\"#d8576b\"],[0.6666666666666666,\"#ed7953\"],[0.7777777777777778,\"#fb9f3a\"],[0.8888888888888888,\"#fdca26\"],[1.0,\"#f0f921\"]]}],\"heatmap\":[{\"type\":\"heatmap\",\"colorbar\":{\"outlinewidth\":0,\"ticks\":\"\"},\"colorscale\":[[0.0,\"#0d0887\"],[0.1111111111111111,\"#46039f\"],[0.2222222222222222,\"#7201a8\"],[0.3333333333333333,\"#9c179e\"],[0.4444444444444444,\"#bd3786\"],[0.5555555555555556,\"#d8576b\"],[0.6666666666666666,\"#ed7953\"],[0.7777777777777778,\"#fb9f3a\"],[0.8888888888888888,\"#fdca26\"],[1.0,\"#f0f921\"]]}],\"heatmapgl\":[{\"type\":\"heatmapgl\",\"colorbar\":{\"outlinewidth\":0,\"ticks\":\"\"},\"colorscale\":[[0.0,\"#0d0887\"],[0.1111111111111111,\"#46039f\"],[0.2222222222222222,\"#7201a8\"],[0.3333333333333333,\"#9c179e\"],[0.4444444444444444,\"#bd3786\"],[0.5555555555555556,\"#d8576b\"],[0.6666666666666666,\"#ed7953\"],[0.7777777777777778,\"#fb9f3a\"],[0.8888888888888888,\"#fdca26\"],[1.0,\"#f0f921\"]]}],\"contourcarpet\":[{\"type\":\"contourcarpet\",\"colorbar\":{\"outlinewidth\":0,\"ticks\":\"\"}}],\"contour\":[{\"type\":\"contour\",\"colorbar\":{\"outlinewidth\":0,\"ticks\":\"\"},\"colorscale\":[[0.0,\"#0d0887\"],[0.1111111111111111,\"#46039f\"],[0.2222222222222222,\"#7201a8\"],[0.3333333333333333,\"#9c179e\"],[0.4444444444444444,\"#bd3786\"],[0.5555555555555556,\"#d8576b\"],[0.6666666666666666,\"#ed7953\"],[0.7777777777777778,\"#fb9f3a\"],[0.8888888888888888,\"#fdca26\"],[1.0,\"#f0f921\"]]}],\"surface\":[{\"type\":\"surface\",\"colorbar\":{\"outlinewidth\":0,\"ticks\":\"\"},\"colorscale\":[[0.0,\"#0d0887\"],[0.1111111111111111,\"#46039f\"],[0.2222222222222222,\"#7201a8\"],[0.3333333333333333,\"#9c179e\"],[0.4444444444444444,\"#bd3786\"],[0.5555555555555556,\"#d8576b\"],[0.6666666666666666,\"#ed7953\"],[0.7777777777777778,\"#fb9f3a\"],[0.8888888888888888,\"#fdca26\"],[1.0,\"#f0f921\"]]}],\"mesh3d\":[{\"type\":\"mesh3d\",\"colorbar\":{\"outlinewidth\":0,\"ticks\":\"\"}}],\"scatter\":[{\"fillpattern\":{\"fillmode\":\"overlay\",\"size\":10,\"solidity\":0.2},\"type\":\"scatter\"}],\"parcoords\":[{\"type\":\"parcoords\",\"line\":{\"colorbar\":{\"outlinewidth\":0,\"ticks\":\"\"}}}],\"scatterpolargl\":[{\"type\":\"scatterpolargl\",\"marker\":{\"colorbar\":{\"outlinewidth\":0,\"ticks\":\"\"}}}],\"bar\":[{\"error_x\":{\"color\":\"#2a3f5f\"},\"error_y\":{\"color\":\"#2a3f5f\"},\"marker\":{\"line\":{\"color\":\"#E5ECF6\",\"width\":0.5},\"pattern\":{\"fillmode\":\"overlay\",\"size\":10,\"solidity\":0.2}},\"type\":\"bar\"}],\"scattergeo\":[{\"type\":\"scattergeo\",\"marker\":{\"colorbar\":{\"outlinewidth\":0,\"ticks\":\"\"}}}],\"scatterpolar\":[{\"type\":\"scatterpolar\",\"marker\":{\"colorbar\":{\"outlinewidth\":0,\"ticks\":\"\"}}}],\"histogram\":[{\"marker\":{\"pattern\":{\"fillmode\":\"overlay\",\"size\":10,\"solidity\":0.2}},\"type\":\"histogram\"}],\"scattergl\":[{\"type\":\"scattergl\",\"marker\":{\"colorbar\":{\"outlinewidth\":0,\"ticks\":\"\"}}}],\"scatter3d\":[{\"type\":\"scatter3d\",\"line\":{\"colorbar\":{\"outlinewidth\":0,\"ticks\":\"\"}},\"marker\":{\"colorbar\":{\"outlinewidth\":0,\"ticks\":\"\"}}}],\"scattermapbox\":[{\"type\":\"scattermapbox\",\"marker\":{\"colorbar\":{\"outlinewidth\":0,\"ticks\":\"\"}}}],\"scatterternary\":[{\"type\":\"scatterternary\",\"marker\":{\"colorbar\":{\"outlinewidth\":0,\"ticks\":\"\"}}}],\"scattercarpet\":[{\"type\":\"scattercarpet\",\"marker\":{\"colorbar\":{\"outlinewidth\":0,\"ticks\":\"\"}}}],\"carpet\":[{\"aaxis\":{\"endlinecolor\":\"#2a3f5f\",\"gridcolor\":\"white\",\"linecolor\":\"white\",\"minorgridcolor\":\"white\",\"startlinecolor\":\"#2a3f5f\"},\"baxis\":{\"endlinecolor\":\"#2a3f5f\",\"gridcolor\":\"white\",\"linecolor\":\"white\",\"minorgridcolor\":\"white\",\"startlinecolor\":\"#2a3f5f\"},\"type\":\"carpet\"}],\"table\":[{\"cells\":{\"fill\":{\"color\":\"#EBF0F8\"},\"line\":{\"color\":\"white\"}},\"header\":{\"fill\":{\"color\":\"#C8D4E3\"},\"line\":{\"color\":\"white\"}},\"type\":\"table\"}],\"barpolar\":[{\"marker\":{\"line\":{\"color\":\"#E5ECF6\",\"width\":0.5},\"pattern\":{\"fillmode\":\"overlay\",\"size\":10,\"solidity\":0.2}},\"type\":\"barpolar\"}],\"pie\":[{\"automargin\":true,\"type\":\"pie\"}]},\"layout\":{\"autotypenumbers\":\"strict\",\"colorway\":[\"#636efa\",\"#EF553B\",\"#00cc96\",\"#ab63fa\",\"#FFA15A\",\"#19d3f3\",\"#FF6692\",\"#B6E880\",\"#FF97FF\",\"#FECB52\"],\"font\":{\"color\":\"#2a3f5f\"},\"hovermode\":\"closest\",\"hoverlabel\":{\"align\":\"left\"},\"paper_bgcolor\":\"white\",\"plot_bgcolor\":\"#E5ECF6\",\"polar\":{\"bgcolor\":\"#E5ECF6\",\"angularaxis\":{\"gridcolor\":\"white\",\"linecolor\":\"white\",\"ticks\":\"\"},\"radialaxis\":{\"gridcolor\":\"white\",\"linecolor\":\"white\",\"ticks\":\"\"}},\"ternary\":{\"bgcolor\":\"#E5ECF6\",\"aaxis\":{\"gridcolor\":\"white\",\"linecolor\":\"white\",\"ticks\":\"\"},\"baxis\":{\"gridcolor\":\"white\",\"linecolor\":\"white\",\"ticks\":\"\"},\"caxis\":{\"gridcolor\":\"white\",\"linecolor\":\"white\",\"ticks\":\"\"}},\"coloraxis\":{\"colorbar\":{\"outlinewidth\":0,\"ticks\":\"\"}},\"colorscale\":{\"sequential\":[[0.0,\"#0d0887\"],[0.1111111111111111,\"#46039f\"],[0.2222222222222222,\"#7201a8\"],[0.3333333333333333,\"#9c179e\"],[0.4444444444444444,\"#bd3786\"],[0.5555555555555556,\"#d8576b\"],[0.6666666666666666,\"#ed7953\"],[0.7777777777777778,\"#fb9f3a\"],[0.8888888888888888,\"#fdca26\"],[1.0,\"#f0f921\"]],\"sequentialminus\":[[0.0,\"#0d0887\"],[0.1111111111111111,\"#46039f\"],[0.2222222222222222,\"#7201a8\"],[0.3333333333333333,\"#9c179e\"],[0.4444444444444444,\"#bd3786\"],[0.5555555555555556,\"#d8576b\"],[0.6666666666666666,\"#ed7953\"],[0.7777777777777778,\"#fb9f3a\"],[0.8888888888888888,\"#fdca26\"],[1.0,\"#f0f921\"]],\"diverging\":[[0,\"#8e0152\"],[0.1,\"#c51b7d\"],[0.2,\"#de77ae\"],[0.3,\"#f1b6da\"],[0.4,\"#fde0ef\"],[0.5,\"#f7f7f7\"],[0.6,\"#e6f5d0\"],[0.7,\"#b8e186\"],[0.8,\"#7fbc41\"],[0.9,\"#4d9221\"],[1,\"#276419\"]]},\"xaxis\":{\"gridcolor\":\"white\",\"linecolor\":\"white\",\"ticks\":\"\",\"title\":{\"standoff\":15},\"zerolinecolor\":\"white\",\"automargin\":true,\"zerolinewidth\":2},\"yaxis\":{\"gridcolor\":\"white\",\"linecolor\":\"white\",\"ticks\":\"\",\"title\":{\"standoff\":15},\"zerolinecolor\":\"white\",\"automargin\":true,\"zerolinewidth\":2},\"scene\":{\"xaxis\":{\"backgroundcolor\":\"#E5ECF6\",\"gridcolor\":\"white\",\"linecolor\":\"white\",\"showbackground\":true,\"ticks\":\"\",\"zerolinecolor\":\"white\",\"gridwidth\":2},\"yaxis\":{\"backgroundcolor\":\"#E5ECF6\",\"gridcolor\":\"white\",\"linecolor\":\"white\",\"showbackground\":true,\"ticks\":\"\",\"zerolinecolor\":\"white\",\"gridwidth\":2},\"zaxis\":{\"backgroundcolor\":\"#E5ECF6\",\"gridcolor\":\"white\",\"linecolor\":\"white\",\"showbackground\":true,\"ticks\":\"\",\"zerolinecolor\":\"white\",\"gridwidth\":2}},\"shapedefaults\":{\"line\":{\"color\":\"#2a3f5f\"}},\"annotationdefaults\":{\"arrowcolor\":\"#2a3f5f\",\"arrowhead\":0,\"arrowwidth\":1},\"geo\":{\"bgcolor\":\"white\",\"landcolor\":\"#E5ECF6\",\"subunitcolor\":\"white\",\"showland\":true,\"showlakes\":true,\"lakecolor\":\"white\"},\"title\":{\"x\":0.05},\"mapbox\":{\"style\":\"light\"}}},\"xaxis\":{\"anchor\":\"y\",\"domain\":[0.0,1.0],\"title\":{\"text\":\"Equilibrium Temperature [K]\"}},\"yaxis\":{\"anchor\":\"x\",\"domain\":[0.0,1.0],\"title\":{\"text\":\"count\"}},\"legend\":{\"tracegroupgap\":0},\"title\":{\"text\":\"Distribution of Equilibrium Temperature for Exoplanet Candidates Predicted as Exoplanets\"},\"barmode\":\"relative\",\"margin\":{\"l\":50,\"r\":50,\"t\":50,\"b\":50},\"bargap\":0.05,\"bargroupgap\":0.1,\"showlegend\":false},                        {\"responsive\": true}                    ).then(function(){\n",
              "                            \n",
              "var gd = document.getElementById('84b9345b-50a4-4c8c-8d0f-073eb0a58878');\n",
              "var x = new MutationObserver(function (mutations, observer) {{\n",
              "        var display = window.getComputedStyle(gd).display;\n",
              "        if (!display || display === 'none') {{\n",
              "            console.log([gd, 'removed!']);\n",
              "            Plotly.purge(gd);\n",
              "            observer.disconnect();\n",
              "        }}\n",
              "}});\n",
              "\n",
              "// Listen for the removal of the full notebook cells\n",
              "var notebookContainer = gd.closest('#notebook-container');\n",
              "if (notebookContainer) {{\n",
              "    x.observe(notebookContainer, {childList: true});\n",
              "}}\n",
              "\n",
              "// Listen for the clearing of the current output cell\n",
              "var outputEl = gd.closest('.output');\n",
              "if (outputEl) {{\n",
              "    x.observe(outputEl, {childList: true});\n",
              "}}\n",
              "\n",
              "                        })                };                            </script>        </div>\n",
              "</body>\n",
              "</html>"
            ]
          },
          "metadata": {}
        },
        {
          "output_type": "display_data",
          "data": {
            "text/html": [
              "<html>\n",
              "<head><meta charset=\"utf-8\" /></head>\n",
              "<body>\n",
              "    <div>            <script src=\"https://cdnjs.cloudflare.com/ajax/libs/mathjax/2.7.5/MathJax.js?config=TeX-AMS-MML_SVG\"></script><script type=\"text/javascript\">if (window.MathJax && window.MathJax.Hub && window.MathJax.Hub.Config) {window.MathJax.Hub.Config({SVG: {font: \"STIX-Web\"}});}</script>                <script type=\"text/javascript\">window.PlotlyConfig = {MathJaxConfig: 'local'};</script>\n",
              "        <script charset=\"utf-8\" src=\"https://cdn.plot.ly/plotly-2.24.1.min.js\"></script>                <div id=\"8d53d988-0bcd-4432-9acd-b103f890a16d\" class=\"plotly-graph-div\" style=\"height:525px; width:100%;\"></div>            <script type=\"text/javascript\">                                    window.PLOTLYENV=window.PLOTLYENV || {};                                    if (document.getElementById(\"8d53d988-0bcd-4432-9acd-b103f890a16d\")) {                    Plotly.newPlot(                        \"8d53d988-0bcd-4432-9acd-b103f890a16d\",                        [{\"alignmentgroup\":\"True\",\"bingroup\":\"x\",\"hovertemplate\":\"Insolation Flux [Earth Flux]=%{x}\\u003cbr\\u003ecount=%{y}\\u003cextra\\u003e\\u003c\\u002fextra\\u003e\",\"legendgroup\":\"\",\"marker\":{\"color\":\"#636efa\",\"pattern\":{\"shape\":\"\"}},\"name\":\"\",\"offsetgroup\":\"\",\"orientation\":\"v\",\"showlegend\":false,\"x\":[null,null,null,null,null,null,162.0,null,null,null,null,null,null,null,null,null,null,null,null,null,null,null,null,null,null,null,null,null,null,null,null,null,null,null,null,null,null,null,null,null],\"xaxis\":\"x\",\"yaxis\":\"y\",\"type\":\"histogram\"}],                        {\"template\":{\"data\":{\"histogram2dcontour\":[{\"type\":\"histogram2dcontour\",\"colorbar\":{\"outlinewidth\":0,\"ticks\":\"\"},\"colorscale\":[[0.0,\"#0d0887\"],[0.1111111111111111,\"#46039f\"],[0.2222222222222222,\"#7201a8\"],[0.3333333333333333,\"#9c179e\"],[0.4444444444444444,\"#bd3786\"],[0.5555555555555556,\"#d8576b\"],[0.6666666666666666,\"#ed7953\"],[0.7777777777777778,\"#fb9f3a\"],[0.8888888888888888,\"#fdca26\"],[1.0,\"#f0f921\"]]}],\"choropleth\":[{\"type\":\"choropleth\",\"colorbar\":{\"outlinewidth\":0,\"ticks\":\"\"}}],\"histogram2d\":[{\"type\":\"histogram2d\",\"colorbar\":{\"outlinewidth\":0,\"ticks\":\"\"},\"colorscale\":[[0.0,\"#0d0887\"],[0.1111111111111111,\"#46039f\"],[0.2222222222222222,\"#7201a8\"],[0.3333333333333333,\"#9c179e\"],[0.4444444444444444,\"#bd3786\"],[0.5555555555555556,\"#d8576b\"],[0.6666666666666666,\"#ed7953\"],[0.7777777777777778,\"#fb9f3a\"],[0.8888888888888888,\"#fdca26\"],[1.0,\"#f0f921\"]]}],\"heatmap\":[{\"type\":\"heatmap\",\"colorbar\":{\"outlinewidth\":0,\"ticks\":\"\"},\"colorscale\":[[0.0,\"#0d0887\"],[0.1111111111111111,\"#46039f\"],[0.2222222222222222,\"#7201a8\"],[0.3333333333333333,\"#9c179e\"],[0.4444444444444444,\"#bd3786\"],[0.5555555555555556,\"#d8576b\"],[0.6666666666666666,\"#ed7953\"],[0.7777777777777778,\"#fb9f3a\"],[0.8888888888888888,\"#fdca26\"],[1.0,\"#f0f921\"]]}],\"heatmapgl\":[{\"type\":\"heatmapgl\",\"colorbar\":{\"outlinewidth\":0,\"ticks\":\"\"},\"colorscale\":[[0.0,\"#0d0887\"],[0.1111111111111111,\"#46039f\"],[0.2222222222222222,\"#7201a8\"],[0.3333333333333333,\"#9c179e\"],[0.4444444444444444,\"#bd3786\"],[0.5555555555555556,\"#d8576b\"],[0.6666666666666666,\"#ed7953\"],[0.7777777777777778,\"#fb9f3a\"],[0.8888888888888888,\"#fdca26\"],[1.0,\"#f0f921\"]]}],\"contourcarpet\":[{\"type\":\"contourcarpet\",\"colorbar\":{\"outlinewidth\":0,\"ticks\":\"\"}}],\"contour\":[{\"type\":\"contour\",\"colorbar\":{\"outlinewidth\":0,\"ticks\":\"\"},\"colorscale\":[[0.0,\"#0d0887\"],[0.1111111111111111,\"#46039f\"],[0.2222222222222222,\"#7201a8\"],[0.3333333333333333,\"#9c179e\"],[0.4444444444444444,\"#bd3786\"],[0.5555555555555556,\"#d8576b\"],[0.6666666666666666,\"#ed7953\"],[0.7777777777777778,\"#fb9f3a\"],[0.8888888888888888,\"#fdca26\"],[1.0,\"#f0f921\"]]}],\"surface\":[{\"type\":\"surface\",\"colorbar\":{\"outlinewidth\":0,\"ticks\":\"\"},\"colorscale\":[[0.0,\"#0d0887\"],[0.1111111111111111,\"#46039f\"],[0.2222222222222222,\"#7201a8\"],[0.3333333333333333,\"#9c179e\"],[0.4444444444444444,\"#bd3786\"],[0.5555555555555556,\"#d8576b\"],[0.6666666666666666,\"#ed7953\"],[0.7777777777777778,\"#fb9f3a\"],[0.8888888888888888,\"#fdca26\"],[1.0,\"#f0f921\"]]}],\"mesh3d\":[{\"type\":\"mesh3d\",\"colorbar\":{\"outlinewidth\":0,\"ticks\":\"\"}}],\"scatter\":[{\"fillpattern\":{\"fillmode\":\"overlay\",\"size\":10,\"solidity\":0.2},\"type\":\"scatter\"}],\"parcoords\":[{\"type\":\"parcoords\",\"line\":{\"colorbar\":{\"outlinewidth\":0,\"ticks\":\"\"}}}],\"scatterpolargl\":[{\"type\":\"scatterpolargl\",\"marker\":{\"colorbar\":{\"outlinewidth\":0,\"ticks\":\"\"}}}],\"bar\":[{\"error_x\":{\"color\":\"#2a3f5f\"},\"error_y\":{\"color\":\"#2a3f5f\"},\"marker\":{\"line\":{\"color\":\"#E5ECF6\",\"width\":0.5},\"pattern\":{\"fillmode\":\"overlay\",\"size\":10,\"solidity\":0.2}},\"type\":\"bar\"}],\"scattergeo\":[{\"type\":\"scattergeo\",\"marker\":{\"colorbar\":{\"outlinewidth\":0,\"ticks\":\"\"}}}],\"scatterpolar\":[{\"type\":\"scatterpolar\",\"marker\":{\"colorbar\":{\"outlinewidth\":0,\"ticks\":\"\"}}}],\"histogram\":[{\"marker\":{\"pattern\":{\"fillmode\":\"overlay\",\"size\":10,\"solidity\":0.2}},\"type\":\"histogram\"}],\"scattergl\":[{\"type\":\"scattergl\",\"marker\":{\"colorbar\":{\"outlinewidth\":0,\"ticks\":\"\"}}}],\"scatter3d\":[{\"type\":\"scatter3d\",\"line\":{\"colorbar\":{\"outlinewidth\":0,\"ticks\":\"\"}},\"marker\":{\"colorbar\":{\"outlinewidth\":0,\"ticks\":\"\"}}}],\"scattermapbox\":[{\"type\":\"scattermapbox\",\"marker\":{\"colorbar\":{\"outlinewidth\":0,\"ticks\":\"\"}}}],\"scatterternary\":[{\"type\":\"scatterternary\",\"marker\":{\"colorbar\":{\"outlinewidth\":0,\"ticks\":\"\"}}}],\"scattercarpet\":[{\"type\":\"scattercarpet\",\"marker\":{\"colorbar\":{\"outlinewidth\":0,\"ticks\":\"\"}}}],\"carpet\":[{\"aaxis\":{\"endlinecolor\":\"#2a3f5f\",\"gridcolor\":\"white\",\"linecolor\":\"white\",\"minorgridcolor\":\"white\",\"startlinecolor\":\"#2a3f5f\"},\"baxis\":{\"endlinecolor\":\"#2a3f5f\",\"gridcolor\":\"white\",\"linecolor\":\"white\",\"minorgridcolor\":\"white\",\"startlinecolor\":\"#2a3f5f\"},\"type\":\"carpet\"}],\"table\":[{\"cells\":{\"fill\":{\"color\":\"#EBF0F8\"},\"line\":{\"color\":\"white\"}},\"header\":{\"fill\":{\"color\":\"#C8D4E3\"},\"line\":{\"color\":\"white\"}},\"type\":\"table\"}],\"barpolar\":[{\"marker\":{\"line\":{\"color\":\"#E5ECF6\",\"width\":0.5},\"pattern\":{\"fillmode\":\"overlay\",\"size\":10,\"solidity\":0.2}},\"type\":\"barpolar\"}],\"pie\":[{\"automargin\":true,\"type\":\"pie\"}]},\"layout\":{\"autotypenumbers\":\"strict\",\"colorway\":[\"#636efa\",\"#EF553B\",\"#00cc96\",\"#ab63fa\",\"#FFA15A\",\"#19d3f3\",\"#FF6692\",\"#B6E880\",\"#FF97FF\",\"#FECB52\"],\"font\":{\"color\":\"#2a3f5f\"},\"hovermode\":\"closest\",\"hoverlabel\":{\"align\":\"left\"},\"paper_bgcolor\":\"white\",\"plot_bgcolor\":\"#E5ECF6\",\"polar\":{\"bgcolor\":\"#E5ECF6\",\"angularaxis\":{\"gridcolor\":\"white\",\"linecolor\":\"white\",\"ticks\":\"\"},\"radialaxis\":{\"gridcolor\":\"white\",\"linecolor\":\"white\",\"ticks\":\"\"}},\"ternary\":{\"bgcolor\":\"#E5ECF6\",\"aaxis\":{\"gridcolor\":\"white\",\"linecolor\":\"white\",\"ticks\":\"\"},\"baxis\":{\"gridcolor\":\"white\",\"linecolor\":\"white\",\"ticks\":\"\"},\"caxis\":{\"gridcolor\":\"white\",\"linecolor\":\"white\",\"ticks\":\"\"}},\"coloraxis\":{\"colorbar\":{\"outlinewidth\":0,\"ticks\":\"\"}},\"colorscale\":{\"sequential\":[[0.0,\"#0d0887\"],[0.1111111111111111,\"#46039f\"],[0.2222222222222222,\"#7201a8\"],[0.3333333333333333,\"#9c179e\"],[0.4444444444444444,\"#bd3786\"],[0.5555555555555556,\"#d8576b\"],[0.6666666666666666,\"#ed7953\"],[0.7777777777777778,\"#fb9f3a\"],[0.8888888888888888,\"#fdca26\"],[1.0,\"#f0f921\"]],\"sequentialminus\":[[0.0,\"#0d0887\"],[0.1111111111111111,\"#46039f\"],[0.2222222222222222,\"#7201a8\"],[0.3333333333333333,\"#9c179e\"],[0.4444444444444444,\"#bd3786\"],[0.5555555555555556,\"#d8576b\"],[0.6666666666666666,\"#ed7953\"],[0.7777777777777778,\"#fb9f3a\"],[0.8888888888888888,\"#fdca26\"],[1.0,\"#f0f921\"]],\"diverging\":[[0,\"#8e0152\"],[0.1,\"#c51b7d\"],[0.2,\"#de77ae\"],[0.3,\"#f1b6da\"],[0.4,\"#fde0ef\"],[0.5,\"#f7f7f7\"],[0.6,\"#e6f5d0\"],[0.7,\"#b8e186\"],[0.8,\"#7fbc41\"],[0.9,\"#4d9221\"],[1,\"#276419\"]]},\"xaxis\":{\"gridcolor\":\"white\",\"linecolor\":\"white\",\"ticks\":\"\",\"title\":{\"standoff\":15},\"zerolinecolor\":\"white\",\"automargin\":true,\"zerolinewidth\":2},\"yaxis\":{\"gridcolor\":\"white\",\"linecolor\":\"white\",\"ticks\":\"\",\"title\":{\"standoff\":15},\"zerolinecolor\":\"white\",\"automargin\":true,\"zerolinewidth\":2},\"scene\":{\"xaxis\":{\"backgroundcolor\":\"#E5ECF6\",\"gridcolor\":\"white\",\"linecolor\":\"white\",\"showbackground\":true,\"ticks\":\"\",\"zerolinecolor\":\"white\",\"gridwidth\":2},\"yaxis\":{\"backgroundcolor\":\"#E5ECF6\",\"gridcolor\":\"white\",\"linecolor\":\"white\",\"showbackground\":true,\"ticks\":\"\",\"zerolinecolor\":\"white\",\"gridwidth\":2},\"zaxis\":{\"backgroundcolor\":\"#E5ECF6\",\"gridcolor\":\"white\",\"linecolor\":\"white\",\"showbackground\":true,\"ticks\":\"\",\"zerolinecolor\":\"white\",\"gridwidth\":2}},\"shapedefaults\":{\"line\":{\"color\":\"#2a3f5f\"}},\"annotationdefaults\":{\"arrowcolor\":\"#2a3f5f\",\"arrowhead\":0,\"arrowwidth\":1},\"geo\":{\"bgcolor\":\"white\",\"landcolor\":\"#E5ECF6\",\"subunitcolor\":\"white\",\"showland\":true,\"showlakes\":true,\"lakecolor\":\"white\"},\"title\":{\"x\":0.05},\"mapbox\":{\"style\":\"light\"}}},\"xaxis\":{\"anchor\":\"y\",\"domain\":[0.0,1.0],\"title\":{\"text\":\"Insolation Flux [Earth Flux]\"}},\"yaxis\":{\"anchor\":\"x\",\"domain\":[0.0,1.0],\"title\":{\"text\":\"count\"}},\"legend\":{\"tracegroupgap\":0},\"title\":{\"text\":\"Distribution of Insolation Flux for Exoplanet Candidates Predicted as Exoplanets\"},\"barmode\":\"relative\",\"margin\":{\"l\":50,\"r\":50,\"t\":50,\"b\":50},\"bargap\":0.05,\"bargroupgap\":0.1,\"showlegend\":false},                        {\"responsive\": true}                    ).then(function(){\n",
              "                            \n",
              "var gd = document.getElementById('8d53d988-0bcd-4432-9acd-b103f890a16d');\n",
              "var x = new MutationObserver(function (mutations, observer) {{\n",
              "        var display = window.getComputedStyle(gd).display;\n",
              "        if (!display || display === 'none') {{\n",
              "            console.log([gd, 'removed!']);\n",
              "            Plotly.purge(gd);\n",
              "            observer.disconnect();\n",
              "        }}\n",
              "}});\n",
              "\n",
              "// Listen for the removal of the full notebook cells\n",
              "var notebookContainer = gd.closest('#notebook-container');\n",
              "if (notebookContainer) {{\n",
              "    x.observe(notebookContainer, {childList: true});\n",
              "}}\n",
              "\n",
              "// Listen for the clearing of the current output cell\n",
              "var outputEl = gd.closest('.output');\n",
              "if (outputEl) {{\n",
              "    x.observe(outputEl, {childList: true});\n",
              "}}\n",
              "\n",
              "                        })                };                            </script>        </div>\n",
              "</body>\n",
              "</html>"
            ]
          },
          "metadata": {}
        },
        {
          "output_type": "display_data",
          "data": {
            "text/html": [
              "<html>\n",
              "<head><meta charset=\"utf-8\" /></head>\n",
              "<body>\n",
              "    <div>            <script src=\"https://cdnjs.cloudflare.com/ajax/libs/mathjax/2.7.5/MathJax.js?config=TeX-AMS-MML_SVG\"></script><script type=\"text/javascript\">if (window.MathJax && window.MathJax.Hub && window.MathJax.Hub.Config) {window.MathJax.Hub.Config({SVG: {font: \"STIX-Web\"}});}</script>                <script type=\"text/javascript\">window.PlotlyConfig = {MathJaxConfig: 'local'};</script>\n",
              "        <script charset=\"utf-8\" src=\"https://cdn.plot.ly/plotly-2.24.1.min.js\"></script>                <div id=\"42b845f8-695b-4877-9fc4-98f30133c5c4\" class=\"plotly-graph-div\" style=\"height:525px; width:100%;\"></div>            <script type=\"text/javascript\">                                    window.PLOTLYENV=window.PLOTLYENV || {};                                    if (document.getElementById(\"42b845f8-695b-4877-9fc4-98f30133c5c4\")) {                    Plotly.newPlot(                        \"42b845f8-695b-4877-9fc4-98f30133c5c4\",                        [{\"alignmentgroup\":\"True\",\"bingroup\":\"x\",\"hovertemplate\":\"Number of Stars=%{x}\\u003cbr\\u003ecount=%{y}\\u003cextra\\u003e\\u003c\\u002fextra\\u003e\",\"legendgroup\":\"\",\"marker\":{\"color\":\"#636efa\",\"pattern\":{\"shape\":\"\"}},\"name\":\"\",\"offsetgroup\":\"\",\"orientation\":\"v\",\"showlegend\":false,\"x\":[1,1,1,1,1,1,1,1,1,1,1,1,1,1,1,1,1,1,1,1,1,1,1,1,1,1,1,1,1,1,1,1,1,1,1,1,1,1,1,1],\"xaxis\":\"x\",\"yaxis\":\"y\",\"type\":\"histogram\"}],                        {\"template\":{\"data\":{\"histogram2dcontour\":[{\"type\":\"histogram2dcontour\",\"colorbar\":{\"outlinewidth\":0,\"ticks\":\"\"},\"colorscale\":[[0.0,\"#0d0887\"],[0.1111111111111111,\"#46039f\"],[0.2222222222222222,\"#7201a8\"],[0.3333333333333333,\"#9c179e\"],[0.4444444444444444,\"#bd3786\"],[0.5555555555555556,\"#d8576b\"],[0.6666666666666666,\"#ed7953\"],[0.7777777777777778,\"#fb9f3a\"],[0.8888888888888888,\"#fdca26\"],[1.0,\"#f0f921\"]]}],\"choropleth\":[{\"type\":\"choropleth\",\"colorbar\":{\"outlinewidth\":0,\"ticks\":\"\"}}],\"histogram2d\":[{\"type\":\"histogram2d\",\"colorbar\":{\"outlinewidth\":0,\"ticks\":\"\"},\"colorscale\":[[0.0,\"#0d0887\"],[0.1111111111111111,\"#46039f\"],[0.2222222222222222,\"#7201a8\"],[0.3333333333333333,\"#9c179e\"],[0.4444444444444444,\"#bd3786\"],[0.5555555555555556,\"#d8576b\"],[0.6666666666666666,\"#ed7953\"],[0.7777777777777778,\"#fb9f3a\"],[0.8888888888888888,\"#fdca26\"],[1.0,\"#f0f921\"]]}],\"heatmap\":[{\"type\":\"heatmap\",\"colorbar\":{\"outlinewidth\":0,\"ticks\":\"\"},\"colorscale\":[[0.0,\"#0d0887\"],[0.1111111111111111,\"#46039f\"],[0.2222222222222222,\"#7201a8\"],[0.3333333333333333,\"#9c179e\"],[0.4444444444444444,\"#bd3786\"],[0.5555555555555556,\"#d8576b\"],[0.6666666666666666,\"#ed7953\"],[0.7777777777777778,\"#fb9f3a\"],[0.8888888888888888,\"#fdca26\"],[1.0,\"#f0f921\"]]}],\"heatmapgl\":[{\"type\":\"heatmapgl\",\"colorbar\":{\"outlinewidth\":0,\"ticks\":\"\"},\"colorscale\":[[0.0,\"#0d0887\"],[0.1111111111111111,\"#46039f\"],[0.2222222222222222,\"#7201a8\"],[0.3333333333333333,\"#9c179e\"],[0.4444444444444444,\"#bd3786\"],[0.5555555555555556,\"#d8576b\"],[0.6666666666666666,\"#ed7953\"],[0.7777777777777778,\"#fb9f3a\"],[0.8888888888888888,\"#fdca26\"],[1.0,\"#f0f921\"]]}],\"contourcarpet\":[{\"type\":\"contourcarpet\",\"colorbar\":{\"outlinewidth\":0,\"ticks\":\"\"}}],\"contour\":[{\"type\":\"contour\",\"colorbar\":{\"outlinewidth\":0,\"ticks\":\"\"},\"colorscale\":[[0.0,\"#0d0887\"],[0.1111111111111111,\"#46039f\"],[0.2222222222222222,\"#7201a8\"],[0.3333333333333333,\"#9c179e\"],[0.4444444444444444,\"#bd3786\"],[0.5555555555555556,\"#d8576b\"],[0.6666666666666666,\"#ed7953\"],[0.7777777777777778,\"#fb9f3a\"],[0.8888888888888888,\"#fdca26\"],[1.0,\"#f0f921\"]]}],\"surface\":[{\"type\":\"surface\",\"colorbar\":{\"outlinewidth\":0,\"ticks\":\"\"},\"colorscale\":[[0.0,\"#0d0887\"],[0.1111111111111111,\"#46039f\"],[0.2222222222222222,\"#7201a8\"],[0.3333333333333333,\"#9c179e\"],[0.4444444444444444,\"#bd3786\"],[0.5555555555555556,\"#d8576b\"],[0.6666666666666666,\"#ed7953\"],[0.7777777777777778,\"#fb9f3a\"],[0.8888888888888888,\"#fdca26\"],[1.0,\"#f0f921\"]]}],\"mesh3d\":[{\"type\":\"mesh3d\",\"colorbar\":{\"outlinewidth\":0,\"ticks\":\"\"}}],\"scatter\":[{\"fillpattern\":{\"fillmode\":\"overlay\",\"size\":10,\"solidity\":0.2},\"type\":\"scatter\"}],\"parcoords\":[{\"type\":\"parcoords\",\"line\":{\"colorbar\":{\"outlinewidth\":0,\"ticks\":\"\"}}}],\"scatterpolargl\":[{\"type\":\"scatterpolargl\",\"marker\":{\"colorbar\":{\"outlinewidth\":0,\"ticks\":\"\"}}}],\"bar\":[{\"error_x\":{\"color\":\"#2a3f5f\"},\"error_y\":{\"color\":\"#2a3f5f\"},\"marker\":{\"line\":{\"color\":\"#E5ECF6\",\"width\":0.5},\"pattern\":{\"fillmode\":\"overlay\",\"size\":10,\"solidity\":0.2}},\"type\":\"bar\"}],\"scattergeo\":[{\"type\":\"scattergeo\",\"marker\":{\"colorbar\":{\"outlinewidth\":0,\"ticks\":\"\"}}}],\"scatterpolar\":[{\"type\":\"scatterpolar\",\"marker\":{\"colorbar\":{\"outlinewidth\":0,\"ticks\":\"\"}}}],\"histogram\":[{\"marker\":{\"pattern\":{\"fillmode\":\"overlay\",\"size\":10,\"solidity\":0.2}},\"type\":\"histogram\"}],\"scattergl\":[{\"type\":\"scattergl\",\"marker\":{\"colorbar\":{\"outlinewidth\":0,\"ticks\":\"\"}}}],\"scatter3d\":[{\"type\":\"scatter3d\",\"line\":{\"colorbar\":{\"outlinewidth\":0,\"ticks\":\"\"}},\"marker\":{\"colorbar\":{\"outlinewidth\":0,\"ticks\":\"\"}}}],\"scattermapbox\":[{\"type\":\"scattermapbox\",\"marker\":{\"colorbar\":{\"outlinewidth\":0,\"ticks\":\"\"}}}],\"scatterternary\":[{\"type\":\"scatterternary\",\"marker\":{\"colorbar\":{\"outlinewidth\":0,\"ticks\":\"\"}}}],\"scattercarpet\":[{\"type\":\"scattercarpet\",\"marker\":{\"colorbar\":{\"outlinewidth\":0,\"ticks\":\"\"}}}],\"carpet\":[{\"aaxis\":{\"endlinecolor\":\"#2a3f5f\",\"gridcolor\":\"white\",\"linecolor\":\"white\",\"minorgridcolor\":\"white\",\"startlinecolor\":\"#2a3f5f\"},\"baxis\":{\"endlinecolor\":\"#2a3f5f\",\"gridcolor\":\"white\",\"linecolor\":\"white\",\"minorgridcolor\":\"white\",\"startlinecolor\":\"#2a3f5f\"},\"type\":\"carpet\"}],\"table\":[{\"cells\":{\"fill\":{\"color\":\"#EBF0F8\"},\"line\":{\"color\":\"white\"}},\"header\":{\"fill\":{\"color\":\"#C8D4E3\"},\"line\":{\"color\":\"white\"}},\"type\":\"table\"}],\"barpolar\":[{\"marker\":{\"line\":{\"color\":\"#E5ECF6\",\"width\":0.5},\"pattern\":{\"fillmode\":\"overlay\",\"size\":10,\"solidity\":0.2}},\"type\":\"barpolar\"}],\"pie\":[{\"automargin\":true,\"type\":\"pie\"}]},\"layout\":{\"autotypenumbers\":\"strict\",\"colorway\":[\"#636efa\",\"#EF553B\",\"#00cc96\",\"#ab63fa\",\"#FFA15A\",\"#19d3f3\",\"#FF6692\",\"#B6E880\",\"#FF97FF\",\"#FECB52\"],\"font\":{\"color\":\"#2a3f5f\"},\"hovermode\":\"closest\",\"hoverlabel\":{\"align\":\"left\"},\"paper_bgcolor\":\"white\",\"plot_bgcolor\":\"#E5ECF6\",\"polar\":{\"bgcolor\":\"#E5ECF6\",\"angularaxis\":{\"gridcolor\":\"white\",\"linecolor\":\"white\",\"ticks\":\"\"},\"radialaxis\":{\"gridcolor\":\"white\",\"linecolor\":\"white\",\"ticks\":\"\"}},\"ternary\":{\"bgcolor\":\"#E5ECF6\",\"aaxis\":{\"gridcolor\":\"white\",\"linecolor\":\"white\",\"ticks\":\"\"},\"baxis\":{\"gridcolor\":\"white\",\"linecolor\":\"white\",\"ticks\":\"\"},\"caxis\":{\"gridcolor\":\"white\",\"linecolor\":\"white\",\"ticks\":\"\"}},\"coloraxis\":{\"colorbar\":{\"outlinewidth\":0,\"ticks\":\"\"}},\"colorscale\":{\"sequential\":[[0.0,\"#0d0887\"],[0.1111111111111111,\"#46039f\"],[0.2222222222222222,\"#7201a8\"],[0.3333333333333333,\"#9c179e\"],[0.4444444444444444,\"#bd3786\"],[0.5555555555555556,\"#d8576b\"],[0.6666666666666666,\"#ed7953\"],[0.7777777777777778,\"#fb9f3a\"],[0.8888888888888888,\"#fdca26\"],[1.0,\"#f0f921\"]],\"sequentialminus\":[[0.0,\"#0d0887\"],[0.1111111111111111,\"#46039f\"],[0.2222222222222222,\"#7201a8\"],[0.3333333333333333,\"#9c179e\"],[0.4444444444444444,\"#bd3786\"],[0.5555555555555556,\"#d8576b\"],[0.6666666666666666,\"#ed7953\"],[0.7777777777777778,\"#fb9f3a\"],[0.8888888888888888,\"#fdca26\"],[1.0,\"#f0f921\"]],\"diverging\":[[0,\"#8e0152\"],[0.1,\"#c51b7d\"],[0.2,\"#de77ae\"],[0.3,\"#f1b6da\"],[0.4,\"#fde0ef\"],[0.5,\"#f7f7f7\"],[0.6,\"#e6f5d0\"],[0.7,\"#b8e186\"],[0.8,\"#7fbc41\"],[0.9,\"#4d9221\"],[1,\"#276419\"]]},\"xaxis\":{\"gridcolor\":\"white\",\"linecolor\":\"white\",\"ticks\":\"\",\"title\":{\"standoff\":15},\"zerolinecolor\":\"white\",\"automargin\":true,\"zerolinewidth\":2},\"yaxis\":{\"gridcolor\":\"white\",\"linecolor\":\"white\",\"ticks\":\"\",\"title\":{\"standoff\":15},\"zerolinecolor\":\"white\",\"automargin\":true,\"zerolinewidth\":2},\"scene\":{\"xaxis\":{\"backgroundcolor\":\"#E5ECF6\",\"gridcolor\":\"white\",\"linecolor\":\"white\",\"showbackground\":true,\"ticks\":\"\",\"zerolinecolor\":\"white\",\"gridwidth\":2},\"yaxis\":{\"backgroundcolor\":\"#E5ECF6\",\"gridcolor\":\"white\",\"linecolor\":\"white\",\"showbackground\":true,\"ticks\":\"\",\"zerolinecolor\":\"white\",\"gridwidth\":2},\"zaxis\":{\"backgroundcolor\":\"#E5ECF6\",\"gridcolor\":\"white\",\"linecolor\":\"white\",\"showbackground\":true,\"ticks\":\"\",\"zerolinecolor\":\"white\",\"gridwidth\":2}},\"shapedefaults\":{\"line\":{\"color\":\"#2a3f5f\"}},\"annotationdefaults\":{\"arrowcolor\":\"#2a3f5f\",\"arrowhead\":0,\"arrowwidth\":1},\"geo\":{\"bgcolor\":\"white\",\"landcolor\":\"#E5ECF6\",\"subunitcolor\":\"white\",\"showland\":true,\"showlakes\":true,\"lakecolor\":\"white\"},\"title\":{\"x\":0.05},\"mapbox\":{\"style\":\"light\"}}},\"xaxis\":{\"anchor\":\"y\",\"domain\":[0.0,1.0],\"title\":{\"text\":\"Number of Stars\"}},\"yaxis\":{\"anchor\":\"x\",\"domain\":[0.0,1.0],\"title\":{\"text\":\"count\"}},\"legend\":{\"tracegroupgap\":0},\"title\":{\"text\":\"Number of Stars in a System with an Exoplanet Candidate Predicted as an Exoplanet\"},\"barmode\":\"relative\",\"margin\":{\"l\":50,\"r\":50,\"t\":50,\"b\":50},\"bargap\":0.05,\"bargroupgap\":0.7,\"showlegend\":false},                        {\"responsive\": true}                    ).then(function(){\n",
              "                            \n",
              "var gd = document.getElementById('42b845f8-695b-4877-9fc4-98f30133c5c4');\n",
              "var x = new MutationObserver(function (mutations, observer) {{\n",
              "        var display = window.getComputedStyle(gd).display;\n",
              "        if (!display || display === 'none') {{\n",
              "            console.log([gd, 'removed!']);\n",
              "            Plotly.purge(gd);\n",
              "            observer.disconnect();\n",
              "        }}\n",
              "}});\n",
              "\n",
              "// Listen for the removal of the full notebook cells\n",
              "var notebookContainer = gd.closest('#notebook-container');\n",
              "if (notebookContainer) {{\n",
              "    x.observe(notebookContainer, {childList: true});\n",
              "}}\n",
              "\n",
              "// Listen for the clearing of the current output cell\n",
              "var outputEl = gd.closest('.output');\n",
              "if (outputEl) {{\n",
              "    x.observe(outputEl, {childList: true});\n",
              "}}\n",
              "\n",
              "                        })                };                            </script>        </div>\n",
              "</body>\n",
              "</html>"
            ]
          },
          "metadata": {}
        },
        {
          "output_type": "display_data",
          "data": {
            "text/html": [
              "<html>\n",
              "<head><meta charset=\"utf-8\" /></head>\n",
              "<body>\n",
              "    <div>            <script src=\"https://cdnjs.cloudflare.com/ajax/libs/mathjax/2.7.5/MathJax.js?config=TeX-AMS-MML_SVG\"></script><script type=\"text/javascript\">if (window.MathJax && window.MathJax.Hub && window.MathJax.Hub.Config) {window.MathJax.Hub.Config({SVG: {font: \"STIX-Web\"}});}</script>                <script type=\"text/javascript\">window.PlotlyConfig = {MathJaxConfig: 'local'};</script>\n",
              "        <script charset=\"utf-8\" src=\"https://cdn.plot.ly/plotly-2.24.1.min.js\"></script>                <div id=\"fa364db0-3a3a-40e4-95ca-cc81d86aebce\" class=\"plotly-graph-div\" style=\"height:525px; width:100%;\"></div>            <script type=\"text/javascript\">                                    window.PLOTLYENV=window.PLOTLYENV || {};                                    if (document.getElementById(\"fa364db0-3a3a-40e4-95ca-cc81d86aebce\")) {                    Plotly.newPlot(                        \"fa364db0-3a3a-40e4-95ca-cc81d86aebce\",                        [{\"alignmentgroup\":\"True\",\"bingroup\":\"x\",\"hovertemplate\":\"Semi-major axis of the Planet's orbit=%{x}\\u003cbr\\u003ecount=%{y}\\u003cextra\\u003e\\u003c\\u002fextra\\u003e\",\"legendgroup\":\"\",\"marker\":{\"color\":\"#636efa\",\"pattern\":{\"shape\":\"\"}},\"name\":\"\",\"offsetgroup\":\"\",\"orientation\":\"v\",\"showlegend\":false,\"x\":[null,null,null,null,null,null,null,null,null,null,null,null,null,null,null,null,null,null,null,null,null,null,null,null,null,null,null,0.32,0.3501,null,null,null,0.2688,0.228,0.1984,null,null,null,null,null],\"xaxis\":\"x\",\"yaxis\":\"y\",\"type\":\"histogram\"}],                        {\"template\":{\"data\":{\"histogram2dcontour\":[{\"type\":\"histogram2dcontour\",\"colorbar\":{\"outlinewidth\":0,\"ticks\":\"\"},\"colorscale\":[[0.0,\"#0d0887\"],[0.1111111111111111,\"#46039f\"],[0.2222222222222222,\"#7201a8\"],[0.3333333333333333,\"#9c179e\"],[0.4444444444444444,\"#bd3786\"],[0.5555555555555556,\"#d8576b\"],[0.6666666666666666,\"#ed7953\"],[0.7777777777777778,\"#fb9f3a\"],[0.8888888888888888,\"#fdca26\"],[1.0,\"#f0f921\"]]}],\"choropleth\":[{\"type\":\"choropleth\",\"colorbar\":{\"outlinewidth\":0,\"ticks\":\"\"}}],\"histogram2d\":[{\"type\":\"histogram2d\",\"colorbar\":{\"outlinewidth\":0,\"ticks\":\"\"},\"colorscale\":[[0.0,\"#0d0887\"],[0.1111111111111111,\"#46039f\"],[0.2222222222222222,\"#7201a8\"],[0.3333333333333333,\"#9c179e\"],[0.4444444444444444,\"#bd3786\"],[0.5555555555555556,\"#d8576b\"],[0.6666666666666666,\"#ed7953\"],[0.7777777777777778,\"#fb9f3a\"],[0.8888888888888888,\"#fdca26\"],[1.0,\"#f0f921\"]]}],\"heatmap\":[{\"type\":\"heatmap\",\"colorbar\":{\"outlinewidth\":0,\"ticks\":\"\"},\"colorscale\":[[0.0,\"#0d0887\"],[0.1111111111111111,\"#46039f\"],[0.2222222222222222,\"#7201a8\"],[0.3333333333333333,\"#9c179e\"],[0.4444444444444444,\"#bd3786\"],[0.5555555555555556,\"#d8576b\"],[0.6666666666666666,\"#ed7953\"],[0.7777777777777778,\"#fb9f3a\"],[0.8888888888888888,\"#fdca26\"],[1.0,\"#f0f921\"]]}],\"heatmapgl\":[{\"type\":\"heatmapgl\",\"colorbar\":{\"outlinewidth\":0,\"ticks\":\"\"},\"colorscale\":[[0.0,\"#0d0887\"],[0.1111111111111111,\"#46039f\"],[0.2222222222222222,\"#7201a8\"],[0.3333333333333333,\"#9c179e\"],[0.4444444444444444,\"#bd3786\"],[0.5555555555555556,\"#d8576b\"],[0.6666666666666666,\"#ed7953\"],[0.7777777777777778,\"#fb9f3a\"],[0.8888888888888888,\"#fdca26\"],[1.0,\"#f0f921\"]]}],\"contourcarpet\":[{\"type\":\"contourcarpet\",\"colorbar\":{\"outlinewidth\":0,\"ticks\":\"\"}}],\"contour\":[{\"type\":\"contour\",\"colorbar\":{\"outlinewidth\":0,\"ticks\":\"\"},\"colorscale\":[[0.0,\"#0d0887\"],[0.1111111111111111,\"#46039f\"],[0.2222222222222222,\"#7201a8\"],[0.3333333333333333,\"#9c179e\"],[0.4444444444444444,\"#bd3786\"],[0.5555555555555556,\"#d8576b\"],[0.6666666666666666,\"#ed7953\"],[0.7777777777777778,\"#fb9f3a\"],[0.8888888888888888,\"#fdca26\"],[1.0,\"#f0f921\"]]}],\"surface\":[{\"type\":\"surface\",\"colorbar\":{\"outlinewidth\":0,\"ticks\":\"\"},\"colorscale\":[[0.0,\"#0d0887\"],[0.1111111111111111,\"#46039f\"],[0.2222222222222222,\"#7201a8\"],[0.3333333333333333,\"#9c179e\"],[0.4444444444444444,\"#bd3786\"],[0.5555555555555556,\"#d8576b\"],[0.6666666666666666,\"#ed7953\"],[0.7777777777777778,\"#fb9f3a\"],[0.8888888888888888,\"#fdca26\"],[1.0,\"#f0f921\"]]}],\"mesh3d\":[{\"type\":\"mesh3d\",\"colorbar\":{\"outlinewidth\":0,\"ticks\":\"\"}}],\"scatter\":[{\"fillpattern\":{\"fillmode\":\"overlay\",\"size\":10,\"solidity\":0.2},\"type\":\"scatter\"}],\"parcoords\":[{\"type\":\"parcoords\",\"line\":{\"colorbar\":{\"outlinewidth\":0,\"ticks\":\"\"}}}],\"scatterpolargl\":[{\"type\":\"scatterpolargl\",\"marker\":{\"colorbar\":{\"outlinewidth\":0,\"ticks\":\"\"}}}],\"bar\":[{\"error_x\":{\"color\":\"#2a3f5f\"},\"error_y\":{\"color\":\"#2a3f5f\"},\"marker\":{\"line\":{\"color\":\"#E5ECF6\",\"width\":0.5},\"pattern\":{\"fillmode\":\"overlay\",\"size\":10,\"solidity\":0.2}},\"type\":\"bar\"}],\"scattergeo\":[{\"type\":\"scattergeo\",\"marker\":{\"colorbar\":{\"outlinewidth\":0,\"ticks\":\"\"}}}],\"scatterpolar\":[{\"type\":\"scatterpolar\",\"marker\":{\"colorbar\":{\"outlinewidth\":0,\"ticks\":\"\"}}}],\"histogram\":[{\"marker\":{\"pattern\":{\"fillmode\":\"overlay\",\"size\":10,\"solidity\":0.2}},\"type\":\"histogram\"}],\"scattergl\":[{\"type\":\"scattergl\",\"marker\":{\"colorbar\":{\"outlinewidth\":0,\"ticks\":\"\"}}}],\"scatter3d\":[{\"type\":\"scatter3d\",\"line\":{\"colorbar\":{\"outlinewidth\":0,\"ticks\":\"\"}},\"marker\":{\"colorbar\":{\"outlinewidth\":0,\"ticks\":\"\"}}}],\"scattermapbox\":[{\"type\":\"scattermapbox\",\"marker\":{\"colorbar\":{\"outlinewidth\":0,\"ticks\":\"\"}}}],\"scatterternary\":[{\"type\":\"scatterternary\",\"marker\":{\"colorbar\":{\"outlinewidth\":0,\"ticks\":\"\"}}}],\"scattercarpet\":[{\"type\":\"scattercarpet\",\"marker\":{\"colorbar\":{\"outlinewidth\":0,\"ticks\":\"\"}}}],\"carpet\":[{\"aaxis\":{\"endlinecolor\":\"#2a3f5f\",\"gridcolor\":\"white\",\"linecolor\":\"white\",\"minorgridcolor\":\"white\",\"startlinecolor\":\"#2a3f5f\"},\"baxis\":{\"endlinecolor\":\"#2a3f5f\",\"gridcolor\":\"white\",\"linecolor\":\"white\",\"minorgridcolor\":\"white\",\"startlinecolor\":\"#2a3f5f\"},\"type\":\"carpet\"}],\"table\":[{\"cells\":{\"fill\":{\"color\":\"#EBF0F8\"},\"line\":{\"color\":\"white\"}},\"header\":{\"fill\":{\"color\":\"#C8D4E3\"},\"line\":{\"color\":\"white\"}},\"type\":\"table\"}],\"barpolar\":[{\"marker\":{\"line\":{\"color\":\"#E5ECF6\",\"width\":0.5},\"pattern\":{\"fillmode\":\"overlay\",\"size\":10,\"solidity\":0.2}},\"type\":\"barpolar\"}],\"pie\":[{\"automargin\":true,\"type\":\"pie\"}]},\"layout\":{\"autotypenumbers\":\"strict\",\"colorway\":[\"#636efa\",\"#EF553B\",\"#00cc96\",\"#ab63fa\",\"#FFA15A\",\"#19d3f3\",\"#FF6692\",\"#B6E880\",\"#FF97FF\",\"#FECB52\"],\"font\":{\"color\":\"#2a3f5f\"},\"hovermode\":\"closest\",\"hoverlabel\":{\"align\":\"left\"},\"paper_bgcolor\":\"white\",\"plot_bgcolor\":\"#E5ECF6\",\"polar\":{\"bgcolor\":\"#E5ECF6\",\"angularaxis\":{\"gridcolor\":\"white\",\"linecolor\":\"white\",\"ticks\":\"\"},\"radialaxis\":{\"gridcolor\":\"white\",\"linecolor\":\"white\",\"ticks\":\"\"}},\"ternary\":{\"bgcolor\":\"#E5ECF6\",\"aaxis\":{\"gridcolor\":\"white\",\"linecolor\":\"white\",\"ticks\":\"\"},\"baxis\":{\"gridcolor\":\"white\",\"linecolor\":\"white\",\"ticks\":\"\"},\"caxis\":{\"gridcolor\":\"white\",\"linecolor\":\"white\",\"ticks\":\"\"}},\"coloraxis\":{\"colorbar\":{\"outlinewidth\":0,\"ticks\":\"\"}},\"colorscale\":{\"sequential\":[[0.0,\"#0d0887\"],[0.1111111111111111,\"#46039f\"],[0.2222222222222222,\"#7201a8\"],[0.3333333333333333,\"#9c179e\"],[0.4444444444444444,\"#bd3786\"],[0.5555555555555556,\"#d8576b\"],[0.6666666666666666,\"#ed7953\"],[0.7777777777777778,\"#fb9f3a\"],[0.8888888888888888,\"#fdca26\"],[1.0,\"#f0f921\"]],\"sequentialminus\":[[0.0,\"#0d0887\"],[0.1111111111111111,\"#46039f\"],[0.2222222222222222,\"#7201a8\"],[0.3333333333333333,\"#9c179e\"],[0.4444444444444444,\"#bd3786\"],[0.5555555555555556,\"#d8576b\"],[0.6666666666666666,\"#ed7953\"],[0.7777777777777778,\"#fb9f3a\"],[0.8888888888888888,\"#fdca26\"],[1.0,\"#f0f921\"]],\"diverging\":[[0,\"#8e0152\"],[0.1,\"#c51b7d\"],[0.2,\"#de77ae\"],[0.3,\"#f1b6da\"],[0.4,\"#fde0ef\"],[0.5,\"#f7f7f7\"],[0.6,\"#e6f5d0\"],[0.7,\"#b8e186\"],[0.8,\"#7fbc41\"],[0.9,\"#4d9221\"],[1,\"#276419\"]]},\"xaxis\":{\"gridcolor\":\"white\",\"linecolor\":\"white\",\"ticks\":\"\",\"title\":{\"standoff\":15},\"zerolinecolor\":\"white\",\"automargin\":true,\"zerolinewidth\":2},\"yaxis\":{\"gridcolor\":\"white\",\"linecolor\":\"white\",\"ticks\":\"\",\"title\":{\"standoff\":15},\"zerolinecolor\":\"white\",\"automargin\":true,\"zerolinewidth\":2},\"scene\":{\"xaxis\":{\"backgroundcolor\":\"#E5ECF6\",\"gridcolor\":\"white\",\"linecolor\":\"white\",\"showbackground\":true,\"ticks\":\"\",\"zerolinecolor\":\"white\",\"gridwidth\":2},\"yaxis\":{\"backgroundcolor\":\"#E5ECF6\",\"gridcolor\":\"white\",\"linecolor\":\"white\",\"showbackground\":true,\"ticks\":\"\",\"zerolinecolor\":\"white\",\"gridwidth\":2},\"zaxis\":{\"backgroundcolor\":\"#E5ECF6\",\"gridcolor\":\"white\",\"linecolor\":\"white\",\"showbackground\":true,\"ticks\":\"\",\"zerolinecolor\":\"white\",\"gridwidth\":2}},\"shapedefaults\":{\"line\":{\"color\":\"#2a3f5f\"}},\"annotationdefaults\":{\"arrowcolor\":\"#2a3f5f\",\"arrowhead\":0,\"arrowwidth\":1},\"geo\":{\"bgcolor\":\"white\",\"landcolor\":\"#E5ECF6\",\"subunitcolor\":\"white\",\"showland\":true,\"showlakes\":true,\"lakecolor\":\"white\"},\"title\":{\"x\":0.05},\"mapbox\":{\"style\":\"light\"}}},\"xaxis\":{\"anchor\":\"y\",\"domain\":[0.0,1.0],\"title\":{\"text\":\"Semi-major axis of the Planet's orbit\"}},\"yaxis\":{\"anchor\":\"x\",\"domain\":[0.0,1.0],\"title\":{\"text\":\"count\"}},\"legend\":{\"tracegroupgap\":0},\"title\":{\"text\":\"Distance each Exoplanet Candidate Predicted as an Exoplanet has from its respective star\"},\"barmode\":\"relative\",\"margin\":{\"l\":50,\"r\":50,\"t\":50,\"b\":50},\"bargap\":0.05,\"bargroupgap\":0.5,\"showlegend\":false},                        {\"responsive\": true}                    ).then(function(){\n",
              "                            \n",
              "var gd = document.getElementById('fa364db0-3a3a-40e4-95ca-cc81d86aebce');\n",
              "var x = new MutationObserver(function (mutations, observer) {{\n",
              "        var display = window.getComputedStyle(gd).display;\n",
              "        if (!display || display === 'none') {{\n",
              "            console.log([gd, 'removed!']);\n",
              "            Plotly.purge(gd);\n",
              "            observer.disconnect();\n",
              "        }}\n",
              "}});\n",
              "\n",
              "// Listen for the removal of the full notebook cells\n",
              "var notebookContainer = gd.closest('#notebook-container');\n",
              "if (notebookContainer) {{\n",
              "    x.observe(notebookContainer, {childList: true});\n",
              "}}\n",
              "\n",
              "// Listen for the clearing of the current output cell\n",
              "var outputEl = gd.closest('.output');\n",
              "if (outputEl) {{\n",
              "    x.observe(outputEl, {childList: true});\n",
              "}}\n",
              "\n",
              "                        })                };                            </script>        </div>\n",
              "</body>\n",
              "</html>"
            ]
          },
          "metadata": {}
        }
      ]
    }
  ]
}